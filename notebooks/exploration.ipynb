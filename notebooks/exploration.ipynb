{
 "cells": [
  {
   "cell_type": "markdown",
   "metadata": {},
   "source": [
    "# Overview"
   ]
  },
  {
   "cell_type": "markdown",
   "metadata": {},
   "source": [
    "This notebook is used for exploring the data and documenting findings."
   ]
  },
  {
   "cell_type": "markdown",
   "metadata": {},
   "source": [
    "# Initial setup"
   ]
  },
  {
   "cell_type": "code",
   "execution_count": 1,
   "metadata": {},
   "outputs": [],
   "source": [
    "# Import libraries\n",
    "import glob\n",
    "import pandas as pd\n",
    "import numpy as np\n",
    "import sqlite3\n",
    "from sklearn.model_selection import train_test_split"
   ]
  },
  {
   "cell_type": "code",
   "execution_count": 2,
   "metadata": {},
   "outputs": [],
   "source": [
    "# Load raw data\n",
    "file_path = \"../data/raw\"\n",
    "raw_files = glob.glob(file_path + \"/*.csv\")\n",
    "\n",
    "file_list = []\n",
    "\n",
    "for file in raw_files:\n",
    "    file_list.append(pd.read_csv(file, index_col=None, header=0))\n",
    "\n",
    "raw_data = pd.concat(file_list, axis=0, ignore_index=True)"
   ]
  },
  {
   "cell_type": "code",
   "execution_count": 3,
   "metadata": {},
   "outputs": [
    {
     "output_type": "stream",
     "name": "stdout",
     "text": "(3818852, 5)\n"
    },
    {
     "output_type": "execute_result",
     "data": {
      "text/plain": "   Random_ID    RegistrationTime     OutCome DonationType DonationLocation\n0   52156190  6/27/2015 12:47:00    Donation  Whole Blood           Center\n1   52825057   2/26/2015 9:53:00    Donation  2 Units RBC           Mobile\n2   53025596   9/8/2015 16:49:59    Donation  Whole Blood           Mobile\n3    2056692  8/26/2015 12:15:00    Donation  Whole Blood           Mobile\n4   52879521  1/26/2015 17:18:00  Incomplete  Whole Blood           Center",
      "text/html": "<div>\n<style scoped>\n    .dataframe tbody tr th:only-of-type {\n        vertical-align: middle;\n    }\n\n    .dataframe tbody tr th {\n        vertical-align: top;\n    }\n\n    .dataframe thead th {\n        text-align: right;\n    }\n</style>\n<table border=\"1\" class=\"dataframe\">\n  <thead>\n    <tr style=\"text-align: right;\">\n      <th></th>\n      <th>Random_ID</th>\n      <th>RegistrationTime</th>\n      <th>OutCome</th>\n      <th>DonationType</th>\n      <th>DonationLocation</th>\n    </tr>\n  </thead>\n  <tbody>\n    <tr>\n      <th>0</th>\n      <td>52156190</td>\n      <td>6/27/2015 12:47:00</td>\n      <td>Donation</td>\n      <td>Whole Blood</td>\n      <td>Center</td>\n    </tr>\n    <tr>\n      <th>1</th>\n      <td>52825057</td>\n      <td>2/26/2015 9:53:00</td>\n      <td>Donation</td>\n      <td>2 Units RBC</td>\n      <td>Mobile</td>\n    </tr>\n    <tr>\n      <th>2</th>\n      <td>53025596</td>\n      <td>9/8/2015 16:49:59</td>\n      <td>Donation</td>\n      <td>Whole Blood</td>\n      <td>Mobile</td>\n    </tr>\n    <tr>\n      <th>3</th>\n      <td>2056692</td>\n      <td>8/26/2015 12:15:00</td>\n      <td>Donation</td>\n      <td>Whole Blood</td>\n      <td>Mobile</td>\n    </tr>\n    <tr>\n      <th>4</th>\n      <td>52879521</td>\n      <td>1/26/2015 17:18:00</td>\n      <td>Incomplete</td>\n      <td>Whole Blood</td>\n      <td>Center</td>\n    </tr>\n  </tbody>\n</table>\n</div>"
     },
     "metadata": {},
     "execution_count": 3
    }
   ],
   "source": [
    "print(raw_data.shape)\n",
    "raw_data.head()"
   ]
  },
  {
   "cell_type": "markdown",
   "metadata": {},
   "source": [
    "# Clean raw data"
   ]
  },
  {
   "cell_type": "code",
   "execution_count": 4,
   "metadata": {},
   "outputs": [
    {
     "output_type": "execute_result",
     "data": {
      "text/plain": "         Random_ID    RegistrationTime   OutCome        DonationType  \\\n9589      53639912  6/23/2015 14:20:59  Donation         Whole Blood   \n30664     52877130  4/13/2015 16:49:00  Donation         Whole Blood   \n55262     52869439  9/11/2015 13:38:00  Donation         Whole Blood   \n236526    53594657  6/23/2015 15:55:00  Donation         Whole Blood   \n240689    53165336   8/7/2015 17:19:59  Donation         Whole Blood   \n268039    53256162                  11       NaN                 NaN   \n284335    53373866     7/11/2016 17:42  Donation         Whole Blood   \n596076    52879414     9/20/2016 14:42  Donation         Whole Blood   \n670560    52971104    12/29/2016 13:49  Donation         Whole Blood   \n737587    53591355     3/23/2016 14:57  Donation         2 Units RBC   \n1660173    1160874  6/17/2017 10:08:00  Donation  Platelet Apheresis   \n1683446   54213719  7/15/2017 20:22:00  Donation         2 Units RBC   \n2076386   53929042  5/12/2017 16:59:00  Donation         Whole Blood   \n2175752   53742940   6/6/2017 13:41:00  Donation         Whole Blood   \n2223875   54766854  7/27/2017 17:49:00  Donation         Whole Blood   \n2787934   54826892   9/5/2018 13:27:00  Donation         Whole Blood   \n3213459   55696471  8/19/2019 11:27:59  Donation         Whole Blood   \n\n        DonationLocation  \n9589                 NaN  \n30664                NaN  \n55262                NaN  \n236526               NaN  \n240689               NaN  \n268039               NaN  \n284335               NaN  \n596076               NaN  \n670560               NaN  \n737587               NaN  \n1660173              NaN  \n1683446              NaN  \n2076386              NaN  \n2175752              NaN  \n2223875              NaN  \n2787934              NaN  \n3213459              NaN  ",
      "text/html": "<div>\n<style scoped>\n    .dataframe tbody tr th:only-of-type {\n        vertical-align: middle;\n    }\n\n    .dataframe tbody tr th {\n        vertical-align: top;\n    }\n\n    .dataframe thead th {\n        text-align: right;\n    }\n</style>\n<table border=\"1\" class=\"dataframe\">\n  <thead>\n    <tr style=\"text-align: right;\">\n      <th></th>\n      <th>Random_ID</th>\n      <th>RegistrationTime</th>\n      <th>OutCome</th>\n      <th>DonationType</th>\n      <th>DonationLocation</th>\n    </tr>\n  </thead>\n  <tbody>\n    <tr>\n      <th>9589</th>\n      <td>53639912</td>\n      <td>6/23/2015 14:20:59</td>\n      <td>Donation</td>\n      <td>Whole Blood</td>\n      <td>NaN</td>\n    </tr>\n    <tr>\n      <th>30664</th>\n      <td>52877130</td>\n      <td>4/13/2015 16:49:00</td>\n      <td>Donation</td>\n      <td>Whole Blood</td>\n      <td>NaN</td>\n    </tr>\n    <tr>\n      <th>55262</th>\n      <td>52869439</td>\n      <td>9/11/2015 13:38:00</td>\n      <td>Donation</td>\n      <td>Whole Blood</td>\n      <td>NaN</td>\n    </tr>\n    <tr>\n      <th>236526</th>\n      <td>53594657</td>\n      <td>6/23/2015 15:55:00</td>\n      <td>Donation</td>\n      <td>Whole Blood</td>\n      <td>NaN</td>\n    </tr>\n    <tr>\n      <th>240689</th>\n      <td>53165336</td>\n      <td>8/7/2015 17:19:59</td>\n      <td>Donation</td>\n      <td>Whole Blood</td>\n      <td>NaN</td>\n    </tr>\n    <tr>\n      <th>268039</th>\n      <td>53256162</td>\n      <td>11</td>\n      <td>NaN</td>\n      <td>NaN</td>\n      <td>NaN</td>\n    </tr>\n    <tr>\n      <th>284335</th>\n      <td>53373866</td>\n      <td>7/11/2016 17:42</td>\n      <td>Donation</td>\n      <td>Whole Blood</td>\n      <td>NaN</td>\n    </tr>\n    <tr>\n      <th>596076</th>\n      <td>52879414</td>\n      <td>9/20/2016 14:42</td>\n      <td>Donation</td>\n      <td>Whole Blood</td>\n      <td>NaN</td>\n    </tr>\n    <tr>\n      <th>670560</th>\n      <td>52971104</td>\n      <td>12/29/2016 13:49</td>\n      <td>Donation</td>\n      <td>Whole Blood</td>\n      <td>NaN</td>\n    </tr>\n    <tr>\n      <th>737587</th>\n      <td>53591355</td>\n      <td>3/23/2016 14:57</td>\n      <td>Donation</td>\n      <td>2 Units RBC</td>\n      <td>NaN</td>\n    </tr>\n    <tr>\n      <th>1660173</th>\n      <td>1160874</td>\n      <td>6/17/2017 10:08:00</td>\n      <td>Donation</td>\n      <td>Platelet Apheresis</td>\n      <td>NaN</td>\n    </tr>\n    <tr>\n      <th>1683446</th>\n      <td>54213719</td>\n      <td>7/15/2017 20:22:00</td>\n      <td>Donation</td>\n      <td>2 Units RBC</td>\n      <td>NaN</td>\n    </tr>\n    <tr>\n      <th>2076386</th>\n      <td>53929042</td>\n      <td>5/12/2017 16:59:00</td>\n      <td>Donation</td>\n      <td>Whole Blood</td>\n      <td>NaN</td>\n    </tr>\n    <tr>\n      <th>2175752</th>\n      <td>53742940</td>\n      <td>6/6/2017 13:41:00</td>\n      <td>Donation</td>\n      <td>Whole Blood</td>\n      <td>NaN</td>\n    </tr>\n    <tr>\n      <th>2223875</th>\n      <td>54766854</td>\n      <td>7/27/2017 17:49:00</td>\n      <td>Donation</td>\n      <td>Whole Blood</td>\n      <td>NaN</td>\n    </tr>\n    <tr>\n      <th>2787934</th>\n      <td>54826892</td>\n      <td>9/5/2018 13:27:00</td>\n      <td>Donation</td>\n      <td>Whole Blood</td>\n      <td>NaN</td>\n    </tr>\n    <tr>\n      <th>3213459</th>\n      <td>55696471</td>\n      <td>8/19/2019 11:27:59</td>\n      <td>Donation</td>\n      <td>Whole Blood</td>\n      <td>NaN</td>\n    </tr>\n  </tbody>\n</table>\n</div>"
     },
     "metadata": {},
     "execution_count": 4
    }
   ],
   "source": [
    "# Show where we have NaNs/nulls\n",
    "raw_data[raw_data.isnull().any(axis=1)]"
   ]
  },
  {
   "cell_type": "code",
   "execution_count": 5,
   "metadata": {},
   "outputs": [],
   "source": [
    "# Drop rows with nulls\n",
    "cleaned_data = raw_data.dropna(axis=0, how='any')"
   ]
  },
  {
   "cell_type": "code",
   "execution_count": 6,
   "metadata": {},
   "outputs": [
    {
     "output_type": "execute_result",
     "data": {
      "text/plain": "0   2015-06-27 12:47:00\n1   2015-02-26 09:53:00\n2   2015-09-08 16:49:59\n3   2015-08-26 12:15:00\n4   2015-01-26 17:18:00\nName: RegistrationTime, dtype: datetime64[ns]"
     },
     "metadata": {},
     "execution_count": 6
    }
   ],
   "source": [
    "# Clean up RegistrationTime: pad time with '00' seconds if only HH:MM is shown, then convert to a datetime type\n",
    "cleaned_data['RegistrationTime'] = cleaned_data['RegistrationTime'].apply(lambda c: c + ':00' if c.count(':') < 2 else c)\n",
    "cleaned_data['RegistrationTime'] = pd.to_datetime(cleaned_data['RegistrationTime'], format='%m/%d/%Y %H:%M:%S')\n",
    "cleaned_data['RegistrationTime'].head()"
   ]
  },
  {
   "cell_type": "code",
   "execution_count": 7,
   "metadata": {},
   "outputs": [
    {
     "output_type": "execute_result",
     "data": {
      "text/plain": "   Random_ID    RegistrationTime     OutCome DonationType DonationLocation\n0   52156190 2015-06-27 12:47:00    Donation  Whole Blood           Center\n1   52825057 2015-02-26 09:53:00    Donation  2 Units RBC           Mobile\n2   53025596 2015-09-08 16:49:59    Donation  Whole Blood           Mobile\n3    2056692 2015-08-26 12:15:00    Donation  Whole Blood           Mobile\n4   52879521 2015-01-26 17:18:00  Incomplete  Whole Blood           Center",
      "text/html": "<div>\n<style scoped>\n    .dataframe tbody tr th:only-of-type {\n        vertical-align: middle;\n    }\n\n    .dataframe tbody tr th {\n        vertical-align: top;\n    }\n\n    .dataframe thead th {\n        text-align: right;\n    }\n</style>\n<table border=\"1\" class=\"dataframe\">\n  <thead>\n    <tr style=\"text-align: right;\">\n      <th></th>\n      <th>Random_ID</th>\n      <th>RegistrationTime</th>\n      <th>OutCome</th>\n      <th>DonationType</th>\n      <th>DonationLocation</th>\n    </tr>\n  </thead>\n  <tbody>\n    <tr>\n      <th>0</th>\n      <td>52156190</td>\n      <td>2015-06-27 12:47:00</td>\n      <td>Donation</td>\n      <td>Whole Blood</td>\n      <td>Center</td>\n    </tr>\n    <tr>\n      <th>1</th>\n      <td>52825057</td>\n      <td>2015-02-26 09:53:00</td>\n      <td>Donation</td>\n      <td>2 Units RBC</td>\n      <td>Mobile</td>\n    </tr>\n    <tr>\n      <th>2</th>\n      <td>53025596</td>\n      <td>2015-09-08 16:49:59</td>\n      <td>Donation</td>\n      <td>Whole Blood</td>\n      <td>Mobile</td>\n    </tr>\n    <tr>\n      <th>3</th>\n      <td>2056692</td>\n      <td>2015-08-26 12:15:00</td>\n      <td>Donation</td>\n      <td>Whole Blood</td>\n      <td>Mobile</td>\n    </tr>\n    <tr>\n      <th>4</th>\n      <td>52879521</td>\n      <td>2015-01-26 17:18:00</td>\n      <td>Incomplete</td>\n      <td>Whole Blood</td>\n      <td>Center</td>\n    </tr>\n  </tbody>\n</table>\n</div>"
     },
     "metadata": {},
     "execution_count": 7
    }
   ],
   "source": [
    "cleaned_data.head()"
   ]
  },
  {
   "cell_type": "markdown",
   "metadata": {},
   "source": [
    "# Test pure Pandas"
   ]
  },
  {
   "cell_type": "code",
   "execution_count": 20,
   "metadata": {},
   "outputs": [],
   "source": [
    "subset_data = cleaned_data[cleaned_data['Random_ID'].isin([52437236, 54374547])]"
   ]
  },
  {
   "cell_type": "code",
   "execution_count": 21,
   "metadata": {},
   "outputs": [
    {
     "output_type": "execute_result",
     "data": {
      "text/plain": "         Random_ID    RegistrationTime     OutCome  \\\n12656     52437236 2015-04-14 12:31:00    Donation   \n15897     52437236 2015-03-13 12:50:59    Donation   \n60492     52437236 2015-10-30 12:18:00    Donation   \n71652     52437236 2015-12-16 10:35:59  Incomplete   \n74700     52437236 2015-12-22 10:04:59    Donation   \n...            ...                 ...         ...   \n3406300   54374547 2019-04-23 16:41:00    Donation   \n3679322   54374547 2019-06-22 15:41:00    Donation   \n3716121   52437236 2019-07-02 12:21:59    Donation   \n3746497   52437236 2019-07-20 13:13:00    Donation   \n3749418   52437236 2019-08-09 11:40:00    Donation   \n\n                            DonationType DonationLocation  \n12656    Platelets and Concurrent Plasma           Center  \n15897    Platelets and Concurrent Plasma           Center  \n60492                 Platelet Apheresis           Center  \n71652                 Platelet Apheresis           Center  \n74700                 Platelet Apheresis           Center  \n...                                  ...              ...  \n3406300                      Whole Blood           Center  \n3679322                      Whole Blood           Mobile  \n3716121               Platelet Apheresis           Center  \n3746497               Platelet Apheresis           Center  \n3749418  Platelets and Concurrent Plasma           Center  \n\n[70 rows x 5 columns]",
      "text/html": "<div>\n<style scoped>\n    .dataframe tbody tr th:only-of-type {\n        vertical-align: middle;\n    }\n\n    .dataframe tbody tr th {\n        vertical-align: top;\n    }\n\n    .dataframe thead th {\n        text-align: right;\n    }\n</style>\n<table border=\"1\" class=\"dataframe\">\n  <thead>\n    <tr style=\"text-align: right;\">\n      <th></th>\n      <th>Random_ID</th>\n      <th>RegistrationTime</th>\n      <th>OutCome</th>\n      <th>DonationType</th>\n      <th>DonationLocation</th>\n    </tr>\n  </thead>\n  <tbody>\n    <tr>\n      <th>12656</th>\n      <td>52437236</td>\n      <td>2015-04-14 12:31:00</td>\n      <td>Donation</td>\n      <td>Platelets and Concurrent Plasma</td>\n      <td>Center</td>\n    </tr>\n    <tr>\n      <th>15897</th>\n      <td>52437236</td>\n      <td>2015-03-13 12:50:59</td>\n      <td>Donation</td>\n      <td>Platelets and Concurrent Plasma</td>\n      <td>Center</td>\n    </tr>\n    <tr>\n      <th>60492</th>\n      <td>52437236</td>\n      <td>2015-10-30 12:18:00</td>\n      <td>Donation</td>\n      <td>Platelet Apheresis</td>\n      <td>Center</td>\n    </tr>\n    <tr>\n      <th>71652</th>\n      <td>52437236</td>\n      <td>2015-12-16 10:35:59</td>\n      <td>Incomplete</td>\n      <td>Platelet Apheresis</td>\n      <td>Center</td>\n    </tr>\n    <tr>\n      <th>74700</th>\n      <td>52437236</td>\n      <td>2015-12-22 10:04:59</td>\n      <td>Donation</td>\n      <td>Platelet Apheresis</td>\n      <td>Center</td>\n    </tr>\n    <tr>\n      <th>...</th>\n      <td>...</td>\n      <td>...</td>\n      <td>...</td>\n      <td>...</td>\n      <td>...</td>\n    </tr>\n    <tr>\n      <th>3406300</th>\n      <td>54374547</td>\n      <td>2019-04-23 16:41:00</td>\n      <td>Donation</td>\n      <td>Whole Blood</td>\n      <td>Center</td>\n    </tr>\n    <tr>\n      <th>3679322</th>\n      <td>54374547</td>\n      <td>2019-06-22 15:41:00</td>\n      <td>Donation</td>\n      <td>Whole Blood</td>\n      <td>Mobile</td>\n    </tr>\n    <tr>\n      <th>3716121</th>\n      <td>52437236</td>\n      <td>2019-07-02 12:21:59</td>\n      <td>Donation</td>\n      <td>Platelet Apheresis</td>\n      <td>Center</td>\n    </tr>\n    <tr>\n      <th>3746497</th>\n      <td>52437236</td>\n      <td>2019-07-20 13:13:00</td>\n      <td>Donation</td>\n      <td>Platelet Apheresis</td>\n      <td>Center</td>\n    </tr>\n    <tr>\n      <th>3749418</th>\n      <td>52437236</td>\n      <td>2019-08-09 11:40:00</td>\n      <td>Donation</td>\n      <td>Platelets and Concurrent Plasma</td>\n      <td>Center</td>\n    </tr>\n  </tbody>\n</table>\n<p>70 rows × 5 columns</p>\n</div>"
     },
     "metadata": {},
     "execution_count": 21
    }
   ],
   "source": [
    "subset_data"
   ]
  },
  {
   "cell_type": "code",
   "execution_count": 22,
   "metadata": {},
   "outputs": [],
   "source": [
    "cutoff_dates = ['2016-02-29 23:59:59', '2016-05-31 23:59:59']"
   ]
  },
  {
   "cell_type": "code",
   "execution_count": 23,
   "metadata": {},
   "outputs": [
    {
     "output_type": "stream",
     "name": "stdout",
     "text": "Cutoff date: 2016-02-29 23:59:59\nTarget period: 2016-03-01 00:00:00 - 2016-03-30 23:59:59\n"
    }
   ],
   "source": [
    "# for cutoff_date in cutoff_dates:\n",
    "cutoff = pd.to_datetime(cutoff_dates[0], format='%Y-%m-%d %H:%M:%S')\n",
    "target_start_date = cutoff + pd.Timedelta(seconds=1)\n",
    "target_end_date = cutoff + pd.Timedelta(days=30)\n",
    "print(f\"Cutoff date: {cutoff}\")\n",
    "print(f\"Target period: {target_start_date} - {target_end_date}\")"
   ]
  },
  {
   "cell_type": "code",
   "execution_count": 24,
   "metadata": {},
   "outputs": [
    {
     "output_type": "execute_result",
     "data": {
      "text/plain": "         Random_ID    RegistrationTime     OutCome  \\\n12656     52437236 2015-04-14 12:31:00    Donation   \n15897     52437236 2015-03-13 12:50:59    Donation   \n60492     52437236 2015-10-30 12:18:00    Donation   \n71652     52437236 2015-12-16 10:35:59  Incomplete   \n74700     52437236 2015-12-22 10:04:59    Donation   \n153157    54374547 2015-02-26 15:35:00    Donation   \n184026    52437236 2015-04-23 09:52:00    Donation   \n324709    52437236 2016-02-04 11:53:00    Donation   \n571062    52437236 2016-02-20 13:22:00    Donation   \n639975    52437236 2016-01-21 11:36:00    Donation   \n1131108   52437236 2016-01-02 13:50:00    Donation   \n\n                            DonationType DonationLocation          CutoffDate  \n12656    Platelets and Concurrent Plasma           Center 2016-02-29 23:59:59  \n15897    Platelets and Concurrent Plasma           Center 2016-02-29 23:59:59  \n60492                 Platelet Apheresis           Center 2016-02-29 23:59:59  \n71652                 Platelet Apheresis           Center 2016-02-29 23:59:59  \n74700                 Platelet Apheresis           Center 2016-02-29 23:59:59  \n153157                       Whole Blood           Center 2016-02-29 23:59:59  \n184026                Platelet Apheresis           Center 2016-02-29 23:59:59  \n324709                Platelet Apheresis           Center 2016-02-29 23:59:59  \n571062                Platelet Apheresis           Center 2016-02-29 23:59:59  \n639975                Platelet Apheresis           Center 2016-02-29 23:59:59  \n1131108               Platelet Apheresis           Center 2016-02-29 23:59:59  ",
      "text/html": "<div>\n<style scoped>\n    .dataframe tbody tr th:only-of-type {\n        vertical-align: middle;\n    }\n\n    .dataframe tbody tr th {\n        vertical-align: top;\n    }\n\n    .dataframe thead th {\n        text-align: right;\n    }\n</style>\n<table border=\"1\" class=\"dataframe\">\n  <thead>\n    <tr style=\"text-align: right;\">\n      <th></th>\n      <th>Random_ID</th>\n      <th>RegistrationTime</th>\n      <th>OutCome</th>\n      <th>DonationType</th>\n      <th>DonationLocation</th>\n      <th>CutoffDate</th>\n    </tr>\n  </thead>\n  <tbody>\n    <tr>\n      <th>12656</th>\n      <td>52437236</td>\n      <td>2015-04-14 12:31:00</td>\n      <td>Donation</td>\n      <td>Platelets and Concurrent Plasma</td>\n      <td>Center</td>\n      <td>2016-02-29 23:59:59</td>\n    </tr>\n    <tr>\n      <th>15897</th>\n      <td>52437236</td>\n      <td>2015-03-13 12:50:59</td>\n      <td>Donation</td>\n      <td>Platelets and Concurrent Plasma</td>\n      <td>Center</td>\n      <td>2016-02-29 23:59:59</td>\n    </tr>\n    <tr>\n      <th>60492</th>\n      <td>52437236</td>\n      <td>2015-10-30 12:18:00</td>\n      <td>Donation</td>\n      <td>Platelet Apheresis</td>\n      <td>Center</td>\n      <td>2016-02-29 23:59:59</td>\n    </tr>\n    <tr>\n      <th>71652</th>\n      <td>52437236</td>\n      <td>2015-12-16 10:35:59</td>\n      <td>Incomplete</td>\n      <td>Platelet Apheresis</td>\n      <td>Center</td>\n      <td>2016-02-29 23:59:59</td>\n    </tr>\n    <tr>\n      <th>74700</th>\n      <td>52437236</td>\n      <td>2015-12-22 10:04:59</td>\n      <td>Donation</td>\n      <td>Platelet Apheresis</td>\n      <td>Center</td>\n      <td>2016-02-29 23:59:59</td>\n    </tr>\n    <tr>\n      <th>153157</th>\n      <td>54374547</td>\n      <td>2015-02-26 15:35:00</td>\n      <td>Donation</td>\n      <td>Whole Blood</td>\n      <td>Center</td>\n      <td>2016-02-29 23:59:59</td>\n    </tr>\n    <tr>\n      <th>184026</th>\n      <td>52437236</td>\n      <td>2015-04-23 09:52:00</td>\n      <td>Donation</td>\n      <td>Platelet Apheresis</td>\n      <td>Center</td>\n      <td>2016-02-29 23:59:59</td>\n    </tr>\n    <tr>\n      <th>324709</th>\n      <td>52437236</td>\n      <td>2016-02-04 11:53:00</td>\n      <td>Donation</td>\n      <td>Platelet Apheresis</td>\n      <td>Center</td>\n      <td>2016-02-29 23:59:59</td>\n    </tr>\n    <tr>\n      <th>571062</th>\n      <td>52437236</td>\n      <td>2016-02-20 13:22:00</td>\n      <td>Donation</td>\n      <td>Platelet Apheresis</td>\n      <td>Center</td>\n      <td>2016-02-29 23:59:59</td>\n    </tr>\n    <tr>\n      <th>639975</th>\n      <td>52437236</td>\n      <td>2016-01-21 11:36:00</td>\n      <td>Donation</td>\n      <td>Platelet Apheresis</td>\n      <td>Center</td>\n      <td>2016-02-29 23:59:59</td>\n    </tr>\n    <tr>\n      <th>1131108</th>\n      <td>52437236</td>\n      <td>2016-01-02 13:50:00</td>\n      <td>Donation</td>\n      <td>Platelet Apheresis</td>\n      <td>Center</td>\n      <td>2016-02-29 23:59:59</td>\n    </tr>\n  </tbody>\n</table>\n</div>"
     },
     "metadata": {},
     "execution_count": 24
    }
   ],
   "source": [
    "# Filter records to those that are eligible for the current cutoff date\n",
    "cutoff_history = subset_data[subset_data['RegistrationTime'] <= cutoff]\n",
    "# Add CutoffDate as a literal value so we can combine all cutoff date histories\n",
    "cutoff_history['CutoffDate'] = cutoff\n",
    "cutoff_history"
   ]
  },
  {
   "cell_type": "code",
   "execution_count": 35,
   "metadata": {},
   "outputs": [
    {
     "output_type": "execute_result",
     "data": {
      "text/plain": "Timestamp('2016-02-29 23:59:59')"
     },
     "metadata": {},
     "execution_count": 35
    }
   ],
   "source": [
    "cutoff"
   ]
  },
  {
   "cell_type": "code",
   "execution_count": 28,
   "metadata": {},
   "outputs": [
    {
     "output_type": "execute_result",
     "data": {
      "text/plain": "   Random_ID FirstRegistrationTime LastRegistrationTime  \\\n0   52437236   2015-03-13 12:50:59  2016-02-20 13:22:00   \n1   54374547   2015-02-26 15:35:00  2015-02-26 15:35:00   \n\n   DaysSinceLastRegistration  DaysSinceFirstRegistration  \n0                          9                         353  \n1                        368                         368  ",
      "text/html": "<div>\n<style scoped>\n    .dataframe tbody tr th:only-of-type {\n        vertical-align: middle;\n    }\n\n    .dataframe tbody tr th {\n        vertical-align: top;\n    }\n\n    .dataframe thead th {\n        text-align: right;\n    }\n</style>\n<table border=\"1\" class=\"dataframe\">\n  <thead>\n    <tr style=\"text-align: right;\">\n      <th></th>\n      <th>Random_ID</th>\n      <th>FirstRegistrationTime</th>\n      <th>LastRegistrationTime</th>\n      <th>DaysSinceLastRegistration</th>\n      <th>DaysSinceFirstRegistration</th>\n    </tr>\n  </thead>\n  <tbody>\n    <tr>\n      <th>0</th>\n      <td>52437236</td>\n      <td>2015-03-13 12:50:59</td>\n      <td>2016-02-20 13:22:00</td>\n      <td>9</td>\n      <td>353</td>\n    </tr>\n    <tr>\n      <th>1</th>\n      <td>54374547</td>\n      <td>2015-02-26 15:35:00</td>\n      <td>2015-02-26 15:35:00</td>\n      <td>368</td>\n      <td>368</td>\n    </tr>\n  </tbody>\n</table>\n</div>"
     },
     "metadata": {},
     "execution_count": 28
    }
   ],
   "source": [
    "# Calculate recency: difference between most recent donation date per donor, and the current cutoff date\n",
    "# Calculate time: total days since first registration\n",
    "recency = cutoff_history.groupby(by='Random_ID', as_index=False).agg({'RegistrationTime': ['min', 'max']})\n",
    "recency.columns = recency.columns.droplevel(0)\n",
    "recency.columns = ['Random_ID', 'FirstRegistrationTime', 'LastRegistrationTime']\n",
    "recency['DaysSinceLastRegistration'] = (cutoff - recency['LastRegistrationTime']).dt.days  # Just capture the days portion\n",
    "recency['DaysSinceFirstRegistration'] = (cutoff - recency['FirstRegistrationTime']).dt.days\n",
    "recency"
   ]
  },
  {
   "cell_type": "code",
   "execution_count": 29,
   "metadata": {},
   "outputs": [
    {
     "output_type": "execute_result",
     "data": {
      "text/plain": "   Random_ID  TotalRegistrations\n0   52437236                  10\n1   54374547                   1",
      "text/html": "<div>\n<style scoped>\n    .dataframe tbody tr th:only-of-type {\n        vertical-align: middle;\n    }\n\n    .dataframe tbody tr th {\n        vertical-align: top;\n    }\n\n    .dataframe thead th {\n        text-align: right;\n    }\n</style>\n<table border=\"1\" class=\"dataframe\">\n  <thead>\n    <tr style=\"text-align: right;\">\n      <th></th>\n      <th>Random_ID</th>\n      <th>TotalRegistrations</th>\n    </tr>\n  </thead>\n  <tbody>\n    <tr>\n      <th>0</th>\n      <td>52437236</td>\n      <td>10</td>\n    </tr>\n    <tr>\n      <th>1</th>\n      <td>54374547</td>\n      <td>1</td>\n    </tr>\n  </tbody>\n</table>\n</div>"
     },
     "metadata": {},
     "execution_count": 29
    }
   ],
   "source": [
    "# Calculate frequency: number of registrations for donation in the history period\n",
    "frequency = cutoff_history.groupby(by='Random_ID', as_index=False).agg({'RegistrationTime': 'count'}).rename(columns={'RegistrationTime': 'PastRegistrations'})\n",
    "frequency"
   ]
  },
  {
   "cell_type": "code",
   "execution_count": 74,
   "metadata": {},
   "outputs": [],
   "source": [
    "# Calculate frequency by DonationType\n",
    "frequency_type = cutoff_history.groupby(by=['Random_ID', 'DonationType'], as_index=False) \\\n",
    "                               .agg({'RegistrationTime': 'count'}).rename(columns={'RegistrationTime': 'TotalRegistrations'}) \\\n",
    "                               .pivot(index='Random_ID', columns='DonationType', values='TotalRegistrations') \\\n",
    "                               .reset_index().rename_axis(None, axis=1)  # Make Random_ID a column; remove index name\n",
    "frequency_type.columns = ['Random_ID'] + ['Past' + col_name.replace(' ', '') + 'Registrations' for col_name in frequency_type.columns if col_name != 'Random_ID']"
   ]
  },
  {
   "cell_type": "code",
   "execution_count": 75,
   "metadata": {},
   "outputs": [
    {
     "output_type": "execute_result",
     "data": {
      "text/plain": "   Random_ID  PlateletApheresisRegistrations  \\\n0   52437236                             8.0   \n1   54374547                             NaN   \n\n   PlateletsandConcurrentPlasmaRegistrations  WholeBloodRegistrations  \n0                                        2.0                      NaN  \n1                                        NaN                      1.0  ",
      "text/html": "<div>\n<style scoped>\n    .dataframe tbody tr th:only-of-type {\n        vertical-align: middle;\n    }\n\n    .dataframe tbody tr th {\n        vertical-align: top;\n    }\n\n    .dataframe thead th {\n        text-align: right;\n    }\n</style>\n<table border=\"1\" class=\"dataframe\">\n  <thead>\n    <tr style=\"text-align: right;\">\n      <th></th>\n      <th>Random_ID</th>\n      <th>PlateletApheresisRegistrations</th>\n      <th>PlateletsandConcurrentPlasmaRegistrations</th>\n      <th>WholeBloodRegistrations</th>\n    </tr>\n  </thead>\n  <tbody>\n    <tr>\n      <th>0</th>\n      <td>52437236</td>\n      <td>8.0</td>\n      <td>2.0</td>\n      <td>NaN</td>\n    </tr>\n    <tr>\n      <th>1</th>\n      <td>54374547</td>\n      <td>NaN</td>\n      <td>NaN</td>\n      <td>1.0</td>\n    </tr>\n  </tbody>\n</table>\n</div>"
     },
     "metadata": {},
     "execution_count": 75
    }
   ],
   "source": [
    "frequency_type"
   ]
  },
  {
   "cell_type": "code",
   "execution_count": 30,
   "metadata": {},
   "outputs": [],
   "source": [
    "# Calculate monetary: total volume of donation in the history period?"
   ]
  },
  {
   "cell_type": "code",
   "execution_count": 31,
   "metadata": {},
   "outputs": [
    {
     "output_type": "execute_result",
     "data": {
      "text/plain": "        Random_ID    RegistrationTime   OutCome  \\\n827760   52437236 2016-03-22 12:24:00  Donation   \n\n                           DonationType DonationLocation  \n827760  Platelets and Concurrent Plasma           Center  ",
      "text/html": "<div>\n<style scoped>\n    .dataframe tbody tr th:only-of-type {\n        vertical-align: middle;\n    }\n\n    .dataframe tbody tr th {\n        vertical-align: top;\n    }\n\n    .dataframe thead th {\n        text-align: right;\n    }\n</style>\n<table border=\"1\" class=\"dataframe\">\n  <thead>\n    <tr style=\"text-align: right;\">\n      <th></th>\n      <th>Random_ID</th>\n      <th>RegistrationTime</th>\n      <th>OutCome</th>\n      <th>DonationType</th>\n      <th>DonationLocation</th>\n    </tr>\n  </thead>\n  <tbody>\n    <tr>\n      <th>827760</th>\n      <td>52437236</td>\n      <td>2016-03-22 12:24:00</td>\n      <td>Donation</td>\n      <td>Platelets and Concurrent Plasma</td>\n      <td>Center</td>\n    </tr>\n  </tbody>\n</table>\n</div>"
     },
     "metadata": {},
     "execution_count": 31
    }
   ],
   "source": [
    "# Filter data down to target period\n",
    "cutoff_target = subset_data[(subset_data['RegistrationTime'] >= target_start_date) & (subset_data['RegistrationTime'] <= target_end_date)]\n",
    "cutoff_target"
   ]
  },
  {
   "cell_type": "code",
   "execution_count": 76,
   "metadata": {},
   "outputs": [
    {
     "output_type": "execute_result",
     "data": {
      "text/plain": "   Random_ID  TargetRegistrations\n0   52437236                    1",
      "text/html": "<div>\n<style scoped>\n    .dataframe tbody tr th:only-of-type {\n        vertical-align: middle;\n    }\n\n    .dataframe tbody tr th {\n        vertical-align: top;\n    }\n\n    .dataframe thead th {\n        text-align: right;\n    }\n</style>\n<table border=\"1\" class=\"dataframe\">\n  <thead>\n    <tr style=\"text-align: right;\">\n      <th></th>\n      <th>Random_ID</th>\n      <th>TargetRegistrations</th>\n    </tr>\n  </thead>\n  <tbody>\n    <tr>\n      <th>0</th>\n      <td>52437236</td>\n      <td>1</td>\n    </tr>\n  </tbody>\n</table>\n</div>"
     },
     "metadata": {},
     "execution_count": 76
    }
   ],
   "source": [
    "# Calculate base measure for target: how many total registrations each donor had in the target period\n",
    "response = cutoff_target.groupby(by='Random_ID', as_index=False).agg({'RegistrationTime': 'count'}).rename(columns={'RegistrationTime': 'TargetRegistrations'})\n",
    "response"
   ]
  },
  {
   "cell_type": "code",
   "execution_count": 77,
   "metadata": {},
   "outputs": [],
   "source": [
    "# Calculate sub-targets: how many registrations of each DonationType each donor had in the target period\n",
    "response_type = cutoff_target.groupby(by=['Random_ID', 'DonationType'], as_index=False) \\\n",
    "                             .agg({'RegistrationTime': 'count'}).rename(columns={'RegistrationTime': 'TotalRegistrations'}) \\\n",
    "                             .pivot(index='Random_ID', columns='DonationType', values='TotalRegistrations') \\\n",
    "                             .reset_index().rename_axis(None, axis=1)  # Make Random_ID a column; remove index name\n",
    "response_type.columns = ['Random_ID'] + ['Target' + col_name.replace(' ', '') + 'Registrations' for col_name in response_type.columns if col_name != 'Random_ID']"
   ]
  },
  {
   "cell_type": "code",
   "execution_count": 78,
   "metadata": {},
   "outputs": [
    {
     "output_type": "execute_result",
     "data": {
      "text/plain": "   Random_ID  TargetPlateletsandConcurrentPlasmaRegistrations\n0   52437236                                                1",
      "text/html": "<div>\n<style scoped>\n    .dataframe tbody tr th:only-of-type {\n        vertical-align: middle;\n    }\n\n    .dataframe tbody tr th {\n        vertical-align: top;\n    }\n\n    .dataframe thead th {\n        text-align: right;\n    }\n</style>\n<table border=\"1\" class=\"dataframe\">\n  <thead>\n    <tr style=\"text-align: right;\">\n      <th></th>\n      <th>Random_ID</th>\n      <th>TargetPlateletsandConcurrentPlasmaRegistrations</th>\n    </tr>\n  </thead>\n  <tbody>\n    <tr>\n      <th>0</th>\n      <td>52437236</td>\n      <td>1</td>\n    </tr>\n  </tbody>\n</table>\n</div>"
     },
     "metadata": {},
     "execution_count": 78
    }
   ],
   "source": [
    "response_type"
   ]
  },
  {
   "cell_type": "code",
   "execution_count": 34,
   "metadata": {},
   "outputs": [
    {
     "output_type": "execute_result",
     "data": {
      "text/plain": "   Random_ID FirstRegistrationTime LastRegistrationTime  \\\n0   52437236   2015-03-13 12:50:59  2016-02-20 13:22:00   \n1   54374547   2015-02-26 15:35:00  2015-02-26 15:35:00   \n\n   DaysSinceLastRegistration  DaysSinceFirstRegistration  TotalRegistrations  \\\n0                          9                         353                  10   \n1                        368                         368                   1   \n\n   Registrations  RegisteredInTargetPeriod          CutoffDate  \\\n0            1.0                         1 2016-02-29 23:59:59   \n1            NaN                         0 2016-02-29 23:59:59   \n\n  TargetPeriodStartDate TargetPeriodEndDate  \n0            2016-03-01 2016-03-30 23:59:59  \n1            2016-03-01 2016-03-30 23:59:59  ",
      "text/html": "<div>\n<style scoped>\n    .dataframe tbody tr th:only-of-type {\n        vertical-align: middle;\n    }\n\n    .dataframe tbody tr th {\n        vertical-align: top;\n    }\n\n    .dataframe thead th {\n        text-align: right;\n    }\n</style>\n<table border=\"1\" class=\"dataframe\">\n  <thead>\n    <tr style=\"text-align: right;\">\n      <th></th>\n      <th>Random_ID</th>\n      <th>FirstRegistrationTime</th>\n      <th>LastRegistrationTime</th>\n      <th>DaysSinceLastRegistration</th>\n      <th>DaysSinceFirstRegistration</th>\n      <th>TotalRegistrations</th>\n      <th>Registrations</th>\n      <th>RegisteredInTargetPeriod</th>\n      <th>CutoffDate</th>\n      <th>TargetPeriodStartDate</th>\n      <th>TargetPeriodEndDate</th>\n    </tr>\n  </thead>\n  <tbody>\n    <tr>\n      <th>0</th>\n      <td>52437236</td>\n      <td>2015-03-13 12:50:59</td>\n      <td>2016-02-20 13:22:00</td>\n      <td>9</td>\n      <td>353</td>\n      <td>10</td>\n      <td>1.0</td>\n      <td>1</td>\n      <td>2016-02-29 23:59:59</td>\n      <td>2016-03-01</td>\n      <td>2016-03-30 23:59:59</td>\n    </tr>\n    <tr>\n      <th>1</th>\n      <td>54374547</td>\n      <td>2015-02-26 15:35:00</td>\n      <td>2015-02-26 15:35:00</td>\n      <td>368</td>\n      <td>368</td>\n      <td>1</td>\n      <td>NaN</td>\n      <td>0</td>\n      <td>2016-02-29 23:59:59</td>\n      <td>2016-03-01</td>\n      <td>2016-03-30 23:59:59</td>\n    </tr>\n  </tbody>\n</table>\n</div>"
     },
     "metadata": {},
     "execution_count": 34
    }
   ],
   "source": [
    "# Combine datasets\n",
    "data = pd.merge(recency, frequency, how='left').merge(response, how='left')\n",
    "data['RegisteredInTargetPeriod'] = data['Registrations'].apply(lambda x: 0 if pd.isna(x) else 1)\n",
    "data['CutoffDate'] = cutoff\n",
    "data['TargetPeriodStartDate'] = target_start_date\n",
    "data['TargetPeriodEndDate'] = target_end_date\n",
    "data"
   ]
  },
  {
   "cell_type": "code",
   "execution_count": null,
   "metadata": {},
   "outputs": [],
   "source": []
  }
 ],
 "metadata": {
  "kernelspec": {
   "display_name": "Python 3",
   "language": "python",
   "name": "python3"
  },
  "language_info": {
   "codemirror_mode": {
    "name": "ipython",
    "version": 3
   },
   "file_extension": ".py",
   "mimetype": "text/x-python",
   "name": "python",
   "nbconvert_exporter": "python",
   "pygments_lexer": "ipython3",
   "version": "3.7.7-final"
  }
 },
 "nbformat": 4,
 "nbformat_minor": 4
}