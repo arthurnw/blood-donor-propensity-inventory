{
 "cells": [
  {
   "cell_type": "markdown",
   "metadata": {},
   "source": [
    "# Overview"
   ]
  },
  {
   "cell_type": "markdown",
   "metadata": {},
   "source": [
    "This notebook is used for exploring the data and documenting findings."
   ]
  },
  {
   "cell_type": "code",
   "execution_count": 1,
   "metadata": {},
   "outputs": [],
   "source": [
    "# Import libraries\n",
    "import glob\n",
    "import pandas as pd\n",
    "import numpy as np\n",
    "from sklearn.model_selection import train_test_split"
   ]
  },
  {
   "cell_type": "code",
   "execution_count": 2,
   "metadata": {},
   "outputs": [],
   "source": [
    "# Load raw data\n",
    "file_path = \"../data/raw\"\n",
    "raw_files = glob.glob(file_path + \"/*.csv\")\n",
    "\n",
    "file_list = []\n",
    "\n",
    "for file in raw_files:\n",
    "    file_list.append(pd.read_csv(file, index_col=None, header=0))\n",
    "\n",
    "raw_data = pd.concat(file_list, axis=0, ignore_index=True)"
   ]
  },
  {
   "cell_type": "code",
   "execution_count": 3,
   "metadata": {},
   "outputs": [
    {
     "output_type": "execute_result",
     "data": {
      "text/plain": "   Random_ID    RegistrationTime     OutCome DonationType DonationLocation\n0   52156190  6/27/2015 12:47:00    Donation  Whole Blood           Center\n1   52825057   2/26/2015 9:53:00    Donation  2 Units RBC           Mobile\n2   53025596   9/8/2015 16:49:59    Donation  Whole Blood           Mobile\n3    2056692  8/26/2015 12:15:00    Donation  Whole Blood           Mobile\n4   52879521  1/26/2015 17:18:00  Incomplete  Whole Blood           Center",
      "text/html": "<div>\n<style scoped>\n    .dataframe tbody tr th:only-of-type {\n        vertical-align: middle;\n    }\n\n    .dataframe tbody tr th {\n        vertical-align: top;\n    }\n\n    .dataframe thead th {\n        text-align: right;\n    }\n</style>\n<table border=\"1\" class=\"dataframe\">\n  <thead>\n    <tr style=\"text-align: right;\">\n      <th></th>\n      <th>Random_ID</th>\n      <th>RegistrationTime</th>\n      <th>OutCome</th>\n      <th>DonationType</th>\n      <th>DonationLocation</th>\n    </tr>\n  </thead>\n  <tbody>\n    <tr>\n      <th>0</th>\n      <td>52156190</td>\n      <td>6/27/2015 12:47:00</td>\n      <td>Donation</td>\n      <td>Whole Blood</td>\n      <td>Center</td>\n    </tr>\n    <tr>\n      <th>1</th>\n      <td>52825057</td>\n      <td>2/26/2015 9:53:00</td>\n      <td>Donation</td>\n      <td>2 Units RBC</td>\n      <td>Mobile</td>\n    </tr>\n    <tr>\n      <th>2</th>\n      <td>53025596</td>\n      <td>9/8/2015 16:49:59</td>\n      <td>Donation</td>\n      <td>Whole Blood</td>\n      <td>Mobile</td>\n    </tr>\n    <tr>\n      <th>3</th>\n      <td>2056692</td>\n      <td>8/26/2015 12:15:00</td>\n      <td>Donation</td>\n      <td>Whole Blood</td>\n      <td>Mobile</td>\n    </tr>\n    <tr>\n      <th>4</th>\n      <td>52879521</td>\n      <td>1/26/2015 17:18:00</td>\n      <td>Incomplete</td>\n      <td>Whole Blood</td>\n      <td>Center</td>\n    </tr>\n  </tbody>\n</table>\n</div>"
     },
     "metadata": {},
     "execution_count": 3
    }
   ],
   "source": [
    "raw_data.head()"
   ]
  }
 ],
 "metadata": {
  "kernelspec": {
   "display_name": "Python 3",
   "language": "python",
   "name": "python3"
  },
  "language_info": {
   "codemirror_mode": {
    "name": "ipython",
    "version": 3
   },
   "file_extension": ".py",
   "mimetype": "text/x-python",
   "name": "python",
   "nbconvert_exporter": "python",
   "pygments_lexer": "ipython3",
   "version": "3.7.7-final"
  }
 },
 "nbformat": 4,
 "nbformat_minor": 4
}