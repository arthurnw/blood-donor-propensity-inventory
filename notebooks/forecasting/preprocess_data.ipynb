{
 "cells": [
  {
   "cell_type": "markdown",
   "metadata": {},
   "source": [
    "# Overview"
   ]
  },
  {
   "cell_type": "markdown",
   "metadata": {},
   "source": [
    "This notebook contains code to pre-process data for time series analysis."
   ]
  },
  {
   "cell_type": "markdown",
   "metadata": {},
   "source": [
    "# Setup"
   ]
  },
  {
   "cell_type": "code",
   "execution_count": 1,
   "metadata": {},
   "outputs": [],
   "source": [
    "# Import libraries\n",
    "import json\n",
    "import pandas as pd\n",
    "import numpy as np\n",
    "import seaborn as sb\n",
    "from datetime import timedelta\n",
    "import matplotlib.pyplot as plt"
   ]
  },
  {
   "cell_type": "code",
   "execution_count": 2,
   "metadata": {},
   "outputs": [],
   "source": [
    "# Read data, specifically parsing date columns as dates\n",
    "data = pd.read_csv('../../data/processed/cleaned_data.csv', parse_dates=['RegistrationTime'])"
   ]
  },
  {
   "cell_type": "code",
   "execution_count": 3,
   "metadata": {},
   "outputs": [
    {
     "data": {
      "text/html": [
       "<div>\n",
       "<style scoped>\n",
       "    .dataframe tbody tr th:only-of-type {\n",
       "        vertical-align: middle;\n",
       "    }\n",
       "\n",
       "    .dataframe tbody tr th {\n",
       "        vertical-align: top;\n",
       "    }\n",
       "\n",
       "    .dataframe thead th {\n",
       "        text-align: right;\n",
       "    }\n",
       "</style>\n",
       "<table border=\"1\" class=\"dataframe\">\n",
       "  <thead>\n",
       "    <tr style=\"text-align: right;\">\n",
       "      <th></th>\n",
       "      <th>Random_ID</th>\n",
       "      <th>RegistrationTime</th>\n",
       "      <th>OutCome</th>\n",
       "      <th>DonationType</th>\n",
       "      <th>DonationLocation</th>\n",
       "    </tr>\n",
       "  </thead>\n",
       "  <tbody>\n",
       "    <tr>\n",
       "      <th>0</th>\n",
       "      <td>52156190</td>\n",
       "      <td>2015-06-27 12:47:00</td>\n",
       "      <td>Donation</td>\n",
       "      <td>Whole Blood</td>\n",
       "      <td>Center</td>\n",
       "    </tr>\n",
       "    <tr>\n",
       "      <th>1</th>\n",
       "      <td>52825057</td>\n",
       "      <td>2015-02-26 09:53:00</td>\n",
       "      <td>Donation</td>\n",
       "      <td>2 Units RBC</td>\n",
       "      <td>Mobile</td>\n",
       "    </tr>\n",
       "    <tr>\n",
       "      <th>2</th>\n",
       "      <td>53025596</td>\n",
       "      <td>2015-09-08 16:49:59</td>\n",
       "      <td>Donation</td>\n",
       "      <td>Whole Blood</td>\n",
       "      <td>Mobile</td>\n",
       "    </tr>\n",
       "    <tr>\n",
       "      <th>3</th>\n",
       "      <td>2056692</td>\n",
       "      <td>2015-08-26 12:15:00</td>\n",
       "      <td>Donation</td>\n",
       "      <td>Whole Blood</td>\n",
       "      <td>Mobile</td>\n",
       "    </tr>\n",
       "    <tr>\n",
       "      <th>4</th>\n",
       "      <td>52879521</td>\n",
       "      <td>2015-01-26 17:18:00</td>\n",
       "      <td>Incomplete</td>\n",
       "      <td>Whole Blood</td>\n",
       "      <td>Center</td>\n",
       "    </tr>\n",
       "  </tbody>\n",
       "</table>\n",
       "</div>"
      ],
      "text/plain": [
       "   Random_ID    RegistrationTime     OutCome DonationType DonationLocation\n",
       "0   52156190 2015-06-27 12:47:00    Donation  Whole Blood           Center\n",
       "1   52825057 2015-02-26 09:53:00    Donation  2 Units RBC           Mobile\n",
       "2   53025596 2015-09-08 16:49:59    Donation  Whole Blood           Mobile\n",
       "3    2056692 2015-08-26 12:15:00    Donation  Whole Blood           Mobile\n",
       "4   52879521 2015-01-26 17:18:00  Incomplete  Whole Blood           Center"
      ]
     },
     "execution_count": 3,
     "metadata": {},
     "output_type": "execute_result"
    }
   ],
   "source": [
    "data.head()"
   ]
  },
  {
   "cell_type": "markdown",
   "metadata": {},
   "source": [
    "# Form time series dataset (count of new donors per N-day period)"
   ]
  },
  {
   "cell_type": "code",
   "execution_count": 4,
   "metadata": {},
   "outputs": [
    {
     "data": {
      "text/plain": [
       "Timestamp('2019-07-22 00:00:00')"
      ]
     },
     "execution_count": 4,
     "metadata": {},
     "output_type": "execute_result"
    }
   ],
   "source": [
    "pd.to_datetime('2019-08-20 23:59:59') + pd.Timedelta(days=-30) + pd.Timedelta(seconds=1)"
   ]
  },
  {
   "cell_type": "code",
   "execution_count": 5,
   "metadata": {},
   "outputs": [
    {
     "ename": "NameError",
     "evalue": "name 'dataset_size' is not defined",
     "output_type": "error",
     "traceback": [
      "\u001b[1;31m---------------------------------------------------------------------------\u001b[0m",
      "\u001b[1;31mNameError\u001b[0m                                 Traceback (most recent call last)",
      "\u001b[1;32m<ipython-input-5-22d7a6d69b13>\u001b[0m in \u001b[0;36m<module>\u001b[1;34m\u001b[0m\n\u001b[0;32m      8\u001b[0m     if cutoff_date.year >= 2015])\n\u001b[0;32m      9\u001b[0m \u001b[1;33m\u001b[0m\u001b[0m\n\u001b[1;32m---> 10\u001b[1;33m \u001b[1;32mif\u001b[0m \u001b[0mdataset_size\u001b[0m \u001b[1;33m==\u001b[0m \u001b[1;34m'partial'\u001b[0m\u001b[1;33m:\u001b[0m\u001b[1;33m\u001b[0m\u001b[1;33m\u001b[0m\u001b[0m\n\u001b[0m\u001b[0;32m     11\u001b[0m     \u001b[1;32mdel\u001b[0m \u001b[0mcutoff_dates\u001b[0m\u001b[1;33m[\u001b[0m\u001b[1;36m4\u001b[0m\u001b[1;33m:\u001b[0m\u001b[1;33m]\u001b[0m  \u001b[1;31m# Remove all but the first four dates\u001b[0m\u001b[1;33m\u001b[0m\u001b[1;33m\u001b[0m\u001b[0m\n",
      "\u001b[1;31mNameError\u001b[0m: name 'dataset_size' is not defined"
     ]
    }
   ],
   "source": [
    "# Establish cutoff dates for the \"chunks\" of our final dataset\n",
    "target_window_size = 30\n",
    "final_cutoff = pd.to_datetime('2019-08-20 23:59:59') + pd.Timedelta(days=-target_window_size)  # 8/20/2019 is the final resgistration in the dataset\n",
    "final_target_start = final_cutoff + pd.Timedelta(seconds=1)\n",
    "\n",
    "cutoff_dates = sorted([cutoff_date for cutoff_date\n",
    "    in [pd.to_datetime(final_target_start, format='%Y-%m-%d %H:%M:%S') + pd.Timedelta(days=-target_window_size * i) for i in range(60)]\n",
    "    if cutoff_date.year >= 2015])\n",
    "\n",
    "if dataset_size == 'partial':\n",
    "    del cutoff_dates[4:]  # Remove all but the first four dates"
   ]
  },
  {
   "cell_type": "code",
   "execution_count": null,
   "metadata": {},
   "outputs": [],
   "source": [
    "target_windows = pd.concat([\n",
    "    pd.Series(cutoff_dates),\n",
    "    pd.Series(cutoff_dates) + pd.Timedelta(days=target_window_size-1, hours=23, minutes=59, seconds=59)\n",
    "], axis=1)\n",
    "target_windows.columns = ['StartDatetime', 'EndDatetime']\n",
    "target_windows['NewDonors'] = 0\n",
    "target_windows.head()"
   ]
  },
  {
   "cell_type": "code",
   "execution_count": null,
   "metadata": {},
   "outputs": [],
   "source": [
    "# Group by Random_ID to get each person's first registration time (i.e. when they were a new donor)\n",
    "new_donors = data.groupby('Random_ID', as_index=False).agg({'RegistrationTime': 'min'})\n",
    "new_donors"
   ]
  },
  {
   "cell_type": "code",
   "execution_count": null,
   "metadata": {},
   "outputs": [],
   "source": [
    "def calculate_donor_count(row, raw_data):\n",
    "    # Calculates number of new donors using raw data DataFrame\n",
    "    window_subset = raw_data[(raw_data['RegistrationTime'] >= row['StartDatetime']) & (raw_data['RegistrationTime'] <= row['EndDatetime'])]\n",
    "    return len(window_subset.index)\n",
    "\n",
    "# Populate NewDonors\n",
    "target_windows['NewDonors'] = target_windows.apply(lambda row: calculate_donor_count(row, new_donors), axis=1)\n",
    "target_windows.head()"
   ]
  },
  {
   "cell_type": "code",
   "execution_count": null,
   "metadata": {},
   "outputs": [],
   "source": [
    "# Convert to a time series-friendly DataFrame with just date as an index and a single variable\n",
    "series = target_windows.copy().drop(['EndDatetime'], axis=1).set_index('StartDatetime').squeeze()\n",
    "# series = series[(series != 0) & (series.index.year != 2015)]\n",
    "series"
   ]
  },
  {
   "cell_type": "code",
   "execution_count": null,
   "metadata": {},
   "outputs": [],
   "source": [
    "series.to_csv('../../data/processed/new_donors.csv')"
   ]
  },
  {
   "cell_type": "code",
   "execution_count": null,
   "metadata": {},
   "outputs": [],
   "source": [
    "import matplotlib.dates as mdates\n",
    "\n",
    "# years = mdates.YearLocator()\n",
    "# months = mdates.MonthLocator()\n",
    "window_fmt = mdates.DateFormatter('%m/%d/%Y')\n",
    "\n",
    "fig = plt.figure(figsize=(15,10))\n",
    "axes = plt.axes()\n",
    "sb.lineplot(data=series)\n",
    "plt.xticks(series.index, rotation=90)\n",
    "axes.xaxis.set_major_formatter(window_fmt)\n",
    "plt.show()"
   ]
  },
  {
   "cell_type": "code",
   "execution_count": null,
   "metadata": {},
   "outputs": [],
   "source": [
    "series_no_outliers = series[series.index != pd.to_datetime('2016-06-07')]"
   ]
  },
  {
   "cell_type": "code",
   "execution_count": null,
   "metadata": {},
   "outputs": [],
   "source": [
    "sb.boxplot(series_no_outliers.index.month, series_no_outliers)"
   ]
  }
 ],
 "metadata": {
  "kernelspec": {
   "display_name": "Python 3",
   "language": "python",
   "name": "python3"
  },
  "language_info": {
   "codemirror_mode": {
    "name": "ipython",
    "version": 3
   },
   "file_extension": ".py",
   "mimetype": "text/x-python",
   "name": "python",
   "nbconvert_exporter": "python",
   "pygments_lexer": "ipython3",
   "version": "3.7.7"
  }
 },
 "nbformat": 4,
 "nbformat_minor": 2
}
