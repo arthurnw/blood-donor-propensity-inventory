{
 "cells": [
  {
   "cell_type": "markdown",
   "metadata": {},
   "source": [
    "# Overview"
   ]
  },
  {
   "cell_type": "markdown",
   "metadata": {},
   "source": [
    "This notebook processes the data."
   ]
  },
  {
   "cell_type": "code",
   "execution_count": 1,
   "metadata": {},
   "outputs": [],
   "source": [
    "# Import libraries\n",
    "import glob, os\n",
    "import pandas as pd\n",
    "import numpy as np\n",
    "from sklearn.model_selection import train_test_split"
   ]
  },
  {
   "cell_type": "code",
   "execution_count": 2,
   "metadata": {},
   "outputs": [],
   "source": [
    "# Load raw data\n",
    "file_path = '../data/raw'\n",
    "raw_files = glob.glob(file_path + '/*.csv')\n",
    "\n",
    "file_list = []\n",
    "\n",
    "for file in raw_files:\n",
    "    file_list.append(pd.read_csv(file, index_col=None, header=0))\n",
    "\n",
    "raw_data = pd.concat(file_list, axis=0, ignore_index=True)"
   ]
  },
  {
   "cell_type": "code",
   "execution_count": 3,
   "metadata": {},
   "outputs": [
    {
     "output_type": "stream",
     "name": "stdout",
     "text": "(3818852, 5)\n"
    },
    {
     "output_type": "execute_result",
     "data": {
      "text/plain": "   Random_ID    RegistrationTime     OutCome DonationType DonationLocation\n0   52156190  6/27/2015 12:47:00    Donation  Whole Blood           Center\n1   52825057   2/26/2015 9:53:00    Donation  2 Units RBC           Mobile\n2   53025596   9/8/2015 16:49:59    Donation  Whole Blood           Mobile\n3    2056692  8/26/2015 12:15:00    Donation  Whole Blood           Mobile\n4   52879521  1/26/2015 17:18:00  Incomplete  Whole Blood           Center",
      "text/html": "<div>\n<style scoped>\n    .dataframe tbody tr th:only-of-type {\n        vertical-align: middle;\n    }\n\n    .dataframe tbody tr th {\n        vertical-align: top;\n    }\n\n    .dataframe thead th {\n        text-align: right;\n    }\n</style>\n<table border=\"1\" class=\"dataframe\">\n  <thead>\n    <tr style=\"text-align: right;\">\n      <th></th>\n      <th>Random_ID</th>\n      <th>RegistrationTime</th>\n      <th>OutCome</th>\n      <th>DonationType</th>\n      <th>DonationLocation</th>\n    </tr>\n  </thead>\n  <tbody>\n    <tr>\n      <th>0</th>\n      <td>52156190</td>\n      <td>6/27/2015 12:47:00</td>\n      <td>Donation</td>\n      <td>Whole Blood</td>\n      <td>Center</td>\n    </tr>\n    <tr>\n      <th>1</th>\n      <td>52825057</td>\n      <td>2/26/2015 9:53:00</td>\n      <td>Donation</td>\n      <td>2 Units RBC</td>\n      <td>Mobile</td>\n    </tr>\n    <tr>\n      <th>2</th>\n      <td>53025596</td>\n      <td>9/8/2015 16:49:59</td>\n      <td>Donation</td>\n      <td>Whole Blood</td>\n      <td>Mobile</td>\n    </tr>\n    <tr>\n      <th>3</th>\n      <td>2056692</td>\n      <td>8/26/2015 12:15:00</td>\n      <td>Donation</td>\n      <td>Whole Blood</td>\n      <td>Mobile</td>\n    </tr>\n    <tr>\n      <th>4</th>\n      <td>52879521</td>\n      <td>1/26/2015 17:18:00</td>\n      <td>Incomplete</td>\n      <td>Whole Blood</td>\n      <td>Center</td>\n    </tr>\n  </tbody>\n</table>\n</div>"
     },
     "metadata": {},
     "execution_count": 3
    }
   ],
   "source": [
    "print(raw_data.shape)\n",
    "raw_data.head()"
   ]
  },
  {
   "cell_type": "markdown",
   "metadata": {},
   "source": [
    "# Clean raw data"
   ]
  },
  {
   "cell_type": "code",
   "execution_count": 4,
   "metadata": {},
   "outputs": [
    {
     "output_type": "execute_result",
     "data": {
      "text/plain": "         Random_ID    RegistrationTime   OutCome        DonationType  \\\n9589      53639912  6/23/2015 14:20:59  Donation         Whole Blood   \n30664     52877130  4/13/2015 16:49:00  Donation         Whole Blood   \n55262     52869439  9/11/2015 13:38:00  Donation         Whole Blood   \n236526    53594657  6/23/2015 15:55:00  Donation         Whole Blood   \n240689    53165336   8/7/2015 17:19:59  Donation         Whole Blood   \n268039    53256162                  11       NaN                 NaN   \n284335    53373866     7/11/2016 17:42  Donation         Whole Blood   \n596076    52879414     9/20/2016 14:42  Donation         Whole Blood   \n670560    52971104    12/29/2016 13:49  Donation         Whole Blood   \n737587    53591355     3/23/2016 14:57  Donation         2 Units RBC   \n1660173    1160874  6/17/2017 10:08:00  Donation  Platelet Apheresis   \n1683446   54213719  7/15/2017 20:22:00  Donation         2 Units RBC   \n2076386   53929042  5/12/2017 16:59:00  Donation         Whole Blood   \n2175752   53742940   6/6/2017 13:41:00  Donation         Whole Blood   \n2223875   54766854  7/27/2017 17:49:00  Donation         Whole Blood   \n2787934   54826892   9/5/2018 13:27:00  Donation         Whole Blood   \n3213459   55696471  8/19/2019 11:27:59  Donation         Whole Blood   \n\n        DonationLocation  \n9589                 NaN  \n30664                NaN  \n55262                NaN  \n236526               NaN  \n240689               NaN  \n268039               NaN  \n284335               NaN  \n596076               NaN  \n670560               NaN  \n737587               NaN  \n1660173              NaN  \n1683446              NaN  \n2076386              NaN  \n2175752              NaN  \n2223875              NaN  \n2787934              NaN  \n3213459              NaN  ",
      "text/html": "<div>\n<style scoped>\n    .dataframe tbody tr th:only-of-type {\n        vertical-align: middle;\n    }\n\n    .dataframe tbody tr th {\n        vertical-align: top;\n    }\n\n    .dataframe thead th {\n        text-align: right;\n    }\n</style>\n<table border=\"1\" class=\"dataframe\">\n  <thead>\n    <tr style=\"text-align: right;\">\n      <th></th>\n      <th>Random_ID</th>\n      <th>RegistrationTime</th>\n      <th>OutCome</th>\n      <th>DonationType</th>\n      <th>DonationLocation</th>\n    </tr>\n  </thead>\n  <tbody>\n    <tr>\n      <th>9589</th>\n      <td>53639912</td>\n      <td>6/23/2015 14:20:59</td>\n      <td>Donation</td>\n      <td>Whole Blood</td>\n      <td>NaN</td>\n    </tr>\n    <tr>\n      <th>30664</th>\n      <td>52877130</td>\n      <td>4/13/2015 16:49:00</td>\n      <td>Donation</td>\n      <td>Whole Blood</td>\n      <td>NaN</td>\n    </tr>\n    <tr>\n      <th>55262</th>\n      <td>52869439</td>\n      <td>9/11/2015 13:38:00</td>\n      <td>Donation</td>\n      <td>Whole Blood</td>\n      <td>NaN</td>\n    </tr>\n    <tr>\n      <th>236526</th>\n      <td>53594657</td>\n      <td>6/23/2015 15:55:00</td>\n      <td>Donation</td>\n      <td>Whole Blood</td>\n      <td>NaN</td>\n    </tr>\n    <tr>\n      <th>240689</th>\n      <td>53165336</td>\n      <td>8/7/2015 17:19:59</td>\n      <td>Donation</td>\n      <td>Whole Blood</td>\n      <td>NaN</td>\n    </tr>\n    <tr>\n      <th>268039</th>\n      <td>53256162</td>\n      <td>11</td>\n      <td>NaN</td>\n      <td>NaN</td>\n      <td>NaN</td>\n    </tr>\n    <tr>\n      <th>284335</th>\n      <td>53373866</td>\n      <td>7/11/2016 17:42</td>\n      <td>Donation</td>\n      <td>Whole Blood</td>\n      <td>NaN</td>\n    </tr>\n    <tr>\n      <th>596076</th>\n      <td>52879414</td>\n      <td>9/20/2016 14:42</td>\n      <td>Donation</td>\n      <td>Whole Blood</td>\n      <td>NaN</td>\n    </tr>\n    <tr>\n      <th>670560</th>\n      <td>52971104</td>\n      <td>12/29/2016 13:49</td>\n      <td>Donation</td>\n      <td>Whole Blood</td>\n      <td>NaN</td>\n    </tr>\n    <tr>\n      <th>737587</th>\n      <td>53591355</td>\n      <td>3/23/2016 14:57</td>\n      <td>Donation</td>\n      <td>2 Units RBC</td>\n      <td>NaN</td>\n    </tr>\n    <tr>\n      <th>1660173</th>\n      <td>1160874</td>\n      <td>6/17/2017 10:08:00</td>\n      <td>Donation</td>\n      <td>Platelet Apheresis</td>\n      <td>NaN</td>\n    </tr>\n    <tr>\n      <th>1683446</th>\n      <td>54213719</td>\n      <td>7/15/2017 20:22:00</td>\n      <td>Donation</td>\n      <td>2 Units RBC</td>\n      <td>NaN</td>\n    </tr>\n    <tr>\n      <th>2076386</th>\n      <td>53929042</td>\n      <td>5/12/2017 16:59:00</td>\n      <td>Donation</td>\n      <td>Whole Blood</td>\n      <td>NaN</td>\n    </tr>\n    <tr>\n      <th>2175752</th>\n      <td>53742940</td>\n      <td>6/6/2017 13:41:00</td>\n      <td>Donation</td>\n      <td>Whole Blood</td>\n      <td>NaN</td>\n    </tr>\n    <tr>\n      <th>2223875</th>\n      <td>54766854</td>\n      <td>7/27/2017 17:49:00</td>\n      <td>Donation</td>\n      <td>Whole Blood</td>\n      <td>NaN</td>\n    </tr>\n    <tr>\n      <th>2787934</th>\n      <td>54826892</td>\n      <td>9/5/2018 13:27:00</td>\n      <td>Donation</td>\n      <td>Whole Blood</td>\n      <td>NaN</td>\n    </tr>\n    <tr>\n      <th>3213459</th>\n      <td>55696471</td>\n      <td>8/19/2019 11:27:59</td>\n      <td>Donation</td>\n      <td>Whole Blood</td>\n      <td>NaN</td>\n    </tr>\n  </tbody>\n</table>\n</div>"
     },
     "metadata": {},
     "execution_count": 4
    }
   ],
   "source": [
    "# Show where we have NaNs/nulls\n",
    "raw_data[raw_data.isnull().any(axis=1)]"
   ]
  },
  {
   "cell_type": "code",
   "execution_count": 5,
   "metadata": {},
   "outputs": [],
   "source": [
    "# Drop rows with nulls\n",
    "cleaned_data = raw_data.dropna(axis=0, how='any')"
   ]
  },
  {
   "cell_type": "code",
   "execution_count": 6,
   "metadata": {},
   "outputs": [
    {
     "output_type": "execute_result",
     "data": {
      "text/plain": "0   2015-06-27 12:47:00\n1   2015-02-26 09:53:00\n2   2015-09-08 16:49:59\n3   2015-08-26 12:15:00\n4   2015-01-26 17:18:00\nName: RegistrationTime, dtype: datetime64[ns]"
     },
     "metadata": {},
     "execution_count": 6
    }
   ],
   "source": [
    "# Clean up RegistrationTime: pad time with '00' seconds if only HH:MM is shown, then convert to a datetime type\n",
    "cleaned_data['RegistrationTime'] = cleaned_data['RegistrationTime'].apply(lambda c: c + ':00' if c.count(':') < 2 else c)\n",
    "cleaned_data['RegistrationTime'] = pd.to_datetime(cleaned_data['RegistrationTime'], format='%m/%d/%Y %H:%M:%S')\n",
    "cleaned_data['RegistrationTime'].head()"
   ]
  },
  {
   "cell_type": "code",
   "execution_count": 7,
   "metadata": {},
   "outputs": [
    {
     "output_type": "execute_result",
     "data": {
      "text/plain": "   Random_ID    RegistrationTime     OutCome DonationType DonationLocation\n0   52156190 2015-06-27 12:47:00    Donation  Whole Blood           Center\n1   52825057 2015-02-26 09:53:00    Donation  2 Units RBC           Mobile\n2   53025596 2015-09-08 16:49:59    Donation  Whole Blood           Mobile\n3    2056692 2015-08-26 12:15:00    Donation  Whole Blood           Mobile\n4   52879521 2015-01-26 17:18:00  Incomplete  Whole Blood           Center",
      "text/html": "<div>\n<style scoped>\n    .dataframe tbody tr th:only-of-type {\n        vertical-align: middle;\n    }\n\n    .dataframe tbody tr th {\n        vertical-align: top;\n    }\n\n    .dataframe thead th {\n        text-align: right;\n    }\n</style>\n<table border=\"1\" class=\"dataframe\">\n  <thead>\n    <tr style=\"text-align: right;\">\n      <th></th>\n      <th>Random_ID</th>\n      <th>RegistrationTime</th>\n      <th>OutCome</th>\n      <th>DonationType</th>\n      <th>DonationLocation</th>\n    </tr>\n  </thead>\n  <tbody>\n    <tr>\n      <th>0</th>\n      <td>52156190</td>\n      <td>2015-06-27 12:47:00</td>\n      <td>Donation</td>\n      <td>Whole Blood</td>\n      <td>Center</td>\n    </tr>\n    <tr>\n      <th>1</th>\n      <td>52825057</td>\n      <td>2015-02-26 09:53:00</td>\n      <td>Donation</td>\n      <td>2 Units RBC</td>\n      <td>Mobile</td>\n    </tr>\n    <tr>\n      <th>2</th>\n      <td>53025596</td>\n      <td>2015-09-08 16:49:59</td>\n      <td>Donation</td>\n      <td>Whole Blood</td>\n      <td>Mobile</td>\n    </tr>\n    <tr>\n      <th>3</th>\n      <td>2056692</td>\n      <td>2015-08-26 12:15:00</td>\n      <td>Donation</td>\n      <td>Whole Blood</td>\n      <td>Mobile</td>\n    </tr>\n    <tr>\n      <th>4</th>\n      <td>52879521</td>\n      <td>2015-01-26 17:18:00</td>\n      <td>Incomplete</td>\n      <td>Whole Blood</td>\n      <td>Center</td>\n    </tr>\n  </tbody>\n</table>\n</div>"
     },
     "metadata": {},
     "execution_count": 7
    }
   ],
   "source": [
    "cleaned_data.head()"
   ]
  },
  {
   "cell_type": "markdown",
   "metadata": {},
   "source": [
    "# Generate features"
   ]
  },
  {
   "cell_type": "code",
   "execution_count": 8,
   "metadata": {},
   "outputs": [],
   "source": [
    "# Establish cutoff dates for the \"chunks\" of our final dataset\n",
    "cutoff_dates = ['2016-03-31 23:59:59', '2016-06-30 23:59:59']\n",
    "                # '2016-09-30 23:59:59', '2016-12-31 23:59:59',\n",
    "                # '2017-03-31 23:59:59', '2017-06-30 23:59:59', '2017-09-30 23:59:59', '2017-12-31 23:59:59',\n",
    "                # '2018-03-31 23:59:59', '2018-06-30 23:59:59', '2018-09-30 23:59:59', '2018-12-31 23:59:59',\n",
    "                # '2019-03-31 23:59:59', '2019-06-30 23:59:59']"
   ]
  },
  {
   "cell_type": "code",
   "execution_count": 9,
   "metadata": {},
   "outputs": [],
   "source": [
    "# Remove old processed file\n",
    "try:\n",
    "    os.remove('../data/processed/data.csv')\n",
    "except FileNotFoundError:\n",
    "    print(\"Processed data file does not exist - proceeding.\")"
   ]
  },
  {
   "cell_type": "code",
   "execution_count": 10,
   "metadata": {},
   "outputs": [
    {
     "output_type": "stream",
     "name": "stdout",
     "text": "Generating data for cutoff date of 2016-03-31 23:59:59, target period of 2016-04-01 00:00:00 - 2016-04-30 23:59:59...\nGenerating data for cutoff date of 2016-06-30 23:59:59, target period of 2016-07-01 00:00:00 - 2016-07-30 23:59:59...\n"
    }
   ],
   "source": [
    "cutoff_subsets = []\n",
    "\n",
    "for cutoff_date in cutoff_dates:\n",
    "    cutoff = pd.to_datetime(cutoff_date, format='%Y-%m-%d %H:%M:%S')  # Convert to datetime object for easier time comparisons\n",
    "    target_start_date = cutoff + pd.Timedelta(seconds=1)  # Midnight of the day after cutoff\n",
    "    target_end_date = cutoff + pd.Timedelta(days=30)  # 11:59:59 PM of the 30th day after cutoff\n",
    "    print(f\"Generating data for cutoff date of {cutoff}, target period of {target_start_date} - {target_end_date}...\")\n",
    "\n",
    "    # Filter data down to eligible registrations\n",
    "    cutoff_history = cleaned_data[cleaned_data['RegistrationTime'] <= cutoff]\n",
    "\n",
    "    # Calculate recency: difference between most recent donation date per donor, and the current cutoff date\n",
    "    # Calculate time: total days since first registration\n",
    "    recency = cutoff_history.groupby(by='Random_ID', as_index=False).agg({'RegistrationTime': ['min', 'max']})\n",
    "    recency.columns = recency.columns.droplevel(0)\n",
    "    recency.columns = ['Random_ID', 'FirstRegistrationTime', 'LastRegistrationTime']\n",
    "    recency['DaysSinceLastRegistration'] = (cutoff - recency['LastRegistrationTime']).dt.days  # Just capture the days portion\n",
    "    recency['DaysSinceFirstRegistration'] = (cutoff - recency['FirstRegistrationTime']).dt.days\n",
    "    \n",
    "    # Calculate recency by DonationType for eligibility calculations\n",
    "    recency_type = cutoff_history.groupby(by=['Random_ID', 'DonationType'], as_index=False) \\\n",
    "                                 .agg({'RegistrationTime': 'max'}).rename(columns={'RegistrationTime': 'LastRegistrationTime'})\n",
    "    recency_type['DaysSinceLastRegistration'] = recency_type['LastRegistrationTime'].apply(lambda c: (cutoff - c).days)\n",
    "    recency_type = recency_type.pivot(index='Random_ID', columns='DonationType', values='DaysSinceLastRegistration') \\\n",
    "                               .reset_index().rename_axis(None, axis=1)  # Make Random_ID a column; remove index name\n",
    "    recency_type.columns= ['Random_ID'] + ['DaysSinceLast' + col_name.replace(' ', '') + 'Registration' for col_name in recency_type.columns if col_name != 'Random_ID']\n",
    "\n",
    "    # Calculate frequency: number of registrations for donation in the history period\n",
    "    frequency = cutoff_history.groupby(by='Random_ID', as_index=False).agg({'RegistrationTime': 'count'}).rename(columns={'RegistrationTime': 'PastRegistrations'})\n",
    "\n",
    "    # Calculate frequency by DonationType\n",
    "    frequency_type = cutoff_history.groupby(by=['Random_ID', 'DonationType'], as_index=False) \\\n",
    "                                   .agg({'RegistrationTime': 'count'}).rename(columns={'RegistrationTime': 'TotalRegistrations'}) \\\n",
    "                                   .pivot(index='Random_ID', columns='DonationType', values='TotalRegistrations') \\\n",
    "                                   .reset_index().rename_axis(None, axis=1)  # Make Random_ID a column; remove index name\n",
    "    frequency_type.columns = ['Random_ID'] + ['Past' + col_name.replace(' ', '') + 'Registrations' for col_name in frequency_type.columns if col_name != 'Random_ID']\n",
    "\n",
    "    # Filter data down to target period\n",
    "    cutoff_target = cleaned_data[(cleaned_data['RegistrationTime'] >= target_start_date) & (cleaned_data['RegistrationTime'] <= target_end_date)]\n",
    "\n",
    "    # Calculate base measure for target: how many total registrations each donor had in the target period\n",
    "    response = cutoff_target.groupby(by='Random_ID', as_index=False).agg({'RegistrationTime': 'count'}).rename(columns={'RegistrationTime': 'TargetRegistrations'})\n",
    "    \n",
    "    # Calculate sub-targets: how many registrations of each DonationType each donor had in the target period\n",
    "    response_type = cutoff_target.groupby(by=['Random_ID', 'DonationType'], as_index=False) \\\n",
    "                                 .agg({'RegistrationTime': 'count'}).rename(columns={'RegistrationTime': 'TotalRegistrations'}) \\\n",
    "                                 .pivot(index='Random_ID', columns='DonationType', values='TotalRegistrations') \\\n",
    "                                 .reset_index().rename_axis(None, axis=1)\n",
    "    response_type.columns = ['Random_ID'] + ['Target' + col_name.replace(' ', '') + 'Registrations' for col_name in response_type.columns if col_name != 'Random_ID']\n",
    "\n",
    "    # Calculate registrations per location type\n",
    "    location_counts = cutoff_history.groupby(by=['Random_ID', 'DonationLocation'], as_index=False) \\\n",
    "                                    .agg({'RegistrationTime': 'count'}).rename(columns={'RegistrationTime': 'TotalRegistrations'})\n",
    "    \n",
    "    # Pivot to add as features\n",
    "    frequency_location = location_counts.pivot(index='Random_ID', columns='DonationLocation', values='TotalRegistrations').reset_index().rename_axis(None, axis=1)\n",
    "    frequency_location.columns = ['Random_ID'] + ['Past' + col_name.replace(' ', '') + 'Registrations' for col_name in frequency_location.columns if col_name != 'Random_ID']\n",
    "\n",
    "    # Calculate modal location per Random_ID\n",
    "    modal_location = location_counts.sort_values('TotalRegistrations', ascending=False).groupby(by='Random_ID').head(1).rename(columns={'DonationLocation': 'ModalDonationLocation'})\n",
    "\n",
    "    # Combine datasets to create a subset for the current cutoff date\n",
    "    cutoff_subset = pd.merge(recency, frequency, how='left') \\\n",
    "                      .merge(recency_type, how='left') \\\n",
    "                      .merge(frequency_type, how='left') \\\n",
    "                      .merge(frequency_location, how='left') \\\n",
    "                      .merge(modal_location, how='left') \\\n",
    "                      .merge(response, how='left') \\\n",
    "                      .merge(response_type, how='left')\n",
    "    cutoff_subset['RegisteredInTargetPeriod'] = cutoff_subset['TargetRegistrations'].apply(lambda x: 0 if pd.isna(x) else 1)\n",
    "    cutoff_subset['CutoffDate'] = cutoff\n",
    "    cutoff_subset['TargetPeriodStartDate'] = target_start_date\n",
    "    cutoff_subset['TargetPeriodEndDate'] = target_end_date\n",
    "\n",
    "    # Replace NaNs (the result of outer joins) with 0\n",
    "    cutoff_subset.fillna(0, inplace=True)\n",
    "\n",
    "    # Add the current subset to the list to combine later    \n",
    "    cutoff_subsets.append(cutoff_subset)\n",
    "\n",
    "    # Append to CSV\n",
    "    cutoff_subset.to_csv('../data/processed/data.csv', index=False, header=True, mode='a')\n",
    "\n",
    "# Combine all cutoff subsets together for processed data\n",
    "data = pd.concat(cutoff_subsets)"
   ]
  }
 ],
 "metadata": {
  "language_info": {
   "codemirror_mode": {
    "name": "ipython",
    "version": 3
   },
   "file_extension": ".py",
   "mimetype": "text/x-python",
   "name": "python",
   "nbconvert_exporter": "python",
   "pygments_lexer": "ipython3",
   "version": "3.7.7-final"
  },
  "orig_nbformat": 2,
  "kernelspec": {
   "name": "python3",
   "display_name": "Python 3"
  }
 },
 "nbformat": 4,
 "nbformat_minor": 2
}