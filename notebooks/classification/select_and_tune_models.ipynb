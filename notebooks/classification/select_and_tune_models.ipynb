{
 "cells": [
  {
   "cell_type": "code",
   "execution_count": 1,
   "metadata": {},
   "outputs": [],
   "source": [
    "import json\n",
    "import pandas as pd\n",
    "import numpy as np\n",
    "from sklearn.model_selection import GridSearchCV, cross_val_score\n",
    "from sklearn.ensemble import RandomForestClassifier, AdaBoostClassifier, GradientBoostingClassifier\n",
    "from sklearn.linear_model import LogisticRegression\n",
    "from sklearn.neighbors import KNeighborsClassifier\n",
    "from sklearn.tree import DecisionTreeClassifier\n",
    "from sklearn.naive_bayes import GaussianNB\n",
    "\n",
    "np.random.seed(503)"
   ]
  },
  {
   "cell_type": "code",
   "execution_count": 2,
   "metadata": {},
   "outputs": [],
   "source": [
    "# General parameters for the script\n",
    "target_name = 'RegisteredInTargetPeriod'  # Target variable\n",
    "features = [\n",
    "    'DaysSinceLastRegistration', 'DaysSinceFirstRegistration',\n",
    "    'PastRegistrations', 'LastDonationLocation_Center',\n",
    "    'LastDonationType_Platelets', 'CenterRegistrationProportion', 'DonationsPerDay',\n",
    "    'PlateletRegistrationProportion'\n",
    "]\n",
    "\n",
    "# scoring = 'precision'  # Precision: TP / (TP + FN), or % of predicted positives that are actually positive\n",
    "# scoring = 'balanced_accuracy'\n",
    "# scoring = 'roc_auc'\n",
    "scoring = 'average_precision'  # Summarizes a precision-recall curve: weighted mean of precisions achieved at each threshold for binary classification, appropriate for imbalanced data\n",
    "\n",
    "# Decide whether we're loading a subset or the full set\n",
    "# dataset_size = 'partial'\n",
    "dataset_size = 'full'\n",
    "\n",
    "if dataset_size == 'full':\n",
    "    file_names = {\n",
    "        'X': 'X_train_full.csv',\n",
    "        'y': 'y_train_full.csv'\n",
    "    }\n",
    "elif dataset_size == 'partial':\n",
    "    file_names = {\n",
    "        'X': 'X_train.csv',\n",
    "        'y': 'y_train.csv'\n",
    "    }"
   ]
  },
  {
   "cell_type": "code",
   "execution_count": 3,
   "metadata": {},
   "outputs": [],
   "source": [
    "# Load data\n",
    "with open('../../data/processed/dtypes.json') as in_file:\n",
    "    non_date_dtypes = json.load(in_file)\n",
    "\n",
    "with open('../../data/processed/date_types.json') as in_file:\n",
    "    date_dtypes = json.load(in_file)\n",
    "\n",
    "date_cols = list(date_dtypes)\n",
    "\n",
    "# Read data, specifically parsing date columns as dates and only picking the features + target\n",
    "X_train = pd.read_csv('../../data/processed/{0}'.format(file_names['X']), dtype=non_date_dtypes, index_col=0)\n",
    "y_train = pd.read_csv('../../data/processed/{0}'.format(file_names['y']), index_col=0)"
   ]
  },
  {
   "cell_type": "code",
   "execution_count": 4,
   "metadata": {},
   "outputs": [
    {
     "output_type": "execute_result",
     "data": {
      "text/plain": "          DaysSinceLastRegistration  DaysSinceFirstRegistration  \\\n2041464                         255                         255   \n10182607                        581                         581   \n3223306                         112                         722   \n9056300                          28                         487   \n3910737                          23                         561   \n\n          PastRegistrations  LastDonationLocation_Center  \\\n2041464                   1                          0.0   \n10182607                  1                          0.0   \n3223306                   2                          0.0   \n9056300                   3                          0.0   \n3910737                   5                          1.0   \n\n          LastDonationType_Platelets  CenterRegistrationProportion  \\\n2041464                          0.0                      0.000000   \n10182607                         0.0                      0.000000   \n3223306                          0.0                      0.000000   \n9056300                          0.0                      0.333333   \n3910737                          0.0                      0.200000   \n\n          DonationsPerDay  PlateletRegistrationProportion  \n2041464          0.003922                             0.0  \n10182607         0.001721                             0.0  \n3223306          0.002770                             0.0  \n9056300          0.006160                             0.0  \n3910737          0.008913                             0.0  ",
      "text/html": "<div>\n<style scoped>\n    .dataframe tbody tr th:only-of-type {\n        vertical-align: middle;\n    }\n\n    .dataframe tbody tr th {\n        vertical-align: top;\n    }\n\n    .dataframe thead th {\n        text-align: right;\n    }\n</style>\n<table border=\"1\" class=\"dataframe\">\n  <thead>\n    <tr style=\"text-align: right;\">\n      <th></th>\n      <th>DaysSinceLastRegistration</th>\n      <th>DaysSinceFirstRegistration</th>\n      <th>PastRegistrations</th>\n      <th>LastDonationLocation_Center</th>\n      <th>LastDonationType_Platelets</th>\n      <th>CenterRegistrationProportion</th>\n      <th>DonationsPerDay</th>\n      <th>PlateletRegistrationProportion</th>\n    </tr>\n  </thead>\n  <tbody>\n    <tr>\n      <th>2041464</th>\n      <td>255</td>\n      <td>255</td>\n      <td>1</td>\n      <td>0.0</td>\n      <td>0.0</td>\n      <td>0.000000</td>\n      <td>0.003922</td>\n      <td>0.0</td>\n    </tr>\n    <tr>\n      <th>10182607</th>\n      <td>581</td>\n      <td>581</td>\n      <td>1</td>\n      <td>0.0</td>\n      <td>0.0</td>\n      <td>0.000000</td>\n      <td>0.001721</td>\n      <td>0.0</td>\n    </tr>\n    <tr>\n      <th>3223306</th>\n      <td>112</td>\n      <td>722</td>\n      <td>2</td>\n      <td>0.0</td>\n      <td>0.0</td>\n      <td>0.000000</td>\n      <td>0.002770</td>\n      <td>0.0</td>\n    </tr>\n    <tr>\n      <th>9056300</th>\n      <td>28</td>\n      <td>487</td>\n      <td>3</td>\n      <td>0.0</td>\n      <td>0.0</td>\n      <td>0.333333</td>\n      <td>0.006160</td>\n      <td>0.0</td>\n    </tr>\n    <tr>\n      <th>3910737</th>\n      <td>23</td>\n      <td>561</td>\n      <td>5</td>\n      <td>1.0</td>\n      <td>0.0</td>\n      <td>0.200000</td>\n      <td>0.008913</td>\n      <td>0.0</td>\n    </tr>\n  </tbody>\n</table>\n</div>"
     },
     "metadata": {},
     "execution_count": 4
    }
   ],
   "source": [
    "X_train.head()"
   ]
  },
  {
   "cell_type": "code",
   "execution_count": 5,
   "metadata": {},
   "outputs": [
    {
     "output_type": "execute_result",
     "data": {
      "text/plain": "          RegisteredInTargetPeriod\n2041464                          0\n10182607                         0\n3223306                          1\n9056300                          1\n3910737                          0",
      "text/html": "<div>\n<style scoped>\n    .dataframe tbody tr th:only-of-type {\n        vertical-align: middle;\n    }\n\n    .dataframe tbody tr th {\n        vertical-align: top;\n    }\n\n    .dataframe thead th {\n        text-align: right;\n    }\n</style>\n<table border=\"1\" class=\"dataframe\">\n  <thead>\n    <tr style=\"text-align: right;\">\n      <th></th>\n      <th>RegisteredInTargetPeriod</th>\n    </tr>\n  </thead>\n  <tbody>\n    <tr>\n      <th>2041464</th>\n      <td>0</td>\n    </tr>\n    <tr>\n      <th>10182607</th>\n      <td>0</td>\n    </tr>\n    <tr>\n      <th>3223306</th>\n      <td>1</td>\n    </tr>\n    <tr>\n      <th>9056300</th>\n      <td>1</td>\n    </tr>\n    <tr>\n      <th>3910737</th>\n      <td>0</td>\n    </tr>\n  </tbody>\n</table>\n</div>"
     },
     "metadata": {},
     "execution_count": 5
    }
   ],
   "source": [
    "y_train.head()"
   ]
  },
  {
   "cell_type": "code",
   "execution_count": 6,
   "metadata": {},
   "outputs": [],
   "source": [
    "# This code from: http://www.davidsbatista.net/blog/2018/02/23/model_optimization/\n",
    "\n",
    "class EstimatorSelectionHelper:\n",
    "\n",
    "    def __init__(self, models, params):\n",
    "        if not set(models.keys()).issubset(set(params.keys())):\n",
    "            missing_params = list(set(models.keys()) - set(params.keys()))\n",
    "            raise ValueError(\"Some estimators are missing parameters: %s\" % missing_params)\n",
    "        self.models = models\n",
    "        self.params = params\n",
    "        self.keys = models.keys()\n",
    "        self.grid_searches = {}\n",
    "\n",
    "    def fit(self, X, y, cv=3, n_jobs=3, verbose=1, scoring=None, refit=False):\n",
    "        for key in self.keys:\n",
    "            print(\"Running GridSearchCV for %s.\" % key)\n",
    "            model = self.models[key]\n",
    "            params = self.params[key]\n",
    "            gs = GridSearchCV(model, params, cv=cv, n_jobs=n_jobs,\n",
    "                              verbose=verbose, scoring=scoring, refit=refit,\n",
    "                              return_train_score=True)\n",
    "            gs.fit(X,y)\n",
    "            self.grid_searches[key] = gs    \n",
    "\n",
    "    def score_summary(self, sort_by='mean_score'):\n",
    "        def row(key, scores, params):\n",
    "            d = {\n",
    "                 'estimator': key,\n",
    "                 'min_score': min(scores),\n",
    "                 'max_score': max(scores),\n",
    "                 'mean_score': np.mean(scores),\n",
    "                 'std_score': np.std(scores),\n",
    "            }\n",
    "            return pd.Series({**params,**d})\n",
    "\n",
    "        rows = []\n",
    "        for k in self.grid_searches:\n",
    "            print(k)\n",
    "            params = self.grid_searches[k].cv_results_['params']\n",
    "            scores = []\n",
    "            for i in range(self.grid_searches[k].cv):\n",
    "                key = \"split{}_test_score\".format(i)\n",
    "                r = self.grid_searches[k].cv_results_[key]        \n",
    "                scores.append(r.reshape(len(params),1))\n",
    "\n",
    "            all_scores = np.hstack(scores)\n",
    "            for p, s in zip(params,all_scores):\n",
    "                rows.append((row(k, s, p)))\n",
    "\n",
    "        df = pd.concat(rows, axis=1).T.sort_values([sort_by], ascending=False)\n",
    "\n",
    "        columns = ['estimator', 'min_score', 'mean_score', 'max_score', 'std_score']\n",
    "        columns = columns + [c for c in df.columns if c not in columns]\n",
    "\n",
    "        return df[columns]"
   ]
  },
  {
   "cell_type": "code",
   "execution_count": 7,
   "metadata": {},
   "outputs": [],
   "source": [
    "models = {\n",
    "    'LogisticRegression': LogisticRegression(),\n",
    "    'RandomForestClassifier': RandomForestClassifier(),\n",
    "    'AdaBoostClassifier': AdaBoostClassifier(),\n",
    "    'GradientBoostingClassifier': GradientBoostingClassifier(),\n",
    "    'KNeighborsClassifier': KNeighborsClassifier(),\n",
    "    'DecisionTreeClassifier': DecisionTreeClassifier(),\n",
    "    'GaussianNB': GaussianNB()\n",
    "}\n",
    "\n",
    "params = {\n",
    "    'LogisticRegression': { 'penalty': ['none', 'l2'] },\n",
    "    'RandomForestClassifier': { 'n_estimators': [64] },\n",
    "    'AdaBoostClassifier': { 'n_estimators': [64] },\n",
    "    'GradientBoostingClassifier': { 'n_estimators': [128], 'learning_rate': [0.5] },\n",
    "    'KNeighborsClassifier': { 'n_neighbors': [5, 10] },\n",
    "    'DecisionTreeClassifier': {},\n",
    "    'GaussianNB': {}\n",
    "}"
   ]
  },
  {
   "cell_type": "code",
   "execution_count": 8,
   "metadata": {
    "tags": []
   },
   "outputs": [
    {
     "output_type": "stream",
     "name": "stdout",
     "text": "Running GridSearchCV for LogisticRegression.\nFitting 3 folds for each of 2 candidates, totalling 6 fits\n[Parallel(n_jobs=8)]: Using backend LokyBackend with 8 concurrent workers.\n[Parallel(n_jobs=8)]: Done   6 out of   6 | elapsed:  1.3min finished\nRunning GridSearchCV for RandomForestClassifier.\nFitting 3 folds for each of 1 candidates, totalling 3 fits\n[Parallel(n_jobs=8)]: Using backend LokyBackend with 8 concurrent workers.\n[Parallel(n_jobs=8)]: Done   3 out of   3 | elapsed: 25.7min finished\nRunning GridSearchCV for AdaBoostClassifier.\nFitting 3 folds for each of 1 candidates, totalling 3 fits\n[Parallel(n_jobs=8)]: Using backend LokyBackend with 8 concurrent workers.\n[Parallel(n_jobs=8)]: Done   3 out of   3 | elapsed: 12.0min finished\nRunning GridSearchCV for GradientBoostingClassifier.\nFitting 3 folds for each of 1 candidates, totalling 3 fits\n[Parallel(n_jobs=8)]: Using backend LokyBackend with 8 concurrent workers.\n[Parallel(n_jobs=8)]: Done   3 out of   3 | elapsed: 18.5min finished\nRunning GridSearchCV for KNeighborsClassifier.\nFitting 3 folds for each of 2 candidates, totalling 6 fits\n[Parallel(n_jobs=8)]: Using backend LokyBackend with 8 concurrent workers.\n[Parallel(n_jobs=8)]: Done   6 out of   6 | elapsed: 40.6min finished\nRunning GridSearchCV for DecisionTreeClassifier.\nFitting 3 folds for each of 1 candidates, totalling 3 fits\n[Parallel(n_jobs=8)]: Using backend LokyBackend with 8 concurrent workers.\n[Parallel(n_jobs=8)]: Done   3 out of   3 | elapsed:  6.7min finished\nRunning GridSearchCV for GaussianNB.\nFitting 3 folds for each of 1 candidates, totalling 3 fits\n[Parallel(n_jobs=8)]: Using backend LokyBackend with 8 concurrent workers.\n[Parallel(n_jobs=8)]: Done   3 out of   3 | elapsed:   10.7s finished\n"
    }
   ],
   "source": [
    "# Run grid search CV across all estimators\n",
    "helper = EstimatorSelectionHelper(models, params)\n",
    "helper.fit(X_train, y_train, scoring=scoring, n_jobs=8)"
   ]
  },
  {
   "cell_type": "code",
   "execution_count": 9,
   "metadata": {
    "tags": []
   },
   "outputs": [
    {
     "output_type": "stream",
     "name": "stdout",
     "text": "LogisticRegression\nRandomForestClassifier\nAdaBoostClassifier\nGradientBoostingClassifier\nKNeighborsClassifier\nDecisionTreeClassifier\nGaussianNB\n"
    },
    {
     "output_type": "execute_result",
     "data": {
      "text/plain": "                    estimator min_score mean_score max_score    std_score  \\\n4  GradientBoostingClassifier  0.472926   0.473955  0.474727  0.000757219   \n3          AdaBoostClassifier   0.45347   0.454745   0.45541  0.000901456   \n1          LogisticRegression  0.432962   0.434453  0.435553   0.00109321   \n0          LogisticRegression  0.432962   0.434208  0.434843  0.000880985   \n2      RandomForestClassifier  0.392597   0.393142  0.393516   0.00039441   \n6        KNeighborsClassifier  0.377944    0.37847  0.379522  0.000743605   \n8                  GaussianNB  0.345631   0.345931  0.346116   0.00021423   \n5        KNeighborsClassifier  0.325234    0.32675  0.328592   0.00138991   \n7      DecisionTreeClassifier    0.2957   0.296026   0.29662  0.000420343   \n\n  penalty n_estimators learning_rate n_neighbors  \n4     NaN          128           0.5         NaN  \n3     NaN           64           NaN         NaN  \n1      l2          NaN           NaN         NaN  \n0    none          NaN           NaN         NaN  \n2     NaN           64           NaN         NaN  \n6     NaN          NaN           NaN          10  \n8     NaN          NaN           NaN         NaN  \n5     NaN          NaN           NaN           5  \n7     NaN          NaN           NaN         NaN  ",
      "text/html": "<div>\n<style scoped>\n    .dataframe tbody tr th:only-of-type {\n        vertical-align: middle;\n    }\n\n    .dataframe tbody tr th {\n        vertical-align: top;\n    }\n\n    .dataframe thead th {\n        text-align: right;\n    }\n</style>\n<table border=\"1\" class=\"dataframe\">\n  <thead>\n    <tr style=\"text-align: right;\">\n      <th></th>\n      <th>estimator</th>\n      <th>min_score</th>\n      <th>mean_score</th>\n      <th>max_score</th>\n      <th>std_score</th>\n      <th>penalty</th>\n      <th>n_estimators</th>\n      <th>learning_rate</th>\n      <th>n_neighbors</th>\n    </tr>\n  </thead>\n  <tbody>\n    <tr>\n      <th>4</th>\n      <td>GradientBoostingClassifier</td>\n      <td>0.472926</td>\n      <td>0.473955</td>\n      <td>0.474727</td>\n      <td>0.000757219</td>\n      <td>NaN</td>\n      <td>128</td>\n      <td>0.5</td>\n      <td>NaN</td>\n    </tr>\n    <tr>\n      <th>3</th>\n      <td>AdaBoostClassifier</td>\n      <td>0.45347</td>\n      <td>0.454745</td>\n      <td>0.45541</td>\n      <td>0.000901456</td>\n      <td>NaN</td>\n      <td>64</td>\n      <td>NaN</td>\n      <td>NaN</td>\n    </tr>\n    <tr>\n      <th>1</th>\n      <td>LogisticRegression</td>\n      <td>0.432962</td>\n      <td>0.434453</td>\n      <td>0.435553</td>\n      <td>0.00109321</td>\n      <td>l2</td>\n      <td>NaN</td>\n      <td>NaN</td>\n      <td>NaN</td>\n    </tr>\n    <tr>\n      <th>0</th>\n      <td>LogisticRegression</td>\n      <td>0.432962</td>\n      <td>0.434208</td>\n      <td>0.434843</td>\n      <td>0.000880985</td>\n      <td>none</td>\n      <td>NaN</td>\n      <td>NaN</td>\n      <td>NaN</td>\n    </tr>\n    <tr>\n      <th>2</th>\n      <td>RandomForestClassifier</td>\n      <td>0.392597</td>\n      <td>0.393142</td>\n      <td>0.393516</td>\n      <td>0.00039441</td>\n      <td>NaN</td>\n      <td>64</td>\n      <td>NaN</td>\n      <td>NaN</td>\n    </tr>\n    <tr>\n      <th>6</th>\n      <td>KNeighborsClassifier</td>\n      <td>0.377944</td>\n      <td>0.37847</td>\n      <td>0.379522</td>\n      <td>0.000743605</td>\n      <td>NaN</td>\n      <td>NaN</td>\n      <td>NaN</td>\n      <td>10</td>\n    </tr>\n    <tr>\n      <th>8</th>\n      <td>GaussianNB</td>\n      <td>0.345631</td>\n      <td>0.345931</td>\n      <td>0.346116</td>\n      <td>0.00021423</td>\n      <td>NaN</td>\n      <td>NaN</td>\n      <td>NaN</td>\n      <td>NaN</td>\n    </tr>\n    <tr>\n      <th>5</th>\n      <td>KNeighborsClassifier</td>\n      <td>0.325234</td>\n      <td>0.32675</td>\n      <td>0.328592</td>\n      <td>0.00138991</td>\n      <td>NaN</td>\n      <td>NaN</td>\n      <td>NaN</td>\n      <td>5</td>\n    </tr>\n    <tr>\n      <th>7</th>\n      <td>DecisionTreeClassifier</td>\n      <td>0.2957</td>\n      <td>0.296026</td>\n      <td>0.29662</td>\n      <td>0.000420343</td>\n      <td>NaN</td>\n      <td>NaN</td>\n      <td>NaN</td>\n      <td>NaN</td>\n    </tr>\n  </tbody>\n</table>\n</div>"
     },
     "metadata": {},
     "execution_count": 9
    }
   ],
   "source": [
    "helper.score_summary(sort_by='mean_score')"
   ]
  },
  {
   "cell_type": "markdown",
   "metadata": {},
   "source": [
    "# Results"
   ]
  },
  {
   "cell_type": "markdown",
   "metadata": {},
   "source": [
    "## Run 1\n",
    "* Partial dataset: `GradientBoostingClassifier` with `n_estimators` = 128, `learning_rate` = 0.5 had the best performance with a mean average precision of **0.674885**.\n",
    "* Full dataset: `RandomForestClassifier` with `n_estimators` = 64 had the best performance with a mean average precision of **0.799422**.\n",
    "\n",
    "## Run 2\n",
    "* Full dataset: `GradientBoostingClassifier` with `n_estimators` = 128, `learning_rate` = 0.5, `mean_score` = 0.703001\n",
    "\n"
   ]
  }
 ],
 "metadata": {
  "language_info": {
   "codemirror_mode": {
    "name": "ipython",
    "version": 3
   },
   "file_extension": ".py",
   "mimetype": "text/x-python",
   "name": "python",
   "nbconvert_exporter": "python",
   "pygments_lexer": "ipython3",
   "version": 3
  },
  "orig_nbformat": 2,
  "kernelspec": {
   "name": "python_defaultSpec_1594043978790",
   "display_name": "Python 3.7.7 64-bit ('oneblood-inventory': conda)"
  }
 },
 "nbformat": 4,
 "nbformat_minor": 2
}