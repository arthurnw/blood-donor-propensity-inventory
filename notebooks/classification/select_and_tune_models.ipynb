{
 "cells": [
  {
   "cell_type": "code",
   "execution_count": 1,
   "metadata": {},
   "outputs": [],
   "source": [
    "import json\n",
    "import pandas as pd\n",
    "import numpy as np\n",
    "from sklearn.model_selection import GridSearchCV, cross_val_score\n",
    "from sklearn.ensemble import RandomForestClassifier, AdaBoostClassifier, GradientBoostingClassifier\n",
    "from sklearn.linear_model import LogisticRegression\n",
    "from sklearn.neighbors import KNeighborsClassifier\n",
    "from sklearn.tree import DecisionTreeClassifier\n",
    "from sklearn.naive_bayes import GaussianNB\n",
    "\n",
    "np.random.seed(503)"
   ]
  },
  {
   "cell_type": "code",
   "execution_count": 2,
   "metadata": {},
   "outputs": [],
   "source": [
    "# General parameters for the script\n",
    "target_name = 'RegisteredInTargetPeriod'  # Target variable\n",
    "features = [\n",
    "    'DaysSinceLastRegistration', 'DaysSinceFirstRegistration',\n",
    "    'PastRegistrations', 'LastDonationLocation_Center',\n",
    "    'LastDonationType_Platelets', 'CenterRegistrationProportion', 'DonationsPerDay',\n",
    "    'PlateletRegistrationProportion'\n",
    "]\n",
    "\n",
    "# scoring = 'precision'  # Precision: TP / (TP + FN), or % of predicted positives that are actually positive\n",
    "# scoring = 'balanced_accuracy'\n",
    "# scoring = 'roc_auc'\n",
    "scoring = 'average_precision'  # Summarizes a precision-recall curve: weighted mean of precisions achieved at each threshold for binary classification, appropriate for imbalanced data\n",
    "\n",
    "# Decide whether we're loading a subset or the full set\n",
    "# dataset_size = 'partial'\n",
    "dataset_size = 'full'\n",
    "\n",
    "if dataset_size == 'full':\n",
    "    file_names = {\n",
    "        'X': 'X_train_full.csv',\n",
    "        'y': 'y_train_full.csv'\n",
    "    }\n",
    "elif dataset_size == 'partial':\n",
    "    file_names = {\n",
    "        'X': 'X_train.csv',\n",
    "        'y': 'y_train.csv'\n",
    "    }"
   ]
  },
  {
   "cell_type": "code",
   "execution_count": 3,
   "metadata": {},
   "outputs": [],
   "source": [
    "# Load data\n",
    "with open('../../data/processed/dtypes.json') as in_file:\n",
    "    non_date_dtypes = json.load(in_file)\n",
    "\n",
    "with open('../../data/processed/date_types.json') as in_file:\n",
    "    date_dtypes = json.load(in_file)\n",
    "\n",
    "date_cols = list(date_dtypes)\n",
    "\n",
    "# Read data, specifically parsing date columns as dates and only picking the features + target\n",
    "X_train = pd.read_csv('../../data/processed/{0}'.format(file_names['X']), dtype=non_date_dtypes, index_col=0)\n",
    "y_train = pd.read_csv('../../data/processed/{0}'.format(file_names['y']), index_col=0)"
   ]
  },
  {
   "cell_type": "code",
   "execution_count": 4,
   "metadata": {},
   "outputs": [
    {
     "output_type": "execute_result",
     "data": {
      "text/plain": "   DaysSinceLastRegistration  DaysSinceFirstRegistration  PastRegistrations  \\\n0                       1601                        1601                  1   \n1                        980                        1140                  2   \n2                        911                        1270                  3   \n3                        626                         957                  4   \n4                        649                        1007                  5   \n\n   LastDonationLocation_Center  LastDonationType_Platelets  \\\n0                          0.0                         1.0   \n1                          0.0                         0.0   \n2                          0.0                         0.0   \n3                          0.0                         0.0   \n4                          0.0                         0.0   \n\n   CenterRegistrationProportion  DonationsPerDay  \\\n0                           0.0         0.000625   \n1                           0.5         0.001754   \n2                           0.0         0.002362   \n3                           0.0         0.004180   \n4                           0.0         0.004965   \n\n   PlateletRegistrationProportion  \n0                             1.0  \n1                             0.0  \n2                             0.0  \n3                             0.0  \n4                             0.0  ",
      "text/html": "<div>\n<style scoped>\n    .dataframe tbody tr th:only-of-type {\n        vertical-align: middle;\n    }\n\n    .dataframe tbody tr th {\n        vertical-align: top;\n    }\n\n    .dataframe thead th {\n        text-align: right;\n    }\n</style>\n<table border=\"1\" class=\"dataframe\">\n  <thead>\n    <tr style=\"text-align: right;\">\n      <th></th>\n      <th>DaysSinceLastRegistration</th>\n      <th>DaysSinceFirstRegistration</th>\n      <th>PastRegistrations</th>\n      <th>LastDonationLocation_Center</th>\n      <th>LastDonationType_Platelets</th>\n      <th>CenterRegistrationProportion</th>\n      <th>DonationsPerDay</th>\n      <th>PlateletRegistrationProportion</th>\n    </tr>\n  </thead>\n  <tbody>\n    <tr>\n      <th>0</th>\n      <td>1601</td>\n      <td>1601</td>\n      <td>1</td>\n      <td>0.0</td>\n      <td>1.0</td>\n      <td>0.0</td>\n      <td>0.000625</td>\n      <td>1.0</td>\n    </tr>\n    <tr>\n      <th>1</th>\n      <td>980</td>\n      <td>1140</td>\n      <td>2</td>\n      <td>0.0</td>\n      <td>0.0</td>\n      <td>0.5</td>\n      <td>0.001754</td>\n      <td>0.0</td>\n    </tr>\n    <tr>\n      <th>2</th>\n      <td>911</td>\n      <td>1270</td>\n      <td>3</td>\n      <td>0.0</td>\n      <td>0.0</td>\n      <td>0.0</td>\n      <td>0.002362</td>\n      <td>0.0</td>\n    </tr>\n    <tr>\n      <th>3</th>\n      <td>626</td>\n      <td>957</td>\n      <td>4</td>\n      <td>0.0</td>\n      <td>0.0</td>\n      <td>0.0</td>\n      <td>0.004180</td>\n      <td>0.0</td>\n    </tr>\n    <tr>\n      <th>4</th>\n      <td>649</td>\n      <td>1007</td>\n      <td>5</td>\n      <td>0.0</td>\n      <td>0.0</td>\n      <td>0.0</td>\n      <td>0.004965</td>\n      <td>0.0</td>\n    </tr>\n  </tbody>\n</table>\n</div>"
     },
     "metadata": {},
     "execution_count": 4
    }
   ],
   "source": [
    "X_train.head()"
   ]
  },
  {
   "cell_type": "code",
   "execution_count": 5,
   "metadata": {},
   "outputs": [
    {
     "output_type": "execute_result",
     "data": {
      "text/plain": "   RegisteredInTargetPeriod\n0                         0\n1                         0\n2                         0\n3                         0\n4                         0",
      "text/html": "<div>\n<style scoped>\n    .dataframe tbody tr th:only-of-type {\n        vertical-align: middle;\n    }\n\n    .dataframe tbody tr th {\n        vertical-align: top;\n    }\n\n    .dataframe thead th {\n        text-align: right;\n    }\n</style>\n<table border=\"1\" class=\"dataframe\">\n  <thead>\n    <tr style=\"text-align: right;\">\n      <th></th>\n      <th>RegisteredInTargetPeriod</th>\n    </tr>\n  </thead>\n  <tbody>\n    <tr>\n      <th>0</th>\n      <td>0</td>\n    </tr>\n    <tr>\n      <th>1</th>\n      <td>0</td>\n    </tr>\n    <tr>\n      <th>2</th>\n      <td>0</td>\n    </tr>\n    <tr>\n      <th>3</th>\n      <td>0</td>\n    </tr>\n    <tr>\n      <th>4</th>\n      <td>0</td>\n    </tr>\n  </tbody>\n</table>\n</div>"
     },
     "metadata": {},
     "execution_count": 5
    }
   ],
   "source": [
    "y_train.head()"
   ]
  },
  {
   "cell_type": "code",
   "execution_count": 6,
   "metadata": {},
   "outputs": [],
   "source": [
    "# This code from: http://www.davidsbatista.net/blog/2018/02/23/model_optimization/\n",
    "\n",
    "class EstimatorSelectionHelper:\n",
    "\n",
    "    def __init__(self, models, params):\n",
    "        if not set(models.keys()).issubset(set(params.keys())):\n",
    "            missing_params = list(set(models.keys()) - set(params.keys()))\n",
    "            raise ValueError(\"Some estimators are missing parameters: %s\" % missing_params)\n",
    "        self.models = models\n",
    "        self.params = params\n",
    "        self.keys = models.keys()\n",
    "        self.grid_searches = {}\n",
    "\n",
    "    def fit(self, X, y, cv=3, n_jobs=3, verbose=1, scoring=None, refit=False):\n",
    "        for key in self.keys:\n",
    "            print(\"Running GridSearchCV for %s.\" % key)\n",
    "            model = self.models[key]\n",
    "            params = self.params[key]\n",
    "            gs = GridSearchCV(model, params, cv=cv, n_jobs=n_jobs,\n",
    "                              verbose=verbose, scoring=scoring, refit=refit,\n",
    "                              return_train_score=True)\n",
    "            gs.fit(X,y)\n",
    "            self.grid_searches[key] = gs    \n",
    "\n",
    "    def score_summary(self, sort_by='mean_score'):\n",
    "        def row(key, scores, params):\n",
    "            d = {\n",
    "                 'estimator': key,\n",
    "                 'min_score': min(scores),\n",
    "                 'max_score': max(scores),\n",
    "                 'mean_score': np.mean(scores),\n",
    "                 'std_score': np.std(scores),\n",
    "            }\n",
    "            return pd.Series({**params,**d})\n",
    "\n",
    "        rows = []\n",
    "        for k in self.grid_searches:\n",
    "            print(k)\n",
    "            params = self.grid_searches[k].cv_results_['params']\n",
    "            scores = []\n",
    "            for i in range(self.grid_searches[k].cv):\n",
    "                key = \"split{}_test_score\".format(i)\n",
    "                r = self.grid_searches[k].cv_results_[key]        \n",
    "                scores.append(r.reshape(len(params),1))\n",
    "\n",
    "            all_scores = np.hstack(scores)\n",
    "            for p, s in zip(params,all_scores):\n",
    "                rows.append((row(k, s, p)))\n",
    "\n",
    "        df = pd.concat(rows, axis=1).T.sort_values([sort_by], ascending=False)\n",
    "\n",
    "        columns = ['estimator', 'min_score', 'mean_score', 'max_score', 'std_score']\n",
    "        columns = columns + [c for c in df.columns if c not in columns]\n",
    "\n",
    "        return df[columns]"
   ]
  },
  {
   "cell_type": "code",
   "execution_count": 7,
   "metadata": {},
   "outputs": [],
   "source": [
    "models = {\n",
    "    'LogisticRegression': LogisticRegression(),\n",
    "    'RandomForestClassifier': RandomForestClassifier(),\n",
    "    'AdaBoostClassifier': AdaBoostClassifier(),\n",
    "    'GradientBoostingClassifier': GradientBoostingClassifier(),\n",
    "    'KNeighborsClassifier': KNeighborsClassifier(),\n",
    "    'DecisionTreeClassifier': DecisionTreeClassifier(),\n",
    "    'GaussianNB': GaussianNB()\n",
    "}\n",
    "\n",
    "params = {\n",
    "    'LogisticRegression': { 'penalty': ['none', 'l2'] },\n",
    "    'RandomForestClassifier': { 'n_estimators': [32, 64] },\n",
    "    'AdaBoostClassifier': { 'n_estimators': [32, 64] },\n",
    "    'GradientBoostingClassifier': { 'n_estimators': [64, 128], 'learning_rate': [0.1, 0.5] },\n",
    "    'KNeighborsClassifier': { 'n_neighbors': [5, 10] },\n",
    "    'DecisionTreeClassifier': {},\n",
    "    'GaussianNB': {}\n",
    "}"
   ]
  },
  {
   "cell_type": "code",
   "execution_count": 8,
   "metadata": {
    "tags": []
   },
   "outputs": [
    {
     "output_type": "stream",
     "name": "stdout",
     "text": "Running GridSearchCV for LogisticRegression.\nFitting 3 folds for each of 2 candidates, totalling 6 fits\n[Parallel(n_jobs=8)]: Using backend LokyBackend with 8 concurrent workers.\n[Parallel(n_jobs=8)]: Done   6 out of   6 | elapsed:   25.3s finished\nRunning GridSearchCV for RandomForestClassifier.\nFitting 3 folds for each of 2 candidates, totalling 6 fits\n[Parallel(n_jobs=8)]: Using backend LokyBackend with 8 concurrent workers.\n[Parallel(n_jobs=8)]: Done   6 out of   6 | elapsed: 13.0min finished\nRunning GridSearchCV for AdaBoostClassifier.\nFitting 3 folds for each of 2 candidates, totalling 6 fits\n[Parallel(n_jobs=8)]: Using backend LokyBackend with 8 concurrent workers.\n[Parallel(n_jobs=8)]: Done   6 out of   6 | elapsed:  5.1min finished\nRunning GridSearchCV for GradientBoostingClassifier.\nFitting 3 folds for each of 4 candidates, totalling 12 fits\n[Parallel(n_jobs=8)]: Using backend LokyBackend with 8 concurrent workers.\n[Parallel(n_jobs=8)]: Done  10 out of  12 | elapsed: 23.0min remaining:  4.6min\n[Parallel(n_jobs=8)]: Done  12 out of  12 | elapsed: 23.9min finished\nRunning GridSearchCV for KNeighborsClassifier.\nFitting 3 folds for each of 2 candidates, totalling 6 fits\n[Parallel(n_jobs=8)]: Using backend LokyBackend with 8 concurrent workers.\n[Parallel(n_jobs=8)]: Done   6 out of   6 | elapsed:  7.7min finished\nRunning GridSearchCV for DecisionTreeClassifier.\nFitting 3 folds for each of 1 candidates, totalling 3 fits\n[Parallel(n_jobs=8)]: Using backend LokyBackend with 8 concurrent workers.\n[Parallel(n_jobs=8)]: Done   3 out of   3 | elapsed:   30.9s finished\nRunning GridSearchCV for GaussianNB.\nFitting 3 folds for each of 1 candidates, totalling 3 fits\n[Parallel(n_jobs=8)]: Using backend LokyBackend with 8 concurrent workers.\n[Parallel(n_jobs=8)]: Done   3 out of   3 | elapsed:    4.9s finished\n"
    }
   ],
   "source": [
    "# Run grid search CV across all estimators\n",
    "helper = EstimatorSelectionHelper(models, params)\n",
    "helper.fit(X_train, y_train, scoring=scoring, n_jobs=8)"
   ]
  },
  {
   "cell_type": "code",
   "execution_count": 9,
   "metadata": {
    "tags": []
   },
   "outputs": [
    {
     "output_type": "stream",
     "name": "stdout",
     "text": "LogisticRegression\nRandomForestClassifier\nAdaBoostClassifier\nGradientBoostingClassifier\nKNeighborsClassifier\nDecisionTreeClassifier\nGaussianNB\n"
    },
    {
     "output_type": "execute_result",
     "data": {
      "text/plain": "                     estimator min_score mean_score max_score   std_score  \\\n3       RandomForestClassifier  0.674052   0.799422  0.862289   0.0886498   \n2       RandomForestClassifier  0.671488    0.79639  0.859425   0.0883201   \n9   GradientBoostingClassifier  0.668471     0.7664  0.815526   0.0692462   \n8   GradientBoostingClassifier   0.67432   0.758469  0.800685   0.0595024   \n7   GradientBoostingClassifier  0.685567   0.747886  0.779849   0.0440715   \n6   GradientBoostingClassifier  0.688606   0.739391  0.765789   0.0359202   \n5           AdaBoostClassifier  0.671847   0.721603   0.74768   0.0351965   \n4           AdaBoostClassifier  0.654685    0.70606  0.732076   0.0363289   \n11        KNeighborsClassifier  0.680187   0.693262   0.69996  0.00924664   \n12      DecisionTreeClassifier  0.564528    0.68116  0.739538   0.0824707   \n10        KNeighborsClassifier  0.661362   0.677082  0.686602   0.0111976   \n1           LogisticRegression  0.660922   0.664205  0.669005  0.00346941   \n0           LogisticRegression  0.660922   0.664205  0.669005  0.00346941   \n13                  GaussianNB    0.5767   0.584359  0.598159  0.00977787   \n\n   penalty n_estimators learning_rate n_neighbors  \n3      NaN           64           NaN         NaN  \n2      NaN           32           NaN         NaN  \n9      NaN          128           0.5         NaN  \n8      NaN           64           0.5         NaN  \n7      NaN          128           0.1         NaN  \n6      NaN           64           0.1         NaN  \n5      NaN           64           NaN         NaN  \n4      NaN           32           NaN         NaN  \n11     NaN          NaN           NaN          10  \n12     NaN          NaN           NaN         NaN  \n10     NaN          NaN           NaN           5  \n1       l2          NaN           NaN         NaN  \n0     none          NaN           NaN         NaN  \n13     NaN          NaN           NaN         NaN  ",
      "text/html": "<div>\n<style scoped>\n    .dataframe tbody tr th:only-of-type {\n        vertical-align: middle;\n    }\n\n    .dataframe tbody tr th {\n        vertical-align: top;\n    }\n\n    .dataframe thead th {\n        text-align: right;\n    }\n</style>\n<table border=\"1\" class=\"dataframe\">\n  <thead>\n    <tr style=\"text-align: right;\">\n      <th></th>\n      <th>estimator</th>\n      <th>min_score</th>\n      <th>mean_score</th>\n      <th>max_score</th>\n      <th>std_score</th>\n      <th>penalty</th>\n      <th>n_estimators</th>\n      <th>learning_rate</th>\n      <th>n_neighbors</th>\n    </tr>\n  </thead>\n  <tbody>\n    <tr>\n      <th>3</th>\n      <td>RandomForestClassifier</td>\n      <td>0.674052</td>\n      <td>0.799422</td>\n      <td>0.862289</td>\n      <td>0.0886498</td>\n      <td>NaN</td>\n      <td>64</td>\n      <td>NaN</td>\n      <td>NaN</td>\n    </tr>\n    <tr>\n      <th>2</th>\n      <td>RandomForestClassifier</td>\n      <td>0.671488</td>\n      <td>0.79639</td>\n      <td>0.859425</td>\n      <td>0.0883201</td>\n      <td>NaN</td>\n      <td>32</td>\n      <td>NaN</td>\n      <td>NaN</td>\n    </tr>\n    <tr>\n      <th>9</th>\n      <td>GradientBoostingClassifier</td>\n      <td>0.668471</td>\n      <td>0.7664</td>\n      <td>0.815526</td>\n      <td>0.0692462</td>\n      <td>NaN</td>\n      <td>128</td>\n      <td>0.5</td>\n      <td>NaN</td>\n    </tr>\n    <tr>\n      <th>8</th>\n      <td>GradientBoostingClassifier</td>\n      <td>0.67432</td>\n      <td>0.758469</td>\n      <td>0.800685</td>\n      <td>0.0595024</td>\n      <td>NaN</td>\n      <td>64</td>\n      <td>0.5</td>\n      <td>NaN</td>\n    </tr>\n    <tr>\n      <th>7</th>\n      <td>GradientBoostingClassifier</td>\n      <td>0.685567</td>\n      <td>0.747886</td>\n      <td>0.779849</td>\n      <td>0.0440715</td>\n      <td>NaN</td>\n      <td>128</td>\n      <td>0.1</td>\n      <td>NaN</td>\n    </tr>\n    <tr>\n      <th>6</th>\n      <td>GradientBoostingClassifier</td>\n      <td>0.688606</td>\n      <td>0.739391</td>\n      <td>0.765789</td>\n      <td>0.0359202</td>\n      <td>NaN</td>\n      <td>64</td>\n      <td>0.1</td>\n      <td>NaN</td>\n    </tr>\n    <tr>\n      <th>5</th>\n      <td>AdaBoostClassifier</td>\n      <td>0.671847</td>\n      <td>0.721603</td>\n      <td>0.74768</td>\n      <td>0.0351965</td>\n      <td>NaN</td>\n      <td>64</td>\n      <td>NaN</td>\n      <td>NaN</td>\n    </tr>\n    <tr>\n      <th>4</th>\n      <td>AdaBoostClassifier</td>\n      <td>0.654685</td>\n      <td>0.70606</td>\n      <td>0.732076</td>\n      <td>0.0363289</td>\n      <td>NaN</td>\n      <td>32</td>\n      <td>NaN</td>\n      <td>NaN</td>\n    </tr>\n    <tr>\n      <th>11</th>\n      <td>KNeighborsClassifier</td>\n      <td>0.680187</td>\n      <td>0.693262</td>\n      <td>0.69996</td>\n      <td>0.00924664</td>\n      <td>NaN</td>\n      <td>NaN</td>\n      <td>NaN</td>\n      <td>10</td>\n    </tr>\n    <tr>\n      <th>12</th>\n      <td>DecisionTreeClassifier</td>\n      <td>0.564528</td>\n      <td>0.68116</td>\n      <td>0.739538</td>\n      <td>0.0824707</td>\n      <td>NaN</td>\n      <td>NaN</td>\n      <td>NaN</td>\n      <td>NaN</td>\n    </tr>\n    <tr>\n      <th>10</th>\n      <td>KNeighborsClassifier</td>\n      <td>0.661362</td>\n      <td>0.677082</td>\n      <td>0.686602</td>\n      <td>0.0111976</td>\n      <td>NaN</td>\n      <td>NaN</td>\n      <td>NaN</td>\n      <td>5</td>\n    </tr>\n    <tr>\n      <th>1</th>\n      <td>LogisticRegression</td>\n      <td>0.660922</td>\n      <td>0.664205</td>\n      <td>0.669005</td>\n      <td>0.00346941</td>\n      <td>l2</td>\n      <td>NaN</td>\n      <td>NaN</td>\n      <td>NaN</td>\n    </tr>\n    <tr>\n      <th>0</th>\n      <td>LogisticRegression</td>\n      <td>0.660922</td>\n      <td>0.664205</td>\n      <td>0.669005</td>\n      <td>0.00346941</td>\n      <td>none</td>\n      <td>NaN</td>\n      <td>NaN</td>\n      <td>NaN</td>\n    </tr>\n    <tr>\n      <th>13</th>\n      <td>GaussianNB</td>\n      <td>0.5767</td>\n      <td>0.584359</td>\n      <td>0.598159</td>\n      <td>0.00977787</td>\n      <td>NaN</td>\n      <td>NaN</td>\n      <td>NaN</td>\n      <td>NaN</td>\n    </tr>\n  </tbody>\n</table>\n</div>"
     },
     "metadata": {},
     "execution_count": 9
    }
   ],
   "source": [
    "helper.score_summary(sort_by='mean_score')"
   ]
  },
  {
   "cell_type": "markdown",
   "metadata": {},
   "source": [
    "# Results"
   ]
  },
  {
   "cell_type": "markdown",
   "metadata": {},
   "source": [
    "\n",
    "Partial dataset: `GradientBoostingClassifier` with `n_estimators` = 128, `learning_rate` = 0.5 had the best performance with a mean average precision of **0.674885**.\n",
    "\n",
    "Full dataset: `RandomForestClassifier` with `n_estimators` = 64 had the best performance with a mean average precision of **0.799422**."
   ]
  }
 ],
 "metadata": {
  "language_info": {
   "codemirror_mode": {
    "name": "ipython",
    "version": 3
   },
   "file_extension": ".py",
   "mimetype": "text/x-python",
   "name": "python",
   "nbconvert_exporter": "python",
   "pygments_lexer": "ipython3",
   "version": 3
  },
  "orig_nbformat": 2,
  "kernelspec": {
   "name": "python_defaultSpec_1593988396525",
   "display_name": "Python 3.7.7 64-bit ('oneblood-inventory': conda)"
  }
 },
 "nbformat": 4,
 "nbformat_minor": 2
}