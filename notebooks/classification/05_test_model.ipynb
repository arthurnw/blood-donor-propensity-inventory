{
 "cells": [
  {
   "cell_type": "code",
   "execution_count": 1,
   "metadata": {},
   "outputs": [],
   "source": [
    "import json\n",
    "import pandas as pd\n",
    "import numpy as np\n",
    "import joblib\n",
    "from sklearn.metrics import precision_score, roc_auc_score, confusion_matrix, classification_report, average_precision_score, balanced_accuracy_score\n",
    "import seaborn as sb\n",
    "import matplotlib.pyplot as plt\n",
    "\n",
    "np.random.seed(503)"
   ]
  },
  {
   "cell_type": "code",
   "execution_count": 2,
   "metadata": {},
   "outputs": [],
   "source": [
    "# General parameters for the script\n",
    "target_name = 'RegisteredInTargetPeriod'  # Target variable\n",
    "features = [\n",
    "    'DaysSinceLastRegistration', 'DaysSinceFirstRegistration',\n",
    "    'PastRegistrations', 'LastDonationLocation_Center',\n",
    "    'LastDonationType_Platelets', 'CenterRegistrationProportion', 'DonationsPerDay',\n",
    "    'PlateletRegistrationProportion'\n",
    "]\n",
    "\n",
    "# Decide whether we're loading a subset or the full set\n",
    "# dataset_size = 'partial'\n",
    "dataset_size = 'full'\n",
    "\n",
    "if dataset_size == 'full':\n",
    "    file_names = {\n",
    "        'X': 'X_test_full.csv',\n",
    "        'y': 'y_test_full.csv',\n",
    "        'model': '../../models/classifier_full.pkl'\n",
    "        # 'model': '../../models/logistic_full.pkl'\n",
    "        # 'model': '../../models/xgboost_full.pkl'\n",
    "    }\n",
    "elif dataset_size == 'partial':\n",
    "    file_names = {\n",
    "        'X': 'X_test.csv',\n",
    "        'y': 'y_test.csv',\n",
    "        'model': '../../models/classifier.pkl'\n",
    "        # 'model': '../../models/logistic.pkl'\n",
    "        # 'model': '../../models/xgboost.pkl'\n",
    "    }"
   ]
  },
  {
   "cell_type": "code",
   "execution_count": 3,
   "metadata": {},
   "outputs": [
    {
     "name": "stderr",
     "output_type": "stream",
     "text": [
      "C:\\Users\\rthrw\\miniconda3\\envs\\oneblood-inventory\\lib\\site-packages\\numpy\\lib\\arraysetops.py:569: FutureWarning: elementwise comparison failed; returning scalar instead, but in the future will perform elementwise comparison\n",
      "  mask |= (ar1 == a)\n"
     ]
    }
   ],
   "source": [
    "# Load data\n",
    "with open('../../data/processed/dtypes.json') as in_file:\n",
    "    non_date_dtypes = json.load(in_file)\n",
    "\n",
    "with open('../../data/processed/date_types.json') as in_file:\n",
    "    date_dtypes = json.load(in_file)\n",
    "\n",
    "date_cols = list(date_dtypes)\n",
    "\n",
    "# Read data, specifically parsing date columns as dates and only picking the features + target\n",
    "X_test = pd.read_csv('../../data/processed/{0}'.format(file_names['X']), dtype=non_date_dtypes, index_col=0)\n",
    "y_test = pd.read_csv('../../data/processed/{0}'.format(file_names['y']), index_col=0)"
   ]
  },
  {
   "cell_type": "code",
   "execution_count": 4,
   "metadata": {},
   "outputs": [],
   "source": [
    "# Load model\n",
    "clf = joblib.load(file_names['model'])"
   ]
  },
  {
   "cell_type": "code",
   "execution_count": 5,
   "metadata": {
    "tags": []
   },
   "outputs": [
    {
     "name": "stdout",
     "output_type": "stream",
     "text": [
      "\n",
      "              precision    recall  f1-score   support\n",
      "\n",
      "           0       0.94      1.00      0.97   6094080\n",
      "           1       0.68      0.09      0.16    396687\n",
      "\n",
      "    accuracy                           0.94   6490767\n",
      "   macro avg       0.81      0.54      0.57   6490767\n",
      "weighted avg       0.93      0.94      0.92   6490767\n",
      "\n",
      "0.6788958047349518\n"
     ]
    }
   ],
   "source": [
    "# Score model\n",
    "y_pred = clf.predict(X_test)\n",
    "print()\n",
    "print(classification_report(y_test, y_pred))\n",
    "print(precision_score(y_test, y_pred))"
   ]
  },
  {
   "cell_type": "code",
   "execution_count": 6,
   "metadata": {
    "tags": []
   },
   "outputs": [
    {
     "name": "stdout",
     "output_type": "stream",
     "text": [
      "6077004 17076 360584 36103\n"
     ]
    }
   ],
   "source": [
    "tn, fp, fn, tp = confusion_matrix(y_test, y_pred).ravel()\n",
    "print(tn, fp, fn, tp)"
   ]
  },
  {
   "cell_type": "code",
   "execution_count": 7,
   "metadata": {
    "tags": []
   },
   "outputs": [],
   "source": [
    "y_pred_prob = clf.predict_proba(X_test)"
   ]
  },
  {
   "cell_type": "code",
   "execution_count": 8,
   "metadata": {},
   "outputs": [
    {
     "data": {
      "text/plain": [
       "[Text(0, 0.5, 'Probability')]"
      ]
     },
     "execution_count": 8,
     "metadata": {},
     "output_type": "execute_result"
    },
    {
     "data": {
      "image/png": "[encoded data removed]",
      "text/plain": [
       "<Figure size 720x360 with 1 Axes>"
      ]
     },
     "metadata": {},
     "output_type": "display_data"
    }
   ],
   "source": [
    "# Do quantile plot for test data\n",
    "pred_probs = y_pred_prob[:, 1]  # Prediction of positive target\n",
    "\n",
    "probs_vs_actual = pd.DataFrame(\n",
    "    np.stack((y_test.squeeze(), pred_probs), axis=1),\n",
    "    columns=[target_name, 'PredictedProbabilityOfRegistration']\n",
    ")\n",
    "\n",
    "# Sort in place\n",
    "probs_vs_actual.sort_values(by='PredictedProbabilityOfRegistration', ascending=False, inplace=True)\n",
    "\n",
    "# Assign quantiles\n",
    "probs_vs_actual['Quantile'] = pd.qcut(-probs_vs_actual['PredictedProbabilityOfRegistration'], 9, labels=False)\n",
    "\n",
    "# Calculate stats for each quantile: total actual registrations, total donors, and mean predicted probability\n",
    "quantile_stats = probs_vs_actual.groupby('Quantile').agg({target_name: ['sum', 'count'], 'PredictedProbabilityOfRegistration': ['sum', 'mean']})\n",
    "\n",
    "# Rename columns\n",
    "quantile_stats.columns = ['Observed Donations', 'Total In Quantile', 'Predicted Donations', 'Mean Predicted Probability']\n",
    "\n",
    "# Just get the two variables we care about\n",
    "quantile_stats['Observed Probability'] = quantile_stats['Observed Donations'] / quantile_stats['Total In Quantile']\n",
    "quantile_stats.reset_index(inplace=True)\n",
    "\n",
    "# Melt so we can plot mean predicted probability and actual % registered together\n",
    "melted_quantile_stats = pd.melt(quantile_stats, id_vars='Quantile', var_name='Measure', value_name='Value')\n",
    "\n",
    "sb.set(style='whitegrid', rc={'figure.figsize': (10, 5)})\n",
    "ax = sb.barplot(x='Quantile', y='Value', hue='Measure', data=melted_quantile_stats[melted_quantile_stats['Measure'].isin(('Mean Predicted Probability', 'Observed Probability'))])\n",
    "ax.set(ylabel='Probability')"
   ]
  },
  {
   "cell_type": "code",
   "execution_count": 9,
   "metadata": {},
   "outputs": [
    {
     "data": {
      "text/plain": [
       "[Text(0, 0.5, 'Donations')]"
      ]
     },
     "execution_count": 9,
     "metadata": {},
     "output_type": "execute_result"
    },
    {
     "data": {
      "image/png": "[encoded data removed]",
      "text/plain": [
       "<Figure size 720x360 with 1 Axes>"
      ]
     },
     "metadata": {},
     "output_type": "display_data"
    }
   ],
   "source": [
    "ax = sb.barplot(x='Quantile', y='Value', hue='Measure', data=melted_quantile_stats[melted_quantile_stats['Measure'].isin(('Predicted Donations', 'Observed Donations'))], hue_order=['Predicted Donations', 'Observed Donations'])\n",
    "ax.set(ylabel='Donations')"
   ]
  },
  {
   "cell_type": "code",
   "execution_count": 10,
   "metadata": {},
   "outputs": [
    {
     "data": {
      "text/html": [
       "<div>\n",
       "<style scoped>\n",
       "    .dataframe tbody tr th:only-of-type {\n",
       "        vertical-align: middle;\n",
       "    }\n",
       "\n",
       "    .dataframe tbody tr th {\n",
       "        vertical-align: top;\n",
       "    }\n",
       "\n",
       "    .dataframe thead th {\n",
       "        text-align: right;\n",
       "    }\n",
       "</style>\n",
       "<table border=\"1\" class=\"dataframe\">\n",
       "  <thead>\n",
       "    <tr style=\"text-align: right;\">\n",
       "      <th></th>\n",
       "      <th>Quantile</th>\n",
       "      <th>Observed Donations</th>\n",
       "      <th>Total In Quantile</th>\n",
       "      <th>Predicted Donations</th>\n",
       "      <th>Mean Predicted Probability</th>\n",
       "      <th>Observed Probability</th>\n",
       "      <th>Probability Error</th>\n",
       "    </tr>\n",
       "  </thead>\n",
       "  <tbody>\n",
       "    <tr>\n",
       "      <th>0</th>\n",
       "      <td>0</td>\n",
       "      <td>183709.0</td>\n",
       "      <td>721198</td>\n",
       "      <td>183500.062047</td>\n",
       "      <td>0.254438</td>\n",
       "      <td>0.254728</td>\n",
       "      <td>0.001137</td>\n",
       "    </tr>\n",
       "    <tr>\n",
       "      <th>1</th>\n",
       "      <td>1</td>\n",
       "      <td>69760.0</td>\n",
       "      <td>721195</td>\n",
       "      <td>69574.106726</td>\n",
       "      <td>0.096471</td>\n",
       "      <td>0.096728</td>\n",
       "      <td>0.002665</td>\n",
       "    </tr>\n",
       "    <tr>\n",
       "      <th>2</th>\n",
       "      <td>2</td>\n",
       "      <td>44144.0</td>\n",
       "      <td>721774</td>\n",
       "      <td>44299.069557</td>\n",
       "      <td>0.061375</td>\n",
       "      <td>0.061160</td>\n",
       "      <td>0.003513</td>\n",
       "    </tr>\n",
       "    <tr>\n",
       "      <th>3</th>\n",
       "      <td>3</td>\n",
       "      <td>33503.0</td>\n",
       "      <td>723300</td>\n",
       "      <td>33627.390149</td>\n",
       "      <td>0.046492</td>\n",
       "      <td>0.046320</td>\n",
       "      <td>0.003713</td>\n",
       "    </tr>\n",
       "    <tr>\n",
       "      <th>4</th>\n",
       "      <td>4</td>\n",
       "      <td>25023.0</td>\n",
       "      <td>723825</td>\n",
       "      <td>24917.108820</td>\n",
       "      <td>0.034424</td>\n",
       "      <td>0.034571</td>\n",
       "      <td>0.004232</td>\n",
       "    </tr>\n",
       "    <tr>\n",
       "      <th>5</th>\n",
       "      <td>5</td>\n",
       "      <td>17328.0</td>\n",
       "      <td>717057</td>\n",
       "      <td>17351.275441</td>\n",
       "      <td>0.024198</td>\n",
       "      <td>0.024165</td>\n",
       "      <td>0.001343</td>\n",
       "    </tr>\n",
       "    <tr>\n",
       "      <th>6</th>\n",
       "      <td>6</td>\n",
       "      <td>11476.0</td>\n",
       "      <td>738654</td>\n",
       "      <td>11490.325048</td>\n",
       "      <td>0.015556</td>\n",
       "      <td>0.015536</td>\n",
       "      <td>0.001248</td>\n",
       "    </tr>\n",
       "    <tr>\n",
       "      <th>7</th>\n",
       "      <td>7</td>\n",
       "      <td>7512.0</td>\n",
       "      <td>726858</td>\n",
       "      <td>7603.803380</td>\n",
       "      <td>0.010461</td>\n",
       "      <td>0.010335</td>\n",
       "      <td>0.012221</td>\n",
       "    </tr>\n",
       "    <tr>\n",
       "      <th>8</th>\n",
       "      <td>8</td>\n",
       "      <td>4232.0</td>\n",
       "      <td>696906</td>\n",
       "      <td>4247.502087</td>\n",
       "      <td>0.006095</td>\n",
       "      <td>0.006073</td>\n",
       "      <td>0.003663</td>\n",
       "    </tr>\n",
       "  </tbody>\n",
       "</table>\n",
       "</div>"
      ],
      "text/plain": [
       "   Quantile  Observed Donations  Total In Quantile  Predicted Donations  \\\n",
       "0         0            183709.0             721198        183500.062047   \n",
       "1         1             69760.0             721195         69574.106726   \n",
       "2         2             44144.0             721774         44299.069557   \n",
       "3         3             33503.0             723300         33627.390149   \n",
       "4         4             25023.0             723825         24917.108820   \n",
       "5         5             17328.0             717057         17351.275441   \n",
       "6         6             11476.0             738654         11490.325048   \n",
       "7         7              7512.0             726858          7603.803380   \n",
       "8         8              4232.0             696906          4247.502087   \n",
       "\n",
       "   Mean Predicted Probability  Observed Probability  Probability Error  \n",
       "0                    0.254438              0.254728           0.001137  \n",
       "1                    0.096471              0.096728           0.002665  \n",
       "2                    0.061375              0.061160           0.003513  \n",
       "3                    0.046492              0.046320           0.003713  \n",
       "4                    0.034424              0.034571           0.004232  \n",
       "5                    0.024198              0.024165           0.001343  \n",
       "6                    0.015556              0.015536           0.001248  \n",
       "7                    0.010461              0.010335           0.012221  \n",
       "8                    0.006095              0.006073           0.003663  "
      ]
     },
     "execution_count": 10,
     "metadata": {},
     "output_type": "execute_result"
    }
   ],
   "source": [
    "quantile_stats['Probability Error'] = np.abs(quantile_stats['Mean Predicted Probability'] - quantile_stats['Observed Probability']) / quantile_stats['Observed Probability']\n",
    "quantile_stats"
   ]
  },
  {
   "cell_type": "code",
   "execution_count": 11,
   "metadata": {},
   "outputs": [
    {
     "data": {
      "text/plain": [
       "0.0037483230321691302"
      ]
     },
     "execution_count": 11,
     "metadata": {},
     "output_type": "execute_result"
    }
   ],
   "source": [
    "quantile_stats['Probability Error'].mean()"
   ]
  },
  {
   "cell_type": "code",
   "execution_count": 12,
   "metadata": {},
   "outputs": [
    {
     "name": "stdout",
     "output_type": "stream",
     "text": [
      "Predicted registrations: 396610.6432549524\n",
      "Observed registrations: 396687.0\n"
     ]
    }
   ],
   "source": [
    "predicted_registrations = probs_vs_actual['PredictedProbabilityOfRegistration'].sum()\n",
    "actual_registrations = probs_vs_actual['RegisteredInTargetPeriod'].sum()\n",
    "print(f\"Predicted registrations: {predicted_registrations}\")\n",
    "print(f\"Observed registrations: {actual_registrations}\")"
   ]
  },
  {
   "cell_type": "code",
   "execution_count": 13,
   "metadata": {},
   "outputs": [
    {
     "data": {
      "text/plain": [
       "0.00019248612898232405"
      ]
     },
     "execution_count": 13,
     "metadata": {},
     "output_type": "execute_result"
    }
   ],
   "source": [
    "np.abs(predicted_registrations - actual_registrations) / actual_registrations"
   ]
  }
 ],
 "metadata": {
  "kernelspec": {
   "display_name": "Python 3",
   "language": "python",
   "name": "python3"
  },
  "language_info": {
   "codemirror_mode": {
    "name": "ipython",
    "version": 3
   },
   "file_extension": ".py",
   "mimetype": "text/x-python",
   "name": "python",
   "nbconvert_exporter": "python",
   "pygments_lexer": "ipython3",
   "version": "3.7.7"
  }
 },
 "nbformat": 4,
 "nbformat_minor": 2
}
