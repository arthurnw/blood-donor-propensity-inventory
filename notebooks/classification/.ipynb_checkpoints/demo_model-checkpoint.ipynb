{
 "cells": [
  {
   "cell_type": "code",
   "execution_count": 1,
   "metadata": {},
   "outputs": [],
   "source": [
    "import json\n",
    "import pandas as pd\n",
    "import numpy as np\n",
    "import joblib\n",
    "from sklearn.metrics import precision_score, roc_auc_score, confusion_matrix, classification_report\n",
    "import seaborn as sb\n",
    "import matplotlib.pyplot as plt\n",
    "\n",
    "np.random.seed(503)"
   ]
  },
  {
   "cell_type": "code",
   "execution_count": 2,
   "metadata": {},
   "outputs": [],
   "source": [
    "target_name = 'RegisteredInTargetPeriod'\n",
    "\n",
    "# Decide whether we're loading a subset or the full set\n",
    "dataset_size = 'partial'\n",
    "# dataset_size = 'full'\n",
    "\n",
    "if dataset_size == 'full':\n",
    "    file_names = {\n",
    "        'X': 'X_holdout_full.csv',\n",
    "        'y': 'y_holdout_full.csv',\n",
    "        'model': '../../models/classifier_full.pkl'\n",
    "        # 'model': '../../models/logistic_full.pkl'\n",
    "        # 'model': '../../models/xgboost_full.pkl'\n",
    "    }\n",
    "elif dataset_size == 'partial':\n",
    "    file_names = {\n",
    "        'X': 'X_holdout.csv',\n",
    "        'y': 'y_holdout.csv',\n",
    "        'model': '../../models/classifier.pkl'\n",
    "        # 'model': '../../models/logistic.pkl'\n",
    "        # 'model': '../../models/xgboost.pkl'\n",
    "    }"
   ]
  },
  {
   "cell_type": "code",
   "execution_count": 3,
   "metadata": {},
   "outputs": [],
   "source": [
    "# Load data\n",
    "with open('../../data/processed/dtypes.json') as in_file:\n",
    "    non_date_dtypes = json.load(in_file)\n",
    "\n",
    "with open('../../data/processed/date_types.json') as in_file:\n",
    "    date_dtypes = json.load(in_file)\n",
    "\n",
    "date_cols = list(date_dtypes)\n",
    "\n",
    "# Read data, specifically parsing date columns as dates and only picking the features + target\n",
    "X_test = pd.read_csv('../../data/processed/{0}'.format(file_names['X']), dtype=non_date_dtypes, index_col=0)\n",
    "y_test = pd.read_csv('../../data/processed/{0}'.format(file_names['y']), index_col=0)"
   ]
  },
  {
   "cell_type": "code",
   "execution_count": 4,
   "metadata": {},
   "outputs": [],
   "source": [
    "# Load model\n",
    "clf = joblib.load(file_names['model'])"
   ]
  },
  {
   "cell_type": "code",
   "execution_count": 5,
   "metadata": {
    "tags": []
   },
   "outputs": [
    {
     "name": "stderr",
     "output_type": "stream",
     "text": [
      "[Parallel(n_jobs=8)]: Using backend ThreadingBackend with 8 concurrent workers.\n",
      "[Parallel(n_jobs=8)]: Done  34 tasks      | elapsed:    0.2s\n",
      "[Parallel(n_jobs=8)]: Done 150 out of 150 | elapsed:    1.2s finished\n"
     ]
    },
    {
     "name": "stdout",
     "output_type": "stream",
     "text": [
      "0.6816250663834307\n",
      "              precision    recall  f1-score   support\n",
      "\n",
      "           0       0.92      0.99      0.96    424654\n",
      "           1       0.68      0.13      0.22     39621\n",
      "\n",
      "    accuracy                           0.92    464275\n",
      "   macro avg       0.80      0.56      0.59    464275\n",
      "weighted avg       0.90      0.92      0.89    464275\n",
      "\n"
     ]
    }
   ],
   "source": [
    "# Score model\n",
    "y_pred = clf.predict(X_test)\n",
    "print(precision_score(y_test, y_pred))\n",
    "print(classification_report(y_test, y_pred))"
   ]
  },
  {
   "cell_type": "code",
   "execution_count": 6,
   "metadata": {
    "tags": []
   },
   "outputs": [
    {
     "name": "stderr",
     "output_type": "stream",
     "text": [
      "[Parallel(n_jobs=8)]: Using backend ThreadingBackend with 8 concurrent workers.\n",
      "[Parallel(n_jobs=8)]: Done  34 tasks      | elapsed:    0.2s\n",
      "[Parallel(n_jobs=8)]: Done 150 out of 150 | elapsed:    1.1s finished\n"
     ]
    }
   ],
   "source": [
    "y_pred_prob = clf.predict_proba(X_test)"
   ]
  },
  {
   "cell_type": "code",
   "execution_count": 7,
   "metadata": {},
   "outputs": [],
   "source": [
    "# Combine target with predicted probability of registration\n",
    "pred_probs = y_pred_prob[:, 1]  # Prediction of positive target\n",
    "y_with_probs = y_test.reset_index().merge(pd.Series(pred_probs).rename('PredictedProbabilityOfRegistration'), left_index=True, right_index=True).set_index('index')\n",
    "y_with_probs.index.name = None\n",
    "\n",
    "# Combine with original feature set (X) to create a scored dataset\n",
    "scored_data = X_test.merge(y_with_probs, left_index=True, right_index=True)\n",
    "\n",
    "# Sort in place for quantiles\n",
    "scored_data.sort_values(by='PredictedProbabilityOfRegistration', ascending=False, inplace=True)\n",
    "\n",
    "# Assign quantiles\n",
    "scored_data['Quantile'] = pd.qcut(-scored_data['PredictedProbabilityOfRegistration'], 10, labels=False)"
   ]
  },
  {
   "cell_type": "code",
   "execution_count": 8,
   "metadata": {},
   "outputs": [
    {
     "data": {
      "text/html": [
       "<div>\n",
       "<style scoped>\n",
       "    .dataframe tbody tr th:only-of-type {\n",
       "        vertical-align: middle;\n",
       "    }\n",
       "\n",
       "    .dataframe tbody tr th {\n",
       "        vertical-align: top;\n",
       "    }\n",
       "\n",
       "    .dataframe thead th {\n",
       "        text-align: right;\n",
       "    }\n",
       "</style>\n",
       "<table border=\"1\" class=\"dataframe\">\n",
       "  <thead>\n",
       "    <tr style=\"text-align: right;\">\n",
       "      <th></th>\n",
       "      <th>DaysSinceLastRegistration</th>\n",
       "      <th>DaysSinceFirstRegistration</th>\n",
       "      <th>PastRegistrations</th>\n",
       "      <th>LastDonationLocation_Center</th>\n",
       "      <th>LastDonationType_Platelets</th>\n",
       "      <th>CenterRegistrationProportion</th>\n",
       "      <th>DonationsPerDay</th>\n",
       "      <th>PlateletRegistrationProportion</th>\n",
       "      <th>RegisteredInTargetPeriod</th>\n",
       "      <th>PredictedProbabilityOfRegistration</th>\n",
       "    </tr>\n",
       "    <tr>\n",
       "      <th>Quantile</th>\n",
       "      <th></th>\n",
       "      <th></th>\n",
       "      <th></th>\n",
       "      <th></th>\n",
       "      <th></th>\n",
       "      <th></th>\n",
       "      <th></th>\n",
       "      <th></th>\n",
       "      <th></th>\n",
       "      <th></th>\n",
       "    </tr>\n",
       "  </thead>\n",
       "  <tbody>\n",
       "    <tr>\n",
       "      <th>0</th>\n",
       "      <td>69.589644</td>\n",
       "      <td>1100.073167</td>\n",
       "      <td>13.669531</td>\n",
       "      <td>0.473357</td>\n",
       "      <td>0.124946</td>\n",
       "      <td>0.462997</td>\n",
       "      <td>0.013253</td>\n",
       "      <td>0.115092</td>\n",
       "      <td>0.346343</td>\n",
       "      <td>0.355465</td>\n",
       "    </tr>\n",
       "    <tr>\n",
       "      <th>1</th>\n",
       "      <td>109.642062</td>\n",
       "      <td>918.023262</td>\n",
       "      <td>6.289357</td>\n",
       "      <td>0.276606</td>\n",
       "      <td>0.034570</td>\n",
       "      <td>0.282148</td>\n",
       "      <td>0.008197</td>\n",
       "      <td>0.036292</td>\n",
       "      <td>0.143322</td>\n",
       "      <td>0.151401</td>\n",
       "    </tr>\n",
       "    <tr>\n",
       "      <th>2</th>\n",
       "      <td>140.734880</td>\n",
       "      <td>856.814336</td>\n",
       "      <td>4.860601</td>\n",
       "      <td>0.175304</td>\n",
       "      <td>0.024877</td>\n",
       "      <td>0.179353</td>\n",
       "      <td>0.006775</td>\n",
       "      <td>0.026297</td>\n",
       "      <td>0.091798</td>\n",
       "      <td>0.101578</td>\n",
       "    </tr>\n",
       "    <tr>\n",
       "      <th>3</th>\n",
       "      <td>154.990253</td>\n",
       "      <td>741.070834</td>\n",
       "      <td>3.704355</td>\n",
       "      <td>0.117034</td>\n",
       "      <td>0.019090</td>\n",
       "      <td>0.119480</td>\n",
       "      <td>0.006443</td>\n",
       "      <td>0.019583</td>\n",
       "      <td>0.071218</td>\n",
       "      <td>0.075234</td>\n",
       "    </tr>\n",
       "    <tr>\n",
       "      <th>4</th>\n",
       "      <td>176.547345</td>\n",
       "      <td>700.012769</td>\n",
       "      <td>2.994083</td>\n",
       "      <td>0.079985</td>\n",
       "      <td>0.015205</td>\n",
       "      <td>0.082410</td>\n",
       "      <td>0.006768</td>\n",
       "      <td>0.015088</td>\n",
       "      <td>0.055122</td>\n",
       "      <td>0.058885</td>\n",
       "    </tr>\n",
       "    <tr>\n",
       "      <th>5</th>\n",
       "      <td>160.191996</td>\n",
       "      <td>534.804364</td>\n",
       "      <td>2.043745</td>\n",
       "      <td>0.053201</td>\n",
       "      <td>0.012902</td>\n",
       "      <td>0.056358</td>\n",
       "      <td>0.007440</td>\n",
       "      <td>0.012963</td>\n",
       "      <td>0.042539</td>\n",
       "      <td>0.046446</td>\n",
       "    </tr>\n",
       "    <tr>\n",
       "      <th>6</th>\n",
       "      <td>163.880498</td>\n",
       "      <td>404.276117</td>\n",
       "      <td>1.594042</td>\n",
       "      <td>0.038836</td>\n",
       "      <td>0.007948</td>\n",
       "      <td>0.038920</td>\n",
       "      <td>0.007821</td>\n",
       "      <td>0.007655</td>\n",
       "      <td>0.034679</td>\n",
       "      <td>0.037900</td>\n",
       "    </tr>\n",
       "    <tr>\n",
       "      <th>7</th>\n",
       "      <td>176.747790</td>\n",
       "      <td>343.609524</td>\n",
       "      <td>1.355477</td>\n",
       "      <td>0.030963</td>\n",
       "      <td>0.006748</td>\n",
       "      <td>0.030741</td>\n",
       "      <td>0.006893</td>\n",
       "      <td>0.006493</td>\n",
       "      <td>0.028550</td>\n",
       "      <td>0.031507</td>\n",
       "    </tr>\n",
       "    <tr>\n",
       "      <th>8</th>\n",
       "      <td>230.628348</td>\n",
       "      <td>315.977779</td>\n",
       "      <td>1.163421</td>\n",
       "      <td>0.037994</td>\n",
       "      <td>0.011035</td>\n",
       "      <td>0.038059</td>\n",
       "      <td>0.005391</td>\n",
       "      <td>0.009673</td>\n",
       "      <td>0.023346</td>\n",
       "      <td>0.024516</td>\n",
       "    </tr>\n",
       "    <tr>\n",
       "      <th>9</th>\n",
       "      <td>264.498194</td>\n",
       "      <td>281.034325</td>\n",
       "      <td>1.057619</td>\n",
       "      <td>0.022624</td>\n",
       "      <td>0.060560</td>\n",
       "      <td>0.022023</td>\n",
       "      <td>0.005239</td>\n",
       "      <td>0.055302</td>\n",
       "      <td>0.016243</td>\n",
       "      <td>0.017204</td>\n",
       "    </tr>\n",
       "  </tbody>\n",
       "</table>\n",
       "</div>"
      ],
      "text/plain": [
       "          DaysSinceLastRegistration  DaysSinceFirstRegistration  \\\n",
       "Quantile                                                          \n",
       "0                         69.589644                 1100.073167   \n",
       "1                        109.642062                  918.023262   \n",
       "2                        140.734880                  856.814336   \n",
       "3                        154.990253                  741.070834   \n",
       "4                        176.547345                  700.012769   \n",
       "5                        160.191996                  534.804364   \n",
       "6                        163.880498                  404.276117   \n",
       "7                        176.747790                  343.609524   \n",
       "8                        230.628348                  315.977779   \n",
       "9                        264.498194                  281.034325   \n",
       "\n",
       "          PastRegistrations  LastDonationLocation_Center  \\\n",
       "Quantile                                                   \n",
       "0                 13.669531                     0.473357   \n",
       "1                  6.289357                     0.276606   \n",
       "2                  4.860601                     0.175304   \n",
       "3                  3.704355                     0.117034   \n",
       "4                  2.994083                     0.079985   \n",
       "5                  2.043745                     0.053201   \n",
       "6                  1.594042                     0.038836   \n",
       "7                  1.355477                     0.030963   \n",
       "8                  1.163421                     0.037994   \n",
       "9                  1.057619                     0.022624   \n",
       "\n",
       "          LastDonationType_Platelets  CenterRegistrationProportion  \\\n",
       "Quantile                                                             \n",
       "0                           0.124946                      0.462997   \n",
       "1                           0.034570                      0.282148   \n",
       "2                           0.024877                      0.179353   \n",
       "3                           0.019090                      0.119480   \n",
       "4                           0.015205                      0.082410   \n",
       "5                           0.012902                      0.056358   \n",
       "6                           0.007948                      0.038920   \n",
       "7                           0.006748                      0.030741   \n",
       "8                           0.011035                      0.038059   \n",
       "9                           0.060560                      0.022023   \n",
       "\n",
       "          DonationsPerDay  PlateletRegistrationProportion  \\\n",
       "Quantile                                                    \n",
       "0                0.013253                        0.115092   \n",
       "1                0.008197                        0.036292   \n",
       "2                0.006775                        0.026297   \n",
       "3                0.006443                        0.019583   \n",
       "4                0.006768                        0.015088   \n",
       "5                0.007440                        0.012963   \n",
       "6                0.007821                        0.007655   \n",
       "7                0.006893                        0.006493   \n",
       "8                0.005391                        0.009673   \n",
       "9                0.005239                        0.055302   \n",
       "\n",
       "          RegisteredInTargetPeriod  PredictedProbabilityOfRegistration  \n",
       "Quantile                                                                \n",
       "0                         0.346343                            0.355465  \n",
       "1                         0.143322                            0.151401  \n",
       "2                         0.091798                            0.101578  \n",
       "3                         0.071218                            0.075234  \n",
       "4                         0.055122                            0.058885  \n",
       "5                         0.042539                            0.046446  \n",
       "6                         0.034679                            0.037900  \n",
       "7                         0.028550                            0.031507  \n",
       "8                         0.023346                            0.024516  \n",
       "9                         0.016243                            0.017204  "
      ]
     },
     "execution_count": 8,
     "metadata": {},
     "output_type": "execute_result"
    }
   ],
   "source": [
    "# Look at means by attribute\n",
    "scored_data.groupby('Quantile').mean()"
   ]
  },
  {
   "cell_type": "code",
   "execution_count": 9,
   "metadata": {},
   "outputs": [
    {
     "data": {
      "text/plain": [
       "<matplotlib.axes._subplots.AxesSubplot at 0x2d12d920888>"
      ]
     },
     "execution_count": 9,
     "metadata": {},
     "output_type": "execute_result"
    },
    {
     "data": {
      "image/png": "[encoded data removed]",
      "text/plain": [
       "<Figure size 720x360 with 1 Axes>"
      ]
     },
     "metadata": {},
     "output_type": "display_data"
    }
   ],
   "source": [
    "plt.rcParams['figure.figsize'] = (10.0, 5.0)\n",
    "sb.set(style='whitegrid')\n",
    "sb.boxplot(x='Quantile', y='DaysSinceLastRegistration', data=scored_data)"
   ]
  },
  {
   "cell_type": "code",
   "execution_count": 10,
   "metadata": {},
   "outputs": [
    {
     "data": {
      "image/png": "[encoded data removed]",
      "text/plain": [
       "<Figure size 720x360 with 1 Axes>"
      ]
     },
     "metadata": {},
     "output_type": "display_data"
    }
   ],
   "source": [
    "# Calculate stats for each quantile: total actual registrations, total donors, and mean predicted probability\n",
    "quantile_stats = scored_data.groupby('Quantile').agg({target_name: ['count', 'sum'], 'PredictedProbabilityOfRegistration': ['sum', 'mean']})\n",
    "\n",
    "# Rename columns\n",
    "quantile_stats.columns = ['TotalInQuantile', 'ActualRegistrations', 'PredictedRegistrations', 'MeanPredictedProbability']\n",
    "\n",
    "# Just get the two variables we care about\n",
    "quantile_stats['ActualProbability'] = quantile_stats['ActualRegistrations'] / quantile_stats['TotalInQuantile']\n",
    "quantile_stats.reset_index(inplace=True)\n",
    "# quantile_stats.drop(['ActualRegistered', 'TotalInQuantile'], axis=1, inplace=True)\n",
    "\n",
    "quantile_stats\n",
    "\n",
    "# Melt so we can plot mean predicted probability and actual % registered together\n",
    "melted_quantile_stats = pd.melt(quantile_stats, id_vars='Quantile', var_name='Measure', value_name='Value')\n",
    "\n",
    "sb.set(style='whitegrid')\n",
    "ax = sb.barplot(x='Quantile', y='Value', hue='Measure', data=melted_quantile_stats[melted_quantile_stats['Measure'].isin(('ActualRegistrations', 'PredictedRegistrations'))])"
   ]
  }
 ],
 "metadata": {
  "kernelspec": {
   "display_name": "Python 3",
   "language": "python",
   "name": "python3"
  },
  "language_info": {
   "codemirror_mode": {
    "name": "ipython",
    "version": 3
   },
   "file_extension": ".py",
   "mimetype": "text/x-python",
   "name": "python",
   "nbconvert_exporter": "python",
   "pygments_lexer": "ipython3",
   "version": "3.7.7"
  }
 },
 "nbformat": 4,
 "nbformat_minor": 2
}
