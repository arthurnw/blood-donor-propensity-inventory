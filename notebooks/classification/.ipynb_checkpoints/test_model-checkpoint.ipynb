{
 "cells": [
  {
   "cell_type": "code",
   "execution_count": 1,
   "metadata": {},
   "outputs": [],
   "source": [
    "import json\n",
    "import pandas as pd\n",
    "import numpy as np\n",
    "import joblib\n",
    "from sklearn.metrics import precision_score, roc_auc_score, confusion_matrix, classification_report, average_precision_score, balanced_accuracy_score\n",
    "import seaborn as sb\n",
    "import matplotlib.pyplot as plt\n",
    "\n",
    "np.random.seed(503)"
   ]
  },
  {
   "cell_type": "code",
   "execution_count": 2,
   "metadata": {},
   "outputs": [],
   "source": [
    "# General parameters for the script\n",
    "target_name = 'RegisteredInTargetPeriod'  # Target variable\n",
    "features = [\n",
    "    'DaysSinceLastRegistration', 'DaysSinceFirstRegistration',\n",
    "    'PastRegistrations', 'LastDonationLocation_Center',\n",
    "    'LastDonationType_Platelets', 'CenterRegistrationProportion', 'DonationsPerDay',\n",
    "    'PlateletRegistrationProportion'\n",
    "]\n",
    "\n",
    "# Decide whether we're loading a subset or the full set\n",
    "# dataset_size = 'partial'\n",
    "dataset_size = 'full'\n",
    "\n",
    "if dataset_size == 'full':\n",
    "    file_names = {\n",
    "        'X': 'X_test_full.csv',\n",
    "        'y': 'y_test_full.csv',\n",
    "        'model': '../../models/classifier_full.pkl'\n",
    "        # 'model': '../../models/logistic_full.pkl'\n",
    "        # 'model': '../../models/xgboost_full.pkl'\n",
    "    }\n",
    "elif dataset_size == 'partial':\n",
    "    file_names = {\n",
    "        'X': 'X_test.csv',\n",
    "        'y': 'y_test.csv',\n",
    "        'model': '../../models/classifier.pkl'\n",
    "        # 'model': '../../models/logistic.pkl'\n",
    "        # 'model': '../../models/xgboost.pkl'\n",
    "    }"
   ]
  },
  {
   "cell_type": "code",
   "execution_count": 3,
   "metadata": {},
   "outputs": [
    {
     "name": "stderr",
     "output_type": "stream",
     "text": [
      "C:\\Users\\rthrw\\miniconda3\\envs\\oneblood-inventory\\lib\\site-packages\\numpy\\lib\\arraysetops.py:569: FutureWarning: elementwise comparison failed; returning scalar instead, but in the future will perform elementwise comparison\n",
      "  mask |= (ar1 == a)\n"
     ]
    }
   ],
   "source": [
    "# Load data\n",
    "with open('../../data/processed/dtypes.json') as in_file:\n",
    "    non_date_dtypes = json.load(in_file)\n",
    "\n",
    "with open('../../data/processed/date_types.json') as in_file:\n",
    "    date_dtypes = json.load(in_file)\n",
    "\n",
    "date_cols = list(date_dtypes)\n",
    "\n",
    "# Read data, specifically parsing date columns as dates and only picking the features + target\n",
    "X_test = pd.read_csv('../../data/processed/{0}'.format(file_names['X']), dtype=non_date_dtypes, index_col=0)\n",
    "y_test = pd.read_csv('../../data/processed/{0}'.format(file_names['y']), index_col=0)"
   ]
  },
  {
   "cell_type": "code",
   "execution_count": 4,
   "metadata": {},
   "outputs": [],
   "source": [
    "# Load model\n",
    "clf = joblib.load(file_names['model'])"
   ]
  },
  {
   "cell_type": "code",
   "execution_count": 5,
   "metadata": {
    "tags": []
   },
   "outputs": [
    {
     "name": "stdout",
     "output_type": "stream",
     "text": [
      "\n",
      "              precision    recall  f1-score   support\n",
      "\n",
      "           0       0.94      1.00      0.97   6094080\n",
      "           1       0.68      0.09      0.16    396687\n",
      "\n",
      "    accuracy                           0.94   6490767\n",
      "   macro avg       0.81      0.54      0.57   6490767\n",
      "weighted avg       0.93      0.94      0.92   6490767\n",
      "\n",
      "0.6788958047349518\n"
     ]
    }
   ],
   "source": [
    "# Score model\n",
    "y_pred = clf.predict(X_test)\n",
    "print()\n",
    "print(classification_report(y_test, y_pred))\n",
    "print(precision_score(y_test, y_pred))"
   ]
  },
  {
   "cell_type": "code",
   "execution_count": 6,
   "metadata": {
    "tags": []
   },
   "outputs": [
    {
     "name": "stdout",
     "output_type": "stream",
     "text": [
      "0.54410461872964\n"
     ]
    }
   ],
   "source": [
    "print(balanced_accuracy_score(y_test, y_pred))"
   ]
  },
  {
   "cell_type": "code",
   "execution_count": 7,
   "metadata": {
    "tags": []
   },
   "outputs": [
    {
     "name": "stdout",
     "output_type": "stream",
     "text": [
      "6077004 17076 360584 36103\n"
     ]
    }
   ],
   "source": [
    "tn, fp, fn, tp = confusion_matrix(y_test, y_pred).ravel()\n",
    "print(tn, fp, fn, tp)"
   ]
  },
  {
   "cell_type": "code",
   "execution_count": 8,
   "metadata": {
    "tags": []
   },
   "outputs": [],
   "source": [
    "y_pred_prob = clf.predict_proba(X_test)"
   ]
  },
  {
   "cell_type": "code",
   "execution_count": 9,
   "metadata": {},
   "outputs": [
    {
     "data": {
      "image/png": "[encoded data removed]",
      "text/plain": [
       "<Figure size 432x288 with 1 Axes>"
      ]
     },
     "metadata": {},
     "output_type": "display_data"
    }
   ],
   "source": [
    "# Do quantile plot for downsampled data\n",
    "pred_probs = y_pred_prob[:, 1]  # Prediction of positive target\n",
    "\n",
    "probs_vs_actual = pd.DataFrame(\n",
    "    np.stack((y_test.squeeze(), pred_probs), axis=1),\n",
    "    columns=[target_name, 'PredictedProbabilityOfRegistration']\n",
    ")\n",
    "\n",
    "# Sort in place\n",
    "probs_vs_actual.sort_values(by='PredictedProbabilityOfRegistration', ascending=False, inplace=True)\n",
    "\n",
    "# Assign quantiles\n",
    "probs_vs_actual['Quantile'] = pd.qcut(-probs_vs_actual['PredictedProbabilityOfRegistration'], 9, labels=False)\n",
    "\n",
    "# Calculate stats for each quantile: total actual registrations, total donors, and mean predicted probability\n",
    "quantile_stats = probs_vs_actual.groupby('Quantile').agg({target_name: ['sum', 'count'], 'PredictedProbabilityOfRegistration': 'mean'})\n",
    "\n",
    "# Rename columns\n",
    "quantile_stats.columns = ['ActualRegistered', 'TotalInQuantile', 'MeanPredictedProbability']\n",
    "\n",
    "# Just get the two variables we care about\n",
    "quantile_stats['PercentActualRegistered'] = quantile_stats['ActualRegistered'] / quantile_stats['TotalInQuantile']\n",
    "quantile_stats.reset_index(inplace=True)\n",
    "quantile_stats.drop(['ActualRegistered', 'TotalInQuantile'], axis=1, inplace=True)\n",
    "\n",
    "# Melt so we can plot mean predicted probability and actual % registered together\n",
    "melted_quantile_stats = pd.melt(quantile_stats, id_vars='Quantile', var_name='Measure', value_name='Value')\n",
    "\n",
    "sb.set(style='whitegrid')\n",
    "ax = sb.barplot(x='Quantile', y='Value', hue='Measure', data=melted_quantile_stats)"
   ]
  },
  {
   "cell_type": "code",
   "execution_count": null,
   "metadata": {},
   "outputs": [],
   "source": []
  }
 ],
 "metadata": {
  "kernelspec": {
   "display_name": "Python 3",
   "language": "python",
   "name": "python3"
  },
  "language_info": {
   "codemirror_mode": {
    "name": "ipython",
    "version": 3
   },
   "file_extension": ".py",
   "mimetype": "text/x-python",
   "name": "python",
   "nbconvert_exporter": "python",
   "pygments_lexer": "ipython3",
   "version": "3.7.7"
  }
 },
 "nbformat": 4,
 "nbformat_minor": 2
}
