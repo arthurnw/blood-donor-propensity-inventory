{
 "cells": [
  {
   "cell_type": "code",
   "execution_count": 1,
   "metadata": {},
   "outputs": [],
   "source": [
    "import json\n",
    "import pandas as pd\n",
    "import numpy as np\n",
    "from sklearn.ensemble import RandomForestClassifier, AdaBoostClassifier\n",
    "from sklearn.linear_model import LogisticRegression\n",
    "import joblib\n",
    "from xgboost import XGBClassifier\n",
    "\n",
    "np.random.seed(503)"
   ]
  },
  {
   "cell_type": "code",
   "execution_count": 2,
   "metadata": {},
   "outputs": [],
   "source": [
    "# General parameters for the script\n",
    "target_name = 'RegisteredInTargetPeriod'  # Target variable\n",
    "features = [\n",
    "    'DaysSinceLastRegistration', 'DaysSinceFirstRegistration',\n",
    "    'PastRegistrations', 'LastDonationLocation_Center',\n",
    "    'LastDonationType_Platelets', 'CenterRegistrationProportion', 'DonationsPerDay',\n",
    "    'PlateletRegistrationProportion'\n",
    "]\n",
    "\n",
    "# Decide whether we're loading a subset or the full set\n",
    "# dataset_size = 'partial'\n",
    "dataset_size = 'full'\n",
    "\n",
    "if dataset_size == 'full':\n",
    "    file_names = {\n",
    "        'X': 'X_train_full.csv',\n",
    "        'y': 'y_train_full.csv',\n",
    "        'model': '../../models/classifier_full.pkl'\n",
    "    }\n",
    "elif dataset_size == 'partial':\n",
    "    file_names = {\n",
    "        'X': 'X_train.csv',\n",
    "        'y': 'y_train.csv',\n",
    "        'model': '../../models/classifier.pkl'\n",
    "    }"
   ]
  },
  {
   "cell_type": "code",
   "execution_count": 3,
   "metadata": {},
   "outputs": [
    {
     "name": "stderr",
     "output_type": "stream",
     "text": [
      "C:\\Users\\rthrw\\miniconda3\\envs\\oneblood-inventory\\lib\\site-packages\\numpy\\lib\\arraysetops.py:569: FutureWarning: elementwise comparison failed; returning scalar instead, but in the future will perform elementwise comparison\n",
      "  mask |= (ar1 == a)\n"
     ]
    }
   ],
   "source": [
    "# Load data\n",
    "with open('../../data/processed/dtypes.json') as in_file:\n",
    "    non_date_dtypes = json.load(in_file)\n",
    "\n",
    "with open('../../data/processed/date_types.json') as in_file:\n",
    "    date_dtypes = json.load(in_file)\n",
    "\n",
    "date_cols = list(date_dtypes)\n",
    "\n",
    "# Read data, specifically parsing date columns as dates and only picking the features + target\n",
    "X_train = pd.read_csv('../../data/processed/{0}'.format(file_names['X']), dtype=non_date_dtypes, index_col=0)\n",
    "y_train = pd.read_csv('../../data/processed/{0}'.format(file_names['y']), index_col=0).squeeze()"
   ]
  },
  {
   "cell_type": "code",
   "execution_count": 4,
   "metadata": {},
   "outputs": [],
   "source": [
    "# X_train = X_train[X_train['DaysSinceLastRegistration'] < 1200]"
   ]
  },
  {
   "cell_type": "code",
   "execution_count": 5,
   "metadata": {
    "tags": []
   },
   "outputs": [
    {
     "data": {
      "text/plain": [
       "XGBClassifier(learning_rate=0.5, max_depth=5, n_jobs=8, tree_method='hist')"
      ]
     },
     "execution_count": 5,
     "metadata": {},
     "output_type": "execute_result"
    }
   ],
   "source": [
    "# Fit model using parameters selected via cross-validation\n",
    "# clf = RandomForestClassifier(max_depth=15, n_estimators=150, verbose=1, n_jobs=8)\n",
    "# clf = AdaBoostClassifier(learning_rate=1, n_estimators=100)\n",
    "# clf = LogisticRegression(penalty='l2')\n",
    "clf = XGBClassifier(learning_rate=0.5, n_estimators=100, max_depth=5, n_jobs=8, tree_method='hist', verbosity=1)\n",
    "clf.fit(X_train, y_train)"
   ]
  },
  {
   "cell_type": "code",
   "execution_count": 6,
   "metadata": {},
   "outputs": [
    {
     "data": {
      "text/plain": [
       "['../../models/classifier_full.pkl']"
      ]
     },
     "execution_count": 6,
     "metadata": {},
     "output_type": "execute_result"
    }
   ],
   "source": [
    "# Save model\n",
    "joblib.dump(clf, file_names['model'])"
   ]
  }
 ],
 "metadata": {
  "kernelspec": {
   "display_name": "Python 3",
   "language": "python",
   "name": "python3"
  },
  "language_info": {
   "codemirror_mode": {
    "name": "ipython",
    "version": 3
   },
   "file_extension": ".py",
   "mimetype": "text/x-python",
   "name": "python",
   "nbconvert_exporter": "python",
   "pygments_lexer": "ipython3",
   "version": "3.7.7"
  }
 },
 "nbformat": 4,
 "nbformat_minor": 2
}
