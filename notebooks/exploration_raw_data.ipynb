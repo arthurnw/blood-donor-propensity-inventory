{
 "cells": [
  {
   "cell_type": "markdown",
   "metadata": {},
   "source": [
    "# Overview"
   ]
  },
  {
   "cell_type": "markdown",
   "metadata": {},
   "source": [
    "This notebook is used for exploring the data and documenting findings."
   ]
  },
  {
   "cell_type": "markdown",
   "metadata": {},
   "source": [
    "# Initial setup"
   ]
  },
  {
   "cell_type": "code",
   "execution_count": 1,
   "metadata": {},
   "outputs": [],
   "source": [
    "# Import libraries\n",
    "import glob\n",
    "import pandas as pd\n",
    "import numpy as np\n",
    "import sqlite3\n",
    "from sklearn.model_selection import train_test_split"
   ]
  },
  {
   "cell_type": "code",
   "execution_count": 2,
   "metadata": {},
   "outputs": [],
   "source": [
    "# Load raw data\n",
    "file_path = \"../data/raw\"\n",
    "raw_files = glob.glob(file_path + \"/*.csv\")\n",
    "\n",
    "file_list = []\n",
    "\n",
    "for file in raw_files:\n",
    "    file_list.append(pd.read_csv(file, index_col=None, header=0))\n",
    "\n",
    "raw_data = pd.concat(file_list, axis=0, ignore_index=True)"
   ]
  },
  {
   "cell_type": "code",
   "execution_count": 3,
   "metadata": {},
   "outputs": [
    {
     "output_type": "stream",
     "name": "stdout",
     "text": "(3818852, 5)\n"
    },
    {
     "output_type": "execute_result",
     "data": {
      "text/plain": "   Random_ID    RegistrationTime     OutCome DonationType DonationLocation\n0   52156190  6/27/2015 12:47:00    Donation  Whole Blood           Center\n1   52825057   2/26/2015 9:53:00    Donation  2 Units RBC           Mobile\n2   53025596   9/8/2015 16:49:59    Donation  Whole Blood           Mobile\n3    2056692  8/26/2015 12:15:00    Donation  Whole Blood           Mobile\n4   52879521  1/26/2015 17:18:00  Incomplete  Whole Blood           Center",
      "text/html": "<div>\n<style scoped>\n    .dataframe tbody tr th:only-of-type {\n        vertical-align: middle;\n    }\n\n    .dataframe tbody tr th {\n        vertical-align: top;\n    }\n\n    .dataframe thead th {\n        text-align: right;\n    }\n</style>\n<table border=\"1\" class=\"dataframe\">\n  <thead>\n    <tr style=\"text-align: right;\">\n      <th></th>\n      <th>Random_ID</th>\n      <th>RegistrationTime</th>\n      <th>OutCome</th>\n      <th>DonationType</th>\n      <th>DonationLocation</th>\n    </tr>\n  </thead>\n  <tbody>\n    <tr>\n      <th>0</th>\n      <td>52156190</td>\n      <td>6/27/2015 12:47:00</td>\n      <td>Donation</td>\n      <td>Whole Blood</td>\n      <td>Center</td>\n    </tr>\n    <tr>\n      <th>1</th>\n      <td>52825057</td>\n      <td>2/26/2015 9:53:00</td>\n      <td>Donation</td>\n      <td>2 Units RBC</td>\n      <td>Mobile</td>\n    </tr>\n    <tr>\n      <th>2</th>\n      <td>53025596</td>\n      <td>9/8/2015 16:49:59</td>\n      <td>Donation</td>\n      <td>Whole Blood</td>\n      <td>Mobile</td>\n    </tr>\n    <tr>\n      <th>3</th>\n      <td>2056692</td>\n      <td>8/26/2015 12:15:00</td>\n      <td>Donation</td>\n      <td>Whole Blood</td>\n      <td>Mobile</td>\n    </tr>\n    <tr>\n      <th>4</th>\n      <td>52879521</td>\n      <td>1/26/2015 17:18:00</td>\n      <td>Incomplete</td>\n      <td>Whole Blood</td>\n      <td>Center</td>\n    </tr>\n  </tbody>\n</table>\n</div>"
     },
     "metadata": {},
     "execution_count": 3
    }
   ],
   "source": [
    "print(raw_data.shape)\n",
    "raw_data.head()"
   ]
  },
  {
   "cell_type": "markdown",
   "metadata": {},
   "source": [
    "# Clean raw data"
   ]
  },
  {
   "cell_type": "code",
   "execution_count": 4,
   "metadata": {},
   "outputs": [
    {
     "output_type": "execute_result",
     "data": {
      "text/plain": "         Random_ID    RegistrationTime   OutCome        DonationType  \\\n9589      53639912  6/23/2015 14:20:59  Donation         Whole Blood   \n30664     52877130  4/13/2015 16:49:00  Donation         Whole Blood   \n55262     52869439  9/11/2015 13:38:00  Donation         Whole Blood   \n236526    53594657  6/23/2015 15:55:00  Donation         Whole Blood   \n240689    53165336   8/7/2015 17:19:59  Donation         Whole Blood   \n268039    53256162                  11       NaN                 NaN   \n284335    53373866     7/11/2016 17:42  Donation         Whole Blood   \n596076    52879414     9/20/2016 14:42  Donation         Whole Blood   \n670560    52971104    12/29/2016 13:49  Donation         Whole Blood   \n737587    53591355     3/23/2016 14:57  Donation         2 Units RBC   \n1660173    1160874  6/17/2017 10:08:00  Donation  Platelet Apheresis   \n1683446   54213719  7/15/2017 20:22:00  Donation         2 Units RBC   \n2076386   53929042  5/12/2017 16:59:00  Donation         Whole Blood   \n2175752   53742940   6/6/2017 13:41:00  Donation         Whole Blood   \n2223875   54766854  7/27/2017 17:49:00  Donation         Whole Blood   \n2787934   54826892   9/5/2018 13:27:00  Donation         Whole Blood   \n3213459   55696471  8/19/2019 11:27:59  Donation         Whole Blood   \n\n        DonationLocation  \n9589                 NaN  \n30664                NaN  \n55262                NaN  \n236526               NaN  \n240689               NaN  \n268039               NaN  \n284335               NaN  \n596076               NaN  \n670560               NaN  \n737587               NaN  \n1660173              NaN  \n1683446              NaN  \n2076386              NaN  \n2175752              NaN  \n2223875              NaN  \n2787934              NaN  \n3213459              NaN  ",
      "text/html": "<div>\n<style scoped>\n    .dataframe tbody tr th:only-of-type {\n        vertical-align: middle;\n    }\n\n    .dataframe tbody tr th {\n        vertical-align: top;\n    }\n\n    .dataframe thead th {\n        text-align: right;\n    }\n</style>\n<table border=\"1\" class=\"dataframe\">\n  <thead>\n    <tr style=\"text-align: right;\">\n      <th></th>\n      <th>Random_ID</th>\n      <th>RegistrationTime</th>\n      <th>OutCome</th>\n      <th>DonationType</th>\n      <th>DonationLocation</th>\n    </tr>\n  </thead>\n  <tbody>\n    <tr>\n      <th>9589</th>\n      <td>53639912</td>\n      <td>6/23/2015 14:20:59</td>\n      <td>Donation</td>\n      <td>Whole Blood</td>\n      <td>NaN</td>\n    </tr>\n    <tr>\n      <th>30664</th>\n      <td>52877130</td>\n      <td>4/13/2015 16:49:00</td>\n      <td>Donation</td>\n      <td>Whole Blood</td>\n      <td>NaN</td>\n    </tr>\n    <tr>\n      <th>55262</th>\n      <td>52869439</td>\n      <td>9/11/2015 13:38:00</td>\n      <td>Donation</td>\n      <td>Whole Blood</td>\n      <td>NaN</td>\n    </tr>\n    <tr>\n      <th>236526</th>\n      <td>53594657</td>\n      <td>6/23/2015 15:55:00</td>\n      <td>Donation</td>\n      <td>Whole Blood</td>\n      <td>NaN</td>\n    </tr>\n    <tr>\n      <th>240689</th>\n      <td>53165336</td>\n      <td>8/7/2015 17:19:59</td>\n      <td>Donation</td>\n      <td>Whole Blood</td>\n      <td>NaN</td>\n    </tr>\n    <tr>\n      <th>268039</th>\n      <td>53256162</td>\n      <td>11</td>\n      <td>NaN</td>\n      <td>NaN</td>\n      <td>NaN</td>\n    </tr>\n    <tr>\n      <th>284335</th>\n      <td>53373866</td>\n      <td>7/11/2016 17:42</td>\n      <td>Donation</td>\n      <td>Whole Blood</td>\n      <td>NaN</td>\n    </tr>\n    <tr>\n      <th>596076</th>\n      <td>52879414</td>\n      <td>9/20/2016 14:42</td>\n      <td>Donation</td>\n      <td>Whole Blood</td>\n      <td>NaN</td>\n    </tr>\n    <tr>\n      <th>670560</th>\n      <td>52971104</td>\n      <td>12/29/2016 13:49</td>\n      <td>Donation</td>\n      <td>Whole Blood</td>\n      <td>NaN</td>\n    </tr>\n    <tr>\n      <th>737587</th>\n      <td>53591355</td>\n      <td>3/23/2016 14:57</td>\n      <td>Donation</td>\n      <td>2 Units RBC</td>\n      <td>NaN</td>\n    </tr>\n    <tr>\n      <th>1660173</th>\n      <td>1160874</td>\n      <td>6/17/2017 10:08:00</td>\n      <td>Donation</td>\n      <td>Platelet Apheresis</td>\n      <td>NaN</td>\n    </tr>\n    <tr>\n      <th>1683446</th>\n      <td>54213719</td>\n      <td>7/15/2017 20:22:00</td>\n      <td>Donation</td>\n      <td>2 Units RBC</td>\n      <td>NaN</td>\n    </tr>\n    <tr>\n      <th>2076386</th>\n      <td>53929042</td>\n      <td>5/12/2017 16:59:00</td>\n      <td>Donation</td>\n      <td>Whole Blood</td>\n      <td>NaN</td>\n    </tr>\n    <tr>\n      <th>2175752</th>\n      <td>53742940</td>\n      <td>6/6/2017 13:41:00</td>\n      <td>Donation</td>\n      <td>Whole Blood</td>\n      <td>NaN</td>\n    </tr>\n    <tr>\n      <th>2223875</th>\n      <td>54766854</td>\n      <td>7/27/2017 17:49:00</td>\n      <td>Donation</td>\n      <td>Whole Blood</td>\n      <td>NaN</td>\n    </tr>\n    <tr>\n      <th>2787934</th>\n      <td>54826892</td>\n      <td>9/5/2018 13:27:00</td>\n      <td>Donation</td>\n      <td>Whole Blood</td>\n      <td>NaN</td>\n    </tr>\n    <tr>\n      <th>3213459</th>\n      <td>55696471</td>\n      <td>8/19/2019 11:27:59</td>\n      <td>Donation</td>\n      <td>Whole Blood</td>\n      <td>NaN</td>\n    </tr>\n  </tbody>\n</table>\n</div>"
     },
     "metadata": {},
     "execution_count": 4
    }
   ],
   "source": [
    "# Show where we have NaNs/nulls\n",
    "raw_data[raw_data.isnull().any(axis=1)]"
   ]
  },
  {
   "cell_type": "code",
   "execution_count": 5,
   "metadata": {},
   "outputs": [],
   "source": [
    "# Drop rows with nulls\n",
    "cleaned_data = raw_data.dropna(axis=0, how='any')"
   ]
  },
  {
   "cell_type": "code",
   "execution_count": 6,
   "metadata": {},
   "outputs": [
    {
     "output_type": "execute_result",
     "data": {
      "text/plain": "0   2015-06-27 12:47:00\n1   2015-02-26 09:53:00\n2   2015-09-08 16:49:59\n3   2015-08-26 12:15:00\n4   2015-01-26 17:18:00\nName: RegistrationTime, dtype: datetime64[ns]"
     },
     "metadata": {},
     "execution_count": 6
    }
   ],
   "source": [
    "# Clean up RegistrationTime: pad time with '00' seconds if only HH:MM is shown, then convert to a datetime type\n",
    "cleaned_data['RegistrationTime'] = cleaned_data['RegistrationTime'].apply(lambda c: c + ':00' if c.count(':') < 2 else c)\n",
    "cleaned_data['RegistrationTime'] = pd.to_datetime(cleaned_data['RegistrationTime'], format='%m/%d/%Y %H:%M:%S')\n",
    "cleaned_data['RegistrationTime'].head()"
   ]
  },
  {
   "cell_type": "code",
   "execution_count": 7,
   "metadata": {},
   "outputs": [
    {
     "output_type": "execute_result",
     "data": {
      "text/plain": "   Random_ID    RegistrationTime     OutCome DonationType DonationLocation\n0   52156190 2015-06-27 12:47:00    Donation  Whole Blood           Center\n1   52825057 2015-02-26 09:53:00    Donation  2 Units RBC           Mobile\n2   53025596 2015-09-08 16:49:59    Donation  Whole Blood           Mobile\n3    2056692 2015-08-26 12:15:00    Donation  Whole Blood           Mobile\n4   52879521 2015-01-26 17:18:00  Incomplete  Whole Blood           Center",
      "text/html": "<div>\n<style scoped>\n    .dataframe tbody tr th:only-of-type {\n        vertical-align: middle;\n    }\n\n    .dataframe tbody tr th {\n        vertical-align: top;\n    }\n\n    .dataframe thead th {\n        text-align: right;\n    }\n</style>\n<table border=\"1\" class=\"dataframe\">\n  <thead>\n    <tr style=\"text-align: right;\">\n      <th></th>\n      <th>Random_ID</th>\n      <th>RegistrationTime</th>\n      <th>OutCome</th>\n      <th>DonationType</th>\n      <th>DonationLocation</th>\n    </tr>\n  </thead>\n  <tbody>\n    <tr>\n      <th>0</th>\n      <td>52156190</td>\n      <td>2015-06-27 12:47:00</td>\n      <td>Donation</td>\n      <td>Whole Blood</td>\n      <td>Center</td>\n    </tr>\n    <tr>\n      <th>1</th>\n      <td>52825057</td>\n      <td>2015-02-26 09:53:00</td>\n      <td>Donation</td>\n      <td>2 Units RBC</td>\n      <td>Mobile</td>\n    </tr>\n    <tr>\n      <th>2</th>\n      <td>53025596</td>\n      <td>2015-09-08 16:49:59</td>\n      <td>Donation</td>\n      <td>Whole Blood</td>\n      <td>Mobile</td>\n    </tr>\n    <tr>\n      <th>3</th>\n      <td>2056692</td>\n      <td>2015-08-26 12:15:00</td>\n      <td>Donation</td>\n      <td>Whole Blood</td>\n      <td>Mobile</td>\n    </tr>\n    <tr>\n      <th>4</th>\n      <td>52879521</td>\n      <td>2015-01-26 17:18:00</td>\n      <td>Incomplete</td>\n      <td>Whole Blood</td>\n      <td>Center</td>\n    </tr>\n  </tbody>\n</table>\n</div>"
     },
     "metadata": {},
     "execution_count": 7
    }
   ],
   "source": [
    "cleaned_data.head()"
   ]
  },
  {
   "cell_type": "code",
   "execution_count": 8,
   "metadata": {},
   "outputs": [
    {
     "output_type": "execute_result",
     "data": {
      "text/plain": "array(['Whole Blood', '2 Units RBC', 'RBC with Platelets',\n       'Platelet Apheresis', 'RBC with Plasma',\n       'RBC with Platelets and Plasma', 'Plasma Apheresis',\n       'Platelets and Concurrent Plasma', 'Single Unit Recovery'],\n      dtype=object)"
     },
     "metadata": {},
     "execution_count": 8
    }
   ],
   "source": [
    "cleaned_data['DonationType'].unique()"
   ]
  },
  {
   "cell_type": "markdown",
   "metadata": {},
   "source": [
    "# Test pure Pandas"
   ]
  },
  {
   "cell_type": "code",
   "execution_count": 9,
   "metadata": {},
   "outputs": [
    {
     "output_type": "execute_result",
     "data": {
      "text/plain": "           RegistrationTime\nRandom_ID                  \n54207926                168\n53225617                117\n50902340                112\n51859516                112\n52343278                111\n52938451                106\n53109325                105\n2157068                 103\n51879814                103\n53122258                102",
      "text/html": "<div>\n<style scoped>\n    .dataframe tbody tr th:only-of-type {\n        vertical-align: middle;\n    }\n\n    .dataframe tbody tr th {\n        vertical-align: top;\n    }\n\n    .dataframe thead th {\n        text-align: right;\n    }\n</style>\n<table border=\"1\" class=\"dataframe\">\n  <thead>\n    <tr style=\"text-align: right;\">\n      <th></th>\n      <th>RegistrationTime</th>\n    </tr>\n    <tr>\n      <th>Random_ID</th>\n      <th></th>\n    </tr>\n  </thead>\n  <tbody>\n    <tr>\n      <th>54207926</th>\n      <td>168</td>\n    </tr>\n    <tr>\n      <th>53225617</th>\n      <td>117</td>\n    </tr>\n    <tr>\n      <th>50902340</th>\n      <td>112</td>\n    </tr>\n    <tr>\n      <th>51859516</th>\n      <td>112</td>\n    </tr>\n    <tr>\n      <th>52343278</th>\n      <td>111</td>\n    </tr>\n    <tr>\n      <th>52938451</th>\n      <td>106</td>\n    </tr>\n    <tr>\n      <th>53109325</th>\n      <td>105</td>\n    </tr>\n    <tr>\n      <th>2157068</th>\n      <td>103</td>\n    </tr>\n    <tr>\n      <th>51879814</th>\n      <td>103</td>\n    </tr>\n    <tr>\n      <th>53122258</th>\n      <td>102</td>\n    </tr>\n  </tbody>\n</table>\n</div>"
     },
     "metadata": {},
     "execution_count": 9
    }
   ],
   "source": [
    "cleaned_data.groupby(by='Random_ID').agg({'RegistrationTime': 'count'}).nlargest(10, 'RegistrationTime')"
   ]
  },
  {
   "cell_type": "code",
   "execution_count": 10,
   "metadata": {},
   "outputs": [],
   "source": [
    "subset_data = cleaned_data[cleaned_data['Random_ID'].isin([52437236, 52948680, 54207926])]"
   ]
  },
  {
   "cell_type": "code",
   "execution_count": 11,
   "metadata": {},
   "outputs": [
    {
     "output_type": "execute_result",
     "data": {
      "text/plain": "         Random_ID    RegistrationTime       OutCome  \\\n12656     52437236 2015-04-14 12:31:00      Donation   \n15897     52437236 2015-03-13 12:50:59      Donation   \n17115     54207926 2015-09-24 09:57:59      Donation   \n22328     52948680 2015-03-28 18:35:59      Donation   \n23600     52948680 2015-10-12 14:22:00      Donation   \n...            ...                 ...           ...   \n3749418   52437236 2019-08-09 11:40:00      Donation   \n3750831   54207926 2019-08-09 11:40:00  Registration   \n3774454   52948680 2019-07-29 14:09:00      Donation   \n3774945   54207926 2019-07-26 12:21:59      Donation   \n3777698   52948680 2019-08-12 11:41:00      Donation   \n\n                            DonationType DonationLocation  \n12656    Platelets and Concurrent Plasma           Center  \n15897    Platelets and Concurrent Plasma           Center  \n17115                 Platelet Apheresis           Center  \n22328                        Whole Blood           Mobile  \n23600                 Platelet Apheresis           Center  \n...                                  ...              ...  \n3749418  Platelets and Concurrent Plasma           Center  \n3750831               Platelet Apheresis           Center  \n3774454  Platelets and Concurrent Plasma           Center  \n3774945  Platelets and Concurrent Plasma           Center  \n3777698               Platelet Apheresis           Center  \n\n[312 rows x 5 columns]",
      "text/html": "<div>\n<style scoped>\n    .dataframe tbody tr th:only-of-type {\n        vertical-align: middle;\n    }\n\n    .dataframe tbody tr th {\n        vertical-align: top;\n    }\n\n    .dataframe thead th {\n        text-align: right;\n    }\n</style>\n<table border=\"1\" class=\"dataframe\">\n  <thead>\n    <tr style=\"text-align: right;\">\n      <th></th>\n      <th>Random_ID</th>\n      <th>RegistrationTime</th>\n      <th>OutCome</th>\n      <th>DonationType</th>\n      <th>DonationLocation</th>\n    </tr>\n  </thead>\n  <tbody>\n    <tr>\n      <th>12656</th>\n      <td>52437236</td>\n      <td>2015-04-14 12:31:00</td>\n      <td>Donation</td>\n      <td>Platelets and Concurrent Plasma</td>\n      <td>Center</td>\n    </tr>\n    <tr>\n      <th>15897</th>\n      <td>52437236</td>\n      <td>2015-03-13 12:50:59</td>\n      <td>Donation</td>\n      <td>Platelets and Concurrent Plasma</td>\n      <td>Center</td>\n    </tr>\n    <tr>\n      <th>17115</th>\n      <td>54207926</td>\n      <td>2015-09-24 09:57:59</td>\n      <td>Donation</td>\n      <td>Platelet Apheresis</td>\n      <td>Center</td>\n    </tr>\n    <tr>\n      <th>22328</th>\n      <td>52948680</td>\n      <td>2015-03-28 18:35:59</td>\n      <td>Donation</td>\n      <td>Whole Blood</td>\n      <td>Mobile</td>\n    </tr>\n    <tr>\n      <th>23600</th>\n      <td>52948680</td>\n      <td>2015-10-12 14:22:00</td>\n      <td>Donation</td>\n      <td>Platelet Apheresis</td>\n      <td>Center</td>\n    </tr>\n    <tr>\n      <th>...</th>\n      <td>...</td>\n      <td>...</td>\n      <td>...</td>\n      <td>...</td>\n      <td>...</td>\n    </tr>\n    <tr>\n      <th>3749418</th>\n      <td>52437236</td>\n      <td>2019-08-09 11:40:00</td>\n      <td>Donation</td>\n      <td>Platelets and Concurrent Plasma</td>\n      <td>Center</td>\n    </tr>\n    <tr>\n      <th>3750831</th>\n      <td>54207926</td>\n      <td>2019-08-09 11:40:00</td>\n      <td>Registration</td>\n      <td>Platelet Apheresis</td>\n      <td>Center</td>\n    </tr>\n    <tr>\n      <th>3774454</th>\n      <td>52948680</td>\n      <td>2019-07-29 14:09:00</td>\n      <td>Donation</td>\n      <td>Platelets and Concurrent Plasma</td>\n      <td>Center</td>\n    </tr>\n    <tr>\n      <th>3774945</th>\n      <td>54207926</td>\n      <td>2019-07-26 12:21:59</td>\n      <td>Donation</td>\n      <td>Platelets and Concurrent Plasma</td>\n      <td>Center</td>\n    </tr>\n    <tr>\n      <th>3777698</th>\n      <td>52948680</td>\n      <td>2019-08-12 11:41:00</td>\n      <td>Donation</td>\n      <td>Platelet Apheresis</td>\n      <td>Center</td>\n    </tr>\n  </tbody>\n</table>\n<p>312 rows × 5 columns</p>\n</div>"
     },
     "metadata": {},
     "execution_count": 11
    }
   ],
   "source": [
    "subset_data"
   ]
  },
  {
   "cell_type": "code",
   "execution_count": 12,
   "metadata": {},
   "outputs": [],
   "source": [
    "cutoff_dates = ['2016-05-31 23:59:59']"
   ]
  },
  {
   "cell_type": "code",
   "execution_count": 13,
   "metadata": {},
   "outputs": [
    {
     "output_type": "stream",
     "name": "stdout",
     "text": "Cutoff date: 2016-05-31 23:59:59\nTarget period: 2016-06-01 00:00:00 - 2016-06-30 23:59:59\n"
    }
   ],
   "source": [
    "# for cutoff_date in cutoff_dates:\n",
    "cutoff = pd.to_datetime(cutoff_dates[0], format='%Y-%m-%d %H:%M:%S')\n",
    "target_start_date = cutoff + pd.Timedelta(seconds=1)\n",
    "target_end_date = cutoff + pd.Timedelta(days=30)\n",
    "print(f\"Cutoff date: {cutoff}\")\n",
    "print(f\"Target period: {target_start_date} - {target_end_date}\")"
   ]
  },
  {
   "cell_type": "code",
   "execution_count": 14,
   "metadata": {},
   "outputs": [
    {
     "output_type": "execute_result",
     "data": {
      "text/plain": "         Random_ID    RegistrationTime     OutCome  \\\n12656     52437236 2015-04-14 12:31:00    Donation   \n15897     52437236 2015-03-13 12:50:59    Donation   \n17115     54207926 2015-09-24 09:57:59    Donation   \n22328     52948680 2015-03-28 18:35:59    Donation   \n23600     52948680 2015-10-12 14:22:00    Donation   \n34127     52948680 2015-11-27 13:25:00    Donation   \n49654     54207926 2015-07-22 13:11:00    Donation   \n60492     52437236 2015-10-30 12:18:00    Donation   \n64096     52948680 2015-10-26 15:55:00    Donation   \n68711     52948680 2015-05-16 08:20:59    Donation   \n71652     52437236 2015-12-16 10:35:59  Incomplete   \n74700     52437236 2015-12-22 10:04:59    Donation   \n88113     52948680 2015-05-31 08:19:00    Donation   \n105255    52948680 2015-09-03 14:57:00    Donation   \n156617    52948680 2015-12-16 09:48:00    Donation   \n180675    52948680 2015-02-26 14:51:59    Donation   \n184026    52437236 2015-04-23 09:52:00    Donation   \n187665    52948680 2015-09-28 14:19:00    Donation   \n205971    52948680 2015-04-17 12:11:00    Donation   \n237536    52948680 2015-12-09 09:12:00    Donation   \n247894    52948680 2015-07-26 17:56:00    Donation   \n297863    52948680 2016-04-29 08:27:00    Donation   \n324583    52948680 2016-02-04 10:52:00    Donation   \n324709    52437236 2016-02-04 11:53:00    Donation   \n404891    52437236 2016-05-12 11:02:00    Donation   \n474013    52437236 2016-04-12 10:13:00    Donation   \n487977    54207926 2016-05-12 10:28:00    Donation   \n571062    52437236 2016-02-20 13:22:00    Donation   \n601615    54207926 2016-01-21 10:12:00    Donation   \n612939    52948680 2016-02-29 15:53:00    Donation   \n639975    52437236 2016-01-21 11:36:00    Donation   \n688801    52948680 2016-01-15 08:35:00    Donation   \n697214    54207926 2016-02-25 10:06:00    Donation   \n827760    52437236 2016-03-22 12:24:00    Donation   \n954995    52948680 2016-02-12 08:09:00    Donation   \n958073    52948680 2016-03-16 13:19:00    Donation   \n1008134   52437236 2016-04-21 13:06:00    Donation   \n1102920   52948680 2016-05-06 10:06:00    Donation   \n1125795   52948680 2016-04-08 11:33:00    Donation   \n1131108   52437236 2016-01-02 13:50:00    Donation   \n1132335   52948680 2016-01-04 13:04:00    Donation   \n1165671   52948680 2016-05-16 08:35:00    Donation   \n1211187   54207926 2016-03-24 10:06:00    Donation   \n\n                            DonationType DonationLocation          CutoffDate  \n12656    Platelets and Concurrent Plasma           Center 2016-05-31 23:59:59  \n15897    Platelets and Concurrent Plasma           Center 2016-05-31 23:59:59  \n17115                 Platelet Apheresis           Center 2016-05-31 23:59:59  \n22328                        Whole Blood           Mobile 2016-05-31 23:59:59  \n23600                 Platelet Apheresis           Center 2016-05-31 23:59:59  \n34127                 Platelet Apheresis           Center 2016-05-31 23:59:59  \n49654                 Platelet Apheresis           Center 2016-05-31 23:59:59  \n60492                 Platelet Apheresis           Center 2016-05-31 23:59:59  \n64096                 Platelet Apheresis           Center 2016-05-31 23:59:59  \n68711                 Platelet Apheresis           Center 2016-05-31 23:59:59  \n71652                 Platelet Apheresis           Center 2016-05-31 23:59:59  \n74700                 Platelet Apheresis           Center 2016-05-31 23:59:59  \n88113                 Platelet Apheresis           Center 2016-05-31 23:59:59  \n105255                Platelet Apheresis           Center 2016-05-31 23:59:59  \n156617                Platelet Apheresis           Center 2016-05-31 23:59:59  \n180675                Platelet Apheresis           Center 2016-05-31 23:59:59  \n184026                Platelet Apheresis           Center 2016-05-31 23:59:59  \n187665                Platelet Apheresis           Center 2016-05-31 23:59:59  \n205971                Platelet Apheresis           Center 2016-05-31 23:59:59  \n237536                Platelet Apheresis           Center 2016-05-31 23:59:59  \n247894                       Whole Blood           Mobile 2016-05-31 23:59:59  \n297863                Platelet Apheresis           Center 2016-05-31 23:59:59  \n324583                Platelet Apheresis           Center 2016-05-31 23:59:59  \n324709                Platelet Apheresis           Center 2016-05-31 23:59:59  \n404891                Platelet Apheresis           Center 2016-05-31 23:59:59  \n474013                Platelet Apheresis           Center 2016-05-31 23:59:59  \n487977                Platelet Apheresis           Center 2016-05-31 23:59:59  \n571062                Platelet Apheresis           Center 2016-05-31 23:59:59  \n601615                Platelet Apheresis           Center 2016-05-31 23:59:59  \n612939                Platelet Apheresis           Center 2016-05-31 23:59:59  \n639975                Platelet Apheresis           Center 2016-05-31 23:59:59  \n688801                Platelet Apheresis           Center 2016-05-31 23:59:59  \n697214                Platelet Apheresis           Center 2016-05-31 23:59:59  \n827760   Platelets and Concurrent Plasma           Center 2016-05-31 23:59:59  \n954995                Platelet Apheresis           Center 2016-05-31 23:59:59  \n958073                Platelet Apheresis           Center 2016-05-31 23:59:59  \n1008134  Platelets and Concurrent Plasma           Center 2016-05-31 23:59:59  \n1102920               Platelet Apheresis           Center 2016-05-31 23:59:59  \n1125795               Platelet Apheresis           Center 2016-05-31 23:59:59  \n1131108               Platelet Apheresis           Center 2016-05-31 23:59:59  \n1132335               Platelet Apheresis           Center 2016-05-31 23:59:59  \n1165671               Platelet Apheresis           Center 2016-05-31 23:59:59  \n1211187               Platelet Apheresis           Center 2016-05-31 23:59:59  ",
      "text/html": "<div>\n<style scoped>\n    .dataframe tbody tr th:only-of-type {\n        vertical-align: middle;\n    }\n\n    .dataframe tbody tr th {\n        vertical-align: top;\n    }\n\n    .dataframe thead th {\n        text-align: right;\n    }\n</style>\n<table border=\"1\" class=\"dataframe\">\n  <thead>\n    <tr style=\"text-align: right;\">\n      <th></th>\n      <th>Random_ID</th>\n      <th>RegistrationTime</th>\n      <th>OutCome</th>\n      <th>DonationType</th>\n      <th>DonationLocation</th>\n      <th>CutoffDate</th>\n    </tr>\n  </thead>\n  <tbody>\n    <tr>\n      <th>12656</th>\n      <td>52437236</td>\n      <td>2015-04-14 12:31:00</td>\n      <td>Donation</td>\n      <td>Platelets and Concurrent Plasma</td>\n      <td>Center</td>\n      <td>2016-05-31 23:59:59</td>\n    </tr>\n    <tr>\n      <th>15897</th>\n      <td>52437236</td>\n      <td>2015-03-13 12:50:59</td>\n      <td>Donation</td>\n      <td>Platelets and Concurrent Plasma</td>\n      <td>Center</td>\n      <td>2016-05-31 23:59:59</td>\n    </tr>\n    <tr>\n      <th>17115</th>\n      <td>54207926</td>\n      <td>2015-09-24 09:57:59</td>\n      <td>Donation</td>\n      <td>Platelet Apheresis</td>\n      <td>Center</td>\n      <td>2016-05-31 23:59:59</td>\n    </tr>\n    <tr>\n      <th>22328</th>\n      <td>52948680</td>\n      <td>2015-03-28 18:35:59</td>\n      <td>Donation</td>\n      <td>Whole Blood</td>\n      <td>Mobile</td>\n      <td>2016-05-31 23:59:59</td>\n    </tr>\n    <tr>\n      <th>23600</th>\n      <td>52948680</td>\n      <td>2015-10-12 14:22:00</td>\n      <td>Donation</td>\n      <td>Platelet Apheresis</td>\n      <td>Center</td>\n      <td>2016-05-31 23:59:59</td>\n    </tr>\n    <tr>\n      <th>34127</th>\n      <td>52948680</td>\n      <td>2015-11-27 13:25:00</td>\n      <td>Donation</td>\n      <td>Platelet Apheresis</td>\n      <td>Center</td>\n      <td>2016-05-31 23:59:59</td>\n    </tr>\n    <tr>\n      <th>49654</th>\n      <td>54207926</td>\n      <td>2015-07-22 13:11:00</td>\n      <td>Donation</td>\n      <td>Platelet Apheresis</td>\n      <td>Center</td>\n      <td>2016-05-31 23:59:59</td>\n    </tr>\n    <tr>\n      <th>60492</th>\n      <td>52437236</td>\n      <td>2015-10-30 12:18:00</td>\n      <td>Donation</td>\n      <td>Platelet Apheresis</td>\n      <td>Center</td>\n      <td>2016-05-31 23:59:59</td>\n    </tr>\n    <tr>\n      <th>64096</th>\n      <td>52948680</td>\n      <td>2015-10-26 15:55:00</td>\n      <td>Donation</td>\n      <td>Platelet Apheresis</td>\n      <td>Center</td>\n      <td>2016-05-31 23:59:59</td>\n    </tr>\n    <tr>\n      <th>68711</th>\n      <td>52948680</td>\n      <td>2015-05-16 08:20:59</td>\n      <td>Donation</td>\n      <td>Platelet Apheresis</td>\n      <td>Center</td>\n      <td>2016-05-31 23:59:59</td>\n    </tr>\n    <tr>\n      <th>71652</th>\n      <td>52437236</td>\n      <td>2015-12-16 10:35:59</td>\n      <td>Incomplete</td>\n      <td>Platelet Apheresis</td>\n      <td>Center</td>\n      <td>2016-05-31 23:59:59</td>\n    </tr>\n    <tr>\n      <th>74700</th>\n      <td>52437236</td>\n      <td>2015-12-22 10:04:59</td>\n      <td>Donation</td>\n      <td>Platelet Apheresis</td>\n      <td>Center</td>\n      <td>2016-05-31 23:59:59</td>\n    </tr>\n    <tr>\n      <th>88113</th>\n      <td>52948680</td>\n      <td>2015-05-31 08:19:00</td>\n      <td>Donation</td>\n      <td>Platelet Apheresis</td>\n      <td>Center</td>\n      <td>2016-05-31 23:59:59</td>\n    </tr>\n    <tr>\n      <th>105255</th>\n      <td>52948680</td>\n      <td>2015-09-03 14:57:00</td>\n      <td>Donation</td>\n      <td>Platelet Apheresis</td>\n      <td>Center</td>\n      <td>2016-05-31 23:59:59</td>\n    </tr>\n    <tr>\n      <th>156617</th>\n      <td>52948680</td>\n      <td>2015-12-16 09:48:00</td>\n      <td>Donation</td>\n      <td>Platelet Apheresis</td>\n      <td>Center</td>\n      <td>2016-05-31 23:59:59</td>\n    </tr>\n    <tr>\n      <th>180675</th>\n      <td>52948680</td>\n      <td>2015-02-26 14:51:59</td>\n      <td>Donation</td>\n      <td>Platelet Apheresis</td>\n      <td>Center</td>\n      <td>2016-05-31 23:59:59</td>\n    </tr>\n    <tr>\n      <th>184026</th>\n      <td>52437236</td>\n      <td>2015-04-23 09:52:00</td>\n      <td>Donation</td>\n      <td>Platelet Apheresis</td>\n      <td>Center</td>\n      <td>2016-05-31 23:59:59</td>\n    </tr>\n    <tr>\n      <th>187665</th>\n      <td>52948680</td>\n      <td>2015-09-28 14:19:00</td>\n      <td>Donation</td>\n      <td>Platelet Apheresis</td>\n      <td>Center</td>\n      <td>2016-05-31 23:59:59</td>\n    </tr>\n    <tr>\n      <th>205971</th>\n      <td>52948680</td>\n      <td>2015-04-17 12:11:00</td>\n      <td>Donation</td>\n      <td>Platelet Apheresis</td>\n      <td>Center</td>\n      <td>2016-05-31 23:59:59</td>\n    </tr>\n    <tr>\n      <th>237536</th>\n      <td>52948680</td>\n      <td>2015-12-09 09:12:00</td>\n      <td>Donation</td>\n      <td>Platelet Apheresis</td>\n      <td>Center</td>\n      <td>2016-05-31 23:59:59</td>\n    </tr>\n    <tr>\n      <th>247894</th>\n      <td>52948680</td>\n      <td>2015-07-26 17:56:00</td>\n      <td>Donation</td>\n      <td>Whole Blood</td>\n      <td>Mobile</td>\n      <td>2016-05-31 23:59:59</td>\n    </tr>\n    <tr>\n      <th>297863</th>\n      <td>52948680</td>\n      <td>2016-04-29 08:27:00</td>\n      <td>Donation</td>\n      <td>Platelet Apheresis</td>\n      <td>Center</td>\n      <td>2016-05-31 23:59:59</td>\n    </tr>\n    <tr>\n      <th>324583</th>\n      <td>52948680</td>\n      <td>2016-02-04 10:52:00</td>\n      <td>Donation</td>\n      <td>Platelet Apheresis</td>\n      <td>Center</td>\n      <td>2016-05-31 23:59:59</td>\n    </tr>\n    <tr>\n      <th>324709</th>\n      <td>52437236</td>\n      <td>2016-02-04 11:53:00</td>\n      <td>Donation</td>\n      <td>Platelet Apheresis</td>\n      <td>Center</td>\n      <td>2016-05-31 23:59:59</td>\n    </tr>\n    <tr>\n      <th>404891</th>\n      <td>52437236</td>\n      <td>2016-05-12 11:02:00</td>\n      <td>Donation</td>\n      <td>Platelet Apheresis</td>\n      <td>Center</td>\n      <td>2016-05-31 23:59:59</td>\n    </tr>\n    <tr>\n      <th>474013</th>\n      <td>52437236</td>\n      <td>2016-04-12 10:13:00</td>\n      <td>Donation</td>\n      <td>Platelet Apheresis</td>\n      <td>Center</td>\n      <td>2016-05-31 23:59:59</td>\n    </tr>\n    <tr>\n      <th>487977</th>\n      <td>54207926</td>\n      <td>2016-05-12 10:28:00</td>\n      <td>Donation</td>\n      <td>Platelet Apheresis</td>\n      <td>Center</td>\n      <td>2016-05-31 23:59:59</td>\n    </tr>\n    <tr>\n      <th>571062</th>\n      <td>52437236</td>\n      <td>2016-02-20 13:22:00</td>\n      <td>Donation</td>\n      <td>Platelet Apheresis</td>\n      <td>Center</td>\n      <td>2016-05-31 23:59:59</td>\n    </tr>\n    <tr>\n      <th>601615</th>\n      <td>54207926</td>\n      <td>2016-01-21 10:12:00</td>\n      <td>Donation</td>\n      <td>Platelet Apheresis</td>\n      <td>Center</td>\n      <td>2016-05-31 23:59:59</td>\n    </tr>\n    <tr>\n      <th>612939</th>\n      <td>52948680</td>\n      <td>2016-02-29 15:53:00</td>\n      <td>Donation</td>\n      <td>Platelet Apheresis</td>\n      <td>Center</td>\n      <td>2016-05-31 23:59:59</td>\n    </tr>\n    <tr>\n      <th>639975</th>\n      <td>52437236</td>\n      <td>2016-01-21 11:36:00</td>\n      <td>Donation</td>\n      <td>Platelet Apheresis</td>\n      <td>Center</td>\n      <td>2016-05-31 23:59:59</td>\n    </tr>\n    <tr>\n      <th>688801</th>\n      <td>52948680</td>\n      <td>2016-01-15 08:35:00</td>\n      <td>Donation</td>\n      <td>Platelet Apheresis</td>\n      <td>Center</td>\n      <td>2016-05-31 23:59:59</td>\n    </tr>\n    <tr>\n      <th>697214</th>\n      <td>54207926</td>\n      <td>2016-02-25 10:06:00</td>\n      <td>Donation</td>\n      <td>Platelet Apheresis</td>\n      <td>Center</td>\n      <td>2016-05-31 23:59:59</td>\n    </tr>\n    <tr>\n      <th>827760</th>\n      <td>52437236</td>\n      <td>2016-03-22 12:24:00</td>\n      <td>Donation</td>\n      <td>Platelets and Concurrent Plasma</td>\n      <td>Center</td>\n      <td>2016-05-31 23:59:59</td>\n    </tr>\n    <tr>\n      <th>954995</th>\n      <td>52948680</td>\n      <td>2016-02-12 08:09:00</td>\n      <td>Donation</td>\n      <td>Platelet Apheresis</td>\n      <td>Center</td>\n      <td>2016-05-31 23:59:59</td>\n    </tr>\n    <tr>\n      <th>958073</th>\n      <td>52948680</td>\n      <td>2016-03-16 13:19:00</td>\n      <td>Donation</td>\n      <td>Platelet Apheresis</td>\n      <td>Center</td>\n      <td>2016-05-31 23:59:59</td>\n    </tr>\n    <tr>\n      <th>1008134</th>\n      <td>52437236</td>\n      <td>2016-04-21 13:06:00</td>\n      <td>Donation</td>\n      <td>Platelets and Concurrent Plasma</td>\n      <td>Center</td>\n      <td>2016-05-31 23:59:59</td>\n    </tr>\n    <tr>\n      <th>1102920</th>\n      <td>52948680</td>\n      <td>2016-05-06 10:06:00</td>\n      <td>Donation</td>\n      <td>Platelet Apheresis</td>\n      <td>Center</td>\n      <td>2016-05-31 23:59:59</td>\n    </tr>\n    <tr>\n      <th>1125795</th>\n      <td>52948680</td>\n      <td>2016-04-08 11:33:00</td>\n      <td>Donation</td>\n      <td>Platelet Apheresis</td>\n      <td>Center</td>\n      <td>2016-05-31 23:59:59</td>\n    </tr>\n    <tr>\n      <th>1131108</th>\n      <td>52437236</td>\n      <td>2016-01-02 13:50:00</td>\n      <td>Donation</td>\n      <td>Platelet Apheresis</td>\n      <td>Center</td>\n      <td>2016-05-31 23:59:59</td>\n    </tr>\n    <tr>\n      <th>1132335</th>\n      <td>52948680</td>\n      <td>2016-01-04 13:04:00</td>\n      <td>Donation</td>\n      <td>Platelet Apheresis</td>\n      <td>Center</td>\n      <td>2016-05-31 23:59:59</td>\n    </tr>\n    <tr>\n      <th>1165671</th>\n      <td>52948680</td>\n      <td>2016-05-16 08:35:00</td>\n      <td>Donation</td>\n      <td>Platelet Apheresis</td>\n      <td>Center</td>\n      <td>2016-05-31 23:59:59</td>\n    </tr>\n    <tr>\n      <th>1211187</th>\n      <td>54207926</td>\n      <td>2016-03-24 10:06:00</td>\n      <td>Donation</td>\n      <td>Platelet Apheresis</td>\n      <td>Center</td>\n      <td>2016-05-31 23:59:59</td>\n    </tr>\n  </tbody>\n</table>\n</div>"
     },
     "metadata": {},
     "execution_count": 14
    }
   ],
   "source": [
    "# Filter records to those that are eligible for the current cutoff date\n",
    "cutoff_history = subset_data[subset_data['RegistrationTime'] <= cutoff]\n",
    "# Add CutoffDate as a literal value so we can combine all cutoff date histories\n",
    "cutoff_history['CutoffDate'] = cutoff\n",
    "cutoff_history"
   ]
  },
  {
   "cell_type": "code",
   "execution_count": 15,
   "metadata": {},
   "outputs": [
    {
     "output_type": "execute_result",
     "data": {
      "text/plain": "   Random_ID FirstRegistrationTime LastRegistrationTime  \\\n0   52437236   2015-03-13 12:50:59  2016-05-12 11:02:00   \n1   52948680   2015-02-26 14:51:59  2016-05-16 08:35:00   \n2   54207926   2015-07-22 13:11:00  2016-05-12 10:28:00   \n\n   DaysSinceLastRegistration  DaysSinceFirstRegistration  \n0                         19                         445  \n1                         15                         460  \n2                         19                         314  ",
      "text/html": "<div>\n<style scoped>\n    .dataframe tbody tr th:only-of-type {\n        vertical-align: middle;\n    }\n\n    .dataframe tbody tr th {\n        vertical-align: top;\n    }\n\n    .dataframe thead th {\n        text-align: right;\n    }\n</style>\n<table border=\"1\" class=\"dataframe\">\n  <thead>\n    <tr style=\"text-align: right;\">\n      <th></th>\n      <th>Random_ID</th>\n      <th>FirstRegistrationTime</th>\n      <th>LastRegistrationTime</th>\n      <th>DaysSinceLastRegistration</th>\n      <th>DaysSinceFirstRegistration</th>\n    </tr>\n  </thead>\n  <tbody>\n    <tr>\n      <th>0</th>\n      <td>52437236</td>\n      <td>2015-03-13 12:50:59</td>\n      <td>2016-05-12 11:02:00</td>\n      <td>19</td>\n      <td>445</td>\n    </tr>\n    <tr>\n      <th>1</th>\n      <td>52948680</td>\n      <td>2015-02-26 14:51:59</td>\n      <td>2016-05-16 08:35:00</td>\n      <td>15</td>\n      <td>460</td>\n    </tr>\n    <tr>\n      <th>2</th>\n      <td>54207926</td>\n      <td>2015-07-22 13:11:00</td>\n      <td>2016-05-12 10:28:00</td>\n      <td>19</td>\n      <td>314</td>\n    </tr>\n  </tbody>\n</table>\n</div>"
     },
     "metadata": {},
     "execution_count": 15
    }
   ],
   "source": [
    "# Calculate recency: difference between most recent donation date per donor, and the current cutoff date\n",
    "# Calculate time: total days since first registration\n",
    "recency = cutoff_history.groupby(by='Random_ID', as_index=False).agg({'RegistrationTime': ['min', 'max']})\n",
    "recency.columns = recency.columns.droplevel(0)\n",
    "recency.columns = ['Random_ID', 'FirstRegistrationTime', 'LastRegistrationTime']\n",
    "recency['DaysSinceLastRegistration'] = recency['LastRegistrationTime'].apply(lambda c: (cutoff - c).days)  # Just capture the days portion\n",
    "recency['DaysSinceFirstRegistration'] = recency['FirstRegistrationTime'].apply(lambda c: (cutoff - c).days)\n",
    "recency"
   ]
  },
  {
   "cell_type": "code",
   "execution_count": 16,
   "metadata": {},
   "outputs": [
    {
     "output_type": "execute_result",
     "data": {
      "text/plain": "   Random_ID  DaysSinceLastPlateletApheresisRegistration  \\\n0   52437236                                        19.0   \n1   52948680                                        15.0   \n2   54207926                                        19.0   \n\n   DaysSinceLastPlateletsandConcurrentPlasmaRegistration  \\\n0                                               40.0       \n1                                                NaN       \n2                                                NaN       \n\n   DaysSinceLastWholeBloodRegistration  \n0                                  NaN  \n1                                310.0  \n2                                  NaN  ",
      "text/html": "<div>\n<style scoped>\n    .dataframe tbody tr th:only-of-type {\n        vertical-align: middle;\n    }\n\n    .dataframe tbody tr th {\n        vertical-align: top;\n    }\n\n    .dataframe thead th {\n        text-align: right;\n    }\n</style>\n<table border=\"1\" class=\"dataframe\">\n  <thead>\n    <tr style=\"text-align: right;\">\n      <th></th>\n      <th>Random_ID</th>\n      <th>DaysSinceLastPlateletApheresisRegistration</th>\n      <th>DaysSinceLastPlateletsandConcurrentPlasmaRegistration</th>\n      <th>DaysSinceLastWholeBloodRegistration</th>\n    </tr>\n  </thead>\n  <tbody>\n    <tr>\n      <th>0</th>\n      <td>52437236</td>\n      <td>19.0</td>\n      <td>40.0</td>\n      <td>NaN</td>\n    </tr>\n    <tr>\n      <th>1</th>\n      <td>52948680</td>\n      <td>15.0</td>\n      <td>NaN</td>\n      <td>310.0</td>\n    </tr>\n    <tr>\n      <th>2</th>\n      <td>54207926</td>\n      <td>19.0</td>\n      <td>NaN</td>\n      <td>NaN</td>\n    </tr>\n  </tbody>\n</table>\n</div>"
     },
     "metadata": {},
     "execution_count": 16
    }
   ],
   "source": [
    "# Calculate recency by DonationType\n",
    "recency_type = cutoff_history.groupby(by=['Random_ID', 'DonationType'], as_index=False) \\\n",
    "                             .agg({'RegistrationTime': 'max'}).rename(columns={'RegistrationTime': 'LastRegistrationTime'})\n",
    "recency_type['DaysSinceLastRegistration'] = recency_type['LastRegistrationTime'].apply(lambda c: (cutoff - c).days)\n",
    "recency_type = recency_type.pivot(index='Random_ID', columns='DonationType', values='DaysSinceLastRegistration') \\\n",
    "                          .reset_index().rename_axis(None, axis=1)  # Make Random_ID a column; remove index name\n",
    "recency_type.columns = ['Random_ID'] + ['DaysSinceLast' + col_name.replace(' ', '') + 'Registration' for col_name in recency_type.columns if col_name != 'Random_ID']\n",
    "recency_type"
   ]
  },
  {
   "cell_type": "code",
   "execution_count": 17,
   "metadata": {},
   "outputs": [
    {
     "output_type": "execute_result",
     "data": {
      "text/plain": "         Random_ID          CutoffDate  DaysEligible  \\\n1165671   52948680 2016-05-31 23:59:59            38   \n404891    52437236 2016-05-31 23:59:59            42   \n487977    54207926 2016-05-31 23:59:59            42   \n\n         PercentOfTargetPeriodEligible  LastDonationLocation_Center  \\\n1165671                              1                            1   \n404891                               1                            1   \n487977                               1                            1   \n\n         LastDonationType_PlateletApheresis  \n1165671                                   1  \n404891                                    1  \n487977                                    1  ",
      "text/html": "<div>\n<style scoped>\n    .dataframe tbody tr th:only-of-type {\n        vertical-align: middle;\n    }\n\n    .dataframe tbody tr th {\n        vertical-align: top;\n    }\n\n    .dataframe thead th {\n        text-align: right;\n    }\n</style>\n<table border=\"1\" class=\"dataframe\">\n  <thead>\n    <tr style=\"text-align: right;\">\n      <th></th>\n      <th>Random_ID</th>\n      <th>CutoffDate</th>\n      <th>DaysEligible</th>\n      <th>PercentOfTargetPeriodEligible</th>\n      <th>LastDonationLocation_Center</th>\n      <th>LastDonationType_PlateletApheresis</th>\n    </tr>\n  </thead>\n  <tbody>\n    <tr>\n      <th>1165671</th>\n      <td>52948680</td>\n      <td>2016-05-31 23:59:59</td>\n      <td>38</td>\n      <td>1</td>\n      <td>1</td>\n      <td>1</td>\n    </tr>\n    <tr>\n      <th>404891</th>\n      <td>52437236</td>\n      <td>2016-05-31 23:59:59</td>\n      <td>42</td>\n      <td>1</td>\n      <td>1</td>\n      <td>1</td>\n    </tr>\n    <tr>\n      <th>487977</th>\n      <td>54207926</td>\n      <td>2016-05-31 23:59:59</td>\n      <td>42</td>\n      <td>1</td>\n      <td>1</td>\n      <td>1</td>\n    </tr>\n  </tbody>\n</table>\n</div>"
     },
     "metadata": {},
     "execution_count": 17
    }
   ],
   "source": [
    "# Determine last registration for eligibility calculations\n",
    "eligibility_map = {\n",
    "    'Whole Blood': 56,\n",
    "    'Platelets and Concurrent Plasma': 28,\n",
    "    '2 Units RBC': 112,\n",
    "    'RBC with Platelets and Plasma': 56,\n",
    "    'Plasma Apheresis': 28,\n",
    "    'Platelet Apheresis': 7,\n",
    "    'RBC with Platelets': 56,\n",
    "    'Single Unit Recovery': 56,\n",
    "    'RBC with Plasma': 56\n",
    "}\n",
    "\n",
    "last_reg = cutoff_history[cutoff_history['OutCome'] == \"Donation\"].sort_values('RegistrationTime', ascending=False).groupby(by='Random_ID').head(1)\n",
    "last_reg['DaysSinceLastDonation'] = last_reg['RegistrationTime'].apply(lambda c: (cutoff - c).days)\n",
    "last_reg['DaysEligible'] = last_reg.apply(lambda row: 30 - (eligibility_map[row['DonationType']] - row['DaysSinceLastDonation']), axis=1)\n",
    "last_reg['PercentOfTargetPeriodEligible'] = last_reg['DaysEligible'].apply(lambda x: 1 if x > 30 else (0 if x < 0 else x / 30))\n",
    "last_reg['LastDonationLocation_Center'] = last_reg['DonationLocation'].apply(lambda x: 1 if x == \"Center\" else 0)\n",
    "last_reg = last_reg.rename(columns={'DonationType': 'LastDonationType'})\n",
    "last_reg = pd.get_dummies(last_reg, columns=['LastDonationType'])\n",
    "last_reg.columns = ['Random_ID'] + [col_name.replace(' ', '') for col_name in last_reg.columns if col_name != 'Random_ID']\n",
    "last_reg.drop(['RegistrationTime', 'OutCome', 'DonationLocation', 'DaysSinceLastDonation'], axis=1, inplace=True)\n",
    "last_reg"
   ]
  },
  {
   "cell_type": "code",
   "execution_count": 18,
   "metadata": {},
   "outputs": [
    {
     "output_type": "execute_result",
     "data": {
      "text/plain": "         Random_ID          CutoffDate  DaysEligible  \\\n1165671   52948680 2016-05-31 23:59:59            38   \n404891    52437236 2016-05-31 23:59:59            42   \n487977    54207926 2016-05-31 23:59:59            42   \n\n         PercentOfTargetPeriodEligible  LastDonationLocation_Center  \\\n1165671                              1                            1   \n404891                               1                            1   \n487977                               1                            1   \n\n         LastDonationType_PlateletApheresis  \n1165671                                   1  \n404891                                    1  \n487977                                    1  ",
      "text/html": "<div>\n<style scoped>\n    .dataframe tbody tr th:only-of-type {\n        vertical-align: middle;\n    }\n\n    .dataframe tbody tr th {\n        vertical-align: top;\n    }\n\n    .dataframe thead th {\n        text-align: right;\n    }\n</style>\n<table border=\"1\" class=\"dataframe\">\n  <thead>\n    <tr style=\"text-align: right;\">\n      <th></th>\n      <th>Random_ID</th>\n      <th>CutoffDate</th>\n      <th>DaysEligible</th>\n      <th>PercentOfTargetPeriodEligible</th>\n      <th>LastDonationLocation_Center</th>\n      <th>LastDonationType_PlateletApheresis</th>\n    </tr>\n  </thead>\n  <tbody>\n    <tr>\n      <th>1165671</th>\n      <td>52948680</td>\n      <td>2016-05-31 23:59:59</td>\n      <td>38</td>\n      <td>1</td>\n      <td>1</td>\n      <td>1</td>\n    </tr>\n    <tr>\n      <th>404891</th>\n      <td>52437236</td>\n      <td>2016-05-31 23:59:59</td>\n      <td>42</td>\n      <td>1</td>\n      <td>1</td>\n      <td>1</td>\n    </tr>\n    <tr>\n      <th>487977</th>\n      <td>54207926</td>\n      <td>2016-05-31 23:59:59</td>\n      <td>42</td>\n      <td>1</td>\n      <td>1</td>\n      <td>1</td>\n    </tr>\n  </tbody>\n</table>\n</div>"
     },
     "metadata": {},
     "execution_count": 18
    }
   ],
   "source": [
    "last_reg[last_reg['PercentOfTargetPeriodEligible'] > 0]"
   ]
  },
  {
   "cell_type": "code",
   "execution_count": 19,
   "metadata": {},
   "outputs": [
    {
     "output_type": "execute_result",
     "data": {
      "text/plain": "   Random_ID  PastRegistrations\n0   52437236                 14\n1   52948680                 23\n2   54207926                  6",
      "text/html": "<div>\n<style scoped>\n    .dataframe tbody tr th:only-of-type {\n        vertical-align: middle;\n    }\n\n    .dataframe tbody tr th {\n        vertical-align: top;\n    }\n\n    .dataframe thead th {\n        text-align: right;\n    }\n</style>\n<table border=\"1\" class=\"dataframe\">\n  <thead>\n    <tr style=\"text-align: right;\">\n      <th></th>\n      <th>Random_ID</th>\n      <th>PastRegistrations</th>\n    </tr>\n  </thead>\n  <tbody>\n    <tr>\n      <th>0</th>\n      <td>52437236</td>\n      <td>14</td>\n    </tr>\n    <tr>\n      <th>1</th>\n      <td>52948680</td>\n      <td>23</td>\n    </tr>\n    <tr>\n      <th>2</th>\n      <td>54207926</td>\n      <td>6</td>\n    </tr>\n  </tbody>\n</table>\n</div>"
     },
     "metadata": {},
     "execution_count": 19
    }
   ],
   "source": [
    "# Calculate frequency: number of registrations for donation in the history period\n",
    "frequency = cutoff_history.groupby(by='Random_ID', as_index=False).agg({'RegistrationTime': 'count'}).rename(columns={'RegistrationTime': 'PastRegistrations'})\n",
    "frequency"
   ]
  },
  {
   "cell_type": "code",
   "execution_count": 20,
   "metadata": {},
   "outputs": [
    {
     "output_type": "execute_result",
     "data": {
      "text/plain": "   Random_ID  PastPlateletApheresisRegistrations  \\\n0   52437236                                10.0   \n1   52948680                                21.0   \n2   54207926                                 6.0   \n\n   PastPlateletsandConcurrentPlasmaRegistrations  PastWholeBloodRegistrations  \n0                                            4.0                          NaN  \n1                                            NaN                          2.0  \n2                                            NaN                          NaN  ",
      "text/html": "<div>\n<style scoped>\n    .dataframe tbody tr th:only-of-type {\n        vertical-align: middle;\n    }\n\n    .dataframe tbody tr th {\n        vertical-align: top;\n    }\n\n    .dataframe thead th {\n        text-align: right;\n    }\n</style>\n<table border=\"1\" class=\"dataframe\">\n  <thead>\n    <tr style=\"text-align: right;\">\n      <th></th>\n      <th>Random_ID</th>\n      <th>PastPlateletApheresisRegistrations</th>\n      <th>PastPlateletsandConcurrentPlasmaRegistrations</th>\n      <th>PastWholeBloodRegistrations</th>\n    </tr>\n  </thead>\n  <tbody>\n    <tr>\n      <th>0</th>\n      <td>52437236</td>\n      <td>10.0</td>\n      <td>4.0</td>\n      <td>NaN</td>\n    </tr>\n    <tr>\n      <th>1</th>\n      <td>52948680</td>\n      <td>21.0</td>\n      <td>NaN</td>\n      <td>2.0</td>\n    </tr>\n    <tr>\n      <th>2</th>\n      <td>54207926</td>\n      <td>6.0</td>\n      <td>NaN</td>\n      <td>NaN</td>\n    </tr>\n  </tbody>\n</table>\n</div>"
     },
     "metadata": {},
     "execution_count": 20
    }
   ],
   "source": [
    "# Calculate frequency by DonationType\n",
    "frequency_type = cutoff_history.groupby(by=['Random_ID', 'DonationType'], as_index=False) \\\n",
    "                               .agg({'RegistrationTime': 'count'}).rename(columns={'RegistrationTime': 'TotalRegistrations'}) \\\n",
    "                               .pivot(index='Random_ID', columns='DonationType', values='TotalRegistrations') \\\n",
    "                               .reset_index().rename_axis(None, axis=1)  # Make Random_ID a column; remove index name\n",
    "frequency_type.columns = ['Random_ID'] + ['Past' + col_name.replace(' ', '') + 'Registrations' for col_name in frequency_type.columns if col_name != 'Random_ID']\n",
    "frequency_type"
   ]
  },
  {
   "cell_type": "code",
   "execution_count": 21,
   "metadata": {},
   "outputs": [],
   "source": [
    "# Calculate monetary: total volume of donation in the history period?"
   ]
  },
  {
   "cell_type": "code",
   "execution_count": 22,
   "metadata": {},
   "outputs": [
    {
     "output_type": "execute_result",
     "data": {
      "text/plain": "   Random_ID DonationLocation  TotalRegistrations\n0   52437236           Center                  14\n1   52948680           Center                  21\n2   52948680           Mobile                   2\n3   54207926           Center                   6",
      "text/html": "<div>\n<style scoped>\n    .dataframe tbody tr th:only-of-type {\n        vertical-align: middle;\n    }\n\n    .dataframe tbody tr th {\n        vertical-align: top;\n    }\n\n    .dataframe thead th {\n        text-align: right;\n    }\n</style>\n<table border=\"1\" class=\"dataframe\">\n  <thead>\n    <tr style=\"text-align: right;\">\n      <th></th>\n      <th>Random_ID</th>\n      <th>DonationLocation</th>\n      <th>TotalRegistrations</th>\n    </tr>\n  </thead>\n  <tbody>\n    <tr>\n      <th>0</th>\n      <td>52437236</td>\n      <td>Center</td>\n      <td>14</td>\n    </tr>\n    <tr>\n      <th>1</th>\n      <td>52948680</td>\n      <td>Center</td>\n      <td>21</td>\n    </tr>\n    <tr>\n      <th>2</th>\n      <td>52948680</td>\n      <td>Mobile</td>\n      <td>2</td>\n    </tr>\n    <tr>\n      <th>3</th>\n      <td>54207926</td>\n      <td>Center</td>\n      <td>6</td>\n    </tr>\n  </tbody>\n</table>\n</div>"
     },
     "metadata": {},
     "execution_count": 22
    }
   ],
   "source": [
    "# Calculate registrations per location type\n",
    "location_counts = cutoff_history.groupby(by=['Random_ID', 'DonationLocation'], as_index=False) \\\n",
    "                                .agg({'RegistrationTime': 'count'}).rename(columns={'RegistrationTime': 'TotalRegistrations'})\n",
    "location_counts"
   ]
  },
  {
   "cell_type": "code",
   "execution_count": 23,
   "metadata": {},
   "outputs": [
    {
     "output_type": "execute_result",
     "data": {
      "text/plain": "   Random_ID  PastCenterRegistrations  PastMobileRegistrations\n0   52437236                     14.0                      NaN\n1   52948680                     21.0                      2.0\n2   54207926                      6.0                      NaN",
      "text/html": "<div>\n<style scoped>\n    .dataframe tbody tr th:only-of-type {\n        vertical-align: middle;\n    }\n\n    .dataframe tbody tr th {\n        vertical-align: top;\n    }\n\n    .dataframe thead th {\n        text-align: right;\n    }\n</style>\n<table border=\"1\" class=\"dataframe\">\n  <thead>\n    <tr style=\"text-align: right;\">\n      <th></th>\n      <th>Random_ID</th>\n      <th>PastCenterRegistrations</th>\n      <th>PastMobileRegistrations</th>\n    </tr>\n  </thead>\n  <tbody>\n    <tr>\n      <th>0</th>\n      <td>52437236</td>\n      <td>14.0</td>\n      <td>NaN</td>\n    </tr>\n    <tr>\n      <th>1</th>\n      <td>52948680</td>\n      <td>21.0</td>\n      <td>2.0</td>\n    </tr>\n    <tr>\n      <th>2</th>\n      <td>54207926</td>\n      <td>6.0</td>\n      <td>NaN</td>\n    </tr>\n  </tbody>\n</table>\n</div>"
     },
     "metadata": {},
     "execution_count": 23
    }
   ],
   "source": [
    "# Pivot to add as features\n",
    "frequency_location = location_counts.pivot(index='Random_ID', columns='DonationLocation', values='TotalRegistrations').reset_index().rename_axis(None, axis=1)\n",
    "frequency_location.columns = ['Random_ID'] + ['Past' + col_name.replace(' ', '') + 'Registrations' for col_name in frequency_location.columns if col_name != 'Random_ID']\n",
    "frequency_location"
   ]
  },
  {
   "cell_type": "code",
   "execution_count": 24,
   "metadata": {},
   "outputs": [
    {
     "output_type": "execute_result",
     "data": {
      "text/plain": "   Random_ID ModalDonationLocation  TotalRegistrations\n1   52948680                Center                  21\n0   52437236                Center                  14\n3   54207926                Center                   6",
      "text/html": "<div>\n<style scoped>\n    .dataframe tbody tr th:only-of-type {\n        vertical-align: middle;\n    }\n\n    .dataframe tbody tr th {\n        vertical-align: top;\n    }\n\n    .dataframe thead th {\n        text-align: right;\n    }\n</style>\n<table border=\"1\" class=\"dataframe\">\n  <thead>\n    <tr style=\"text-align: right;\">\n      <th></th>\n      <th>Random_ID</th>\n      <th>ModalDonationLocation</th>\n      <th>TotalRegistrations</th>\n    </tr>\n  </thead>\n  <tbody>\n    <tr>\n      <th>1</th>\n      <td>52948680</td>\n      <td>Center</td>\n      <td>21</td>\n    </tr>\n    <tr>\n      <th>0</th>\n      <td>52437236</td>\n      <td>Center</td>\n      <td>14</td>\n    </tr>\n    <tr>\n      <th>3</th>\n      <td>54207926</td>\n      <td>Center</td>\n      <td>6</td>\n    </tr>\n  </tbody>\n</table>\n</div>"
     },
     "metadata": {},
     "execution_count": 24
    }
   ],
   "source": [
    "# Calculate modal location per Random_ID\n",
    "modal_location = location_counts.sort_values('TotalRegistrations', ascending=False).groupby(by='Random_ID').head(1).rename(columns={'DonationLocation': 'ModalDonationLocation'})\n",
    "modal_location"
   ]
  },
  {
   "cell_type": "code",
   "execution_count": 25,
   "metadata": {},
   "outputs": [
    {
     "output_type": "execute_result",
     "data": {
      "text/plain": "   Random_ID  ModalDonationLocation_Center\n1   52948680                             1\n0   52437236                             1\n3   54207926                             1",
      "text/html": "<div>\n<style scoped>\n    .dataframe tbody tr th:only-of-type {\n        vertical-align: middle;\n    }\n\n    .dataframe tbody tr th {\n        vertical-align: top;\n    }\n\n    .dataframe thead th {\n        text-align: right;\n    }\n</style>\n<table border=\"1\" class=\"dataframe\">\n  <thead>\n    <tr style=\"text-align: right;\">\n      <th></th>\n      <th>Random_ID</th>\n      <th>ModalDonationLocation_Center</th>\n    </tr>\n  </thead>\n  <tbody>\n    <tr>\n      <th>1</th>\n      <td>52948680</td>\n      <td>1</td>\n    </tr>\n    <tr>\n      <th>0</th>\n      <td>52437236</td>\n      <td>1</td>\n    </tr>\n    <tr>\n      <th>3</th>\n      <td>54207926</td>\n      <td>1</td>\n    </tr>\n  </tbody>\n</table>\n</div>"
     },
     "metadata": {},
     "execution_count": 25
    }
   ],
   "source": [
    "# Represent modal location as dummy variables (one-hot encoded)\n",
    "modal_one_hot = pd.get_dummies(modal_location).drop('TotalRegistrations', axis=1)\n",
    "modal_one_hot"
   ]
  },
  {
   "cell_type": "code",
   "execution_count": 26,
   "metadata": {},
   "outputs": [
    {
     "output_type": "execute_result",
     "data": {
      "text/plain": "         Random_ID    RegistrationTime       OutCome        DonationType  \\\n284231    52437236 2016-06-02 14:01:00      Donation  Platelet Apheresis   \n511342    52437236 2016-06-15 10:38:00    Incomplete  Platelet Apheresis   \n788793    54207926 2016-06-29 10:03:00  Registration  Platelet Apheresis   \n1080584   52948680 2016-06-11 09:14:00      Donation  Platelet Apheresis   \n1189641   54207926 2016-06-09 10:06:00      Donation  Platelet Apheresis   \n1196958   52948680 2016-06-01 13:08:00      Donation  Platelet Apheresis   \n\n        DonationLocation  \n284231            Center  \n511342            Center  \n788793            Center  \n1080584           Center  \n1189641           Center  \n1196958           Center  ",
      "text/html": "<div>\n<style scoped>\n    .dataframe tbody tr th:only-of-type {\n        vertical-align: middle;\n    }\n\n    .dataframe tbody tr th {\n        vertical-align: top;\n    }\n\n    .dataframe thead th {\n        text-align: right;\n    }\n</style>\n<table border=\"1\" class=\"dataframe\">\n  <thead>\n    <tr style=\"text-align: right;\">\n      <th></th>\n      <th>Random_ID</th>\n      <th>RegistrationTime</th>\n      <th>OutCome</th>\n      <th>DonationType</th>\n      <th>DonationLocation</th>\n    </tr>\n  </thead>\n  <tbody>\n    <tr>\n      <th>284231</th>\n      <td>52437236</td>\n      <td>2016-06-02 14:01:00</td>\n      <td>Donation</td>\n      <td>Platelet Apheresis</td>\n      <td>Center</td>\n    </tr>\n    <tr>\n      <th>511342</th>\n      <td>52437236</td>\n      <td>2016-06-15 10:38:00</td>\n      <td>Incomplete</td>\n      <td>Platelet Apheresis</td>\n      <td>Center</td>\n    </tr>\n    <tr>\n      <th>788793</th>\n      <td>54207926</td>\n      <td>2016-06-29 10:03:00</td>\n      <td>Registration</td>\n      <td>Platelet Apheresis</td>\n      <td>Center</td>\n    </tr>\n    <tr>\n      <th>1080584</th>\n      <td>52948680</td>\n      <td>2016-06-11 09:14:00</td>\n      <td>Donation</td>\n      <td>Platelet Apheresis</td>\n      <td>Center</td>\n    </tr>\n    <tr>\n      <th>1189641</th>\n      <td>54207926</td>\n      <td>2016-06-09 10:06:00</td>\n      <td>Donation</td>\n      <td>Platelet Apheresis</td>\n      <td>Center</td>\n    </tr>\n    <tr>\n      <th>1196958</th>\n      <td>52948680</td>\n      <td>2016-06-01 13:08:00</td>\n      <td>Donation</td>\n      <td>Platelet Apheresis</td>\n      <td>Center</td>\n    </tr>\n  </tbody>\n</table>\n</div>"
     },
     "metadata": {},
     "execution_count": 26
    }
   ],
   "source": [
    "# Filter data down to target period\n",
    "cutoff_target = subset_data[(subset_data['RegistrationTime'] >= target_start_date) & (subset_data['RegistrationTime'] <= target_end_date)]\n",
    "cutoff_target"
   ]
  },
  {
   "cell_type": "code",
   "execution_count": 27,
   "metadata": {},
   "outputs": [
    {
     "output_type": "execute_result",
     "data": {
      "text/plain": "   Random_ID  TargetRegistrations\n0   52437236                    2\n1   52948680                    2\n2   54207926                    2",
      "text/html": "<div>\n<style scoped>\n    .dataframe tbody tr th:only-of-type {\n        vertical-align: middle;\n    }\n\n    .dataframe tbody tr th {\n        vertical-align: top;\n    }\n\n    .dataframe thead th {\n        text-align: right;\n    }\n</style>\n<table border=\"1\" class=\"dataframe\">\n  <thead>\n    <tr style=\"text-align: right;\">\n      <th></th>\n      <th>Random_ID</th>\n      <th>TargetRegistrations</th>\n    </tr>\n  </thead>\n  <tbody>\n    <tr>\n      <th>0</th>\n      <td>52437236</td>\n      <td>2</td>\n    </tr>\n    <tr>\n      <th>1</th>\n      <td>52948680</td>\n      <td>2</td>\n    </tr>\n    <tr>\n      <th>2</th>\n      <td>54207926</td>\n      <td>2</td>\n    </tr>\n  </tbody>\n</table>\n</div>"
     },
     "metadata": {},
     "execution_count": 27
    }
   ],
   "source": [
    "# Calculate base measure for target: how many total registrations each donor had in the target period\n",
    "response = cutoff_target.groupby(by='Random_ID', as_index=False).agg({'RegistrationTime': 'count'}).rename(columns={'RegistrationTime': 'TargetRegistrations'})\n",
    "response"
   ]
  },
  {
   "cell_type": "code",
   "execution_count": 28,
   "metadata": {},
   "outputs": [],
   "source": [
    "# Calculate sub-targets: how many registrations of each DonationType each donor had in the target period\n",
    "response_type = cutoff_target.groupby(by=['Random_ID', 'DonationType'], as_index=False) \\\n",
    "                             .agg({'RegistrationTime': 'count'}).rename(columns={'RegistrationTime': 'TotalRegistrations'}) \\\n",
    "                             .pivot(index='Random_ID', columns='DonationType', values='TotalRegistrations') \\\n",
    "                             .reset_index().rename_axis(None, axis=1)  # Make Random_ID a column; remove index name\n",
    "response_type.columns = ['Random_ID'] + ['Target' + col_name.replace(' ', '') + 'Registrations' for col_name in response_type.columns if col_name != 'Random_ID']"
   ]
  },
  {
   "cell_type": "code",
   "execution_count": 29,
   "metadata": {},
   "outputs": [
    {
     "output_type": "execute_result",
     "data": {
      "text/plain": "   Random_ID  TargetPlateletApheresisRegistrations\n0   52437236                                     2\n1   52948680                                     2\n2   54207926                                     2",
      "text/html": "<div>\n<style scoped>\n    .dataframe tbody tr th:only-of-type {\n        vertical-align: middle;\n    }\n\n    .dataframe tbody tr th {\n        vertical-align: top;\n    }\n\n    .dataframe thead th {\n        text-align: right;\n    }\n</style>\n<table border=\"1\" class=\"dataframe\">\n  <thead>\n    <tr style=\"text-align: right;\">\n      <th></th>\n      <th>Random_ID</th>\n      <th>TargetPlateletApheresisRegistrations</th>\n    </tr>\n  </thead>\n  <tbody>\n    <tr>\n      <th>0</th>\n      <td>52437236</td>\n      <td>2</td>\n    </tr>\n    <tr>\n      <th>1</th>\n      <td>52948680</td>\n      <td>2</td>\n    </tr>\n    <tr>\n      <th>2</th>\n      <td>54207926</td>\n      <td>2</td>\n    </tr>\n  </tbody>\n</table>\n</div>"
     },
     "metadata": {},
     "execution_count": 29
    }
   ],
   "source": [
    "response_type"
   ]
  },
  {
   "cell_type": "code",
   "execution_count": 34,
   "metadata": {},
   "outputs": [
    {
     "output_type": "execute_result",
     "data": {
      "text/plain": "   Random_ID  PlateletRegistrations\n0   52437236                      2\n1   52948680                      2\n2   54207926                      2",
      "text/html": "<div>\n<style scoped>\n    .dataframe tbody tr th:only-of-type {\n        vertical-align: middle;\n    }\n\n    .dataframe tbody tr th {\n        vertical-align: top;\n    }\n\n    .dataframe thead th {\n        text-align: right;\n    }\n</style>\n<table border=\"1\" class=\"dataframe\">\n  <thead>\n    <tr style=\"text-align: right;\">\n      <th></th>\n      <th>Random_ID</th>\n      <th>PlateletRegistrations</th>\n    </tr>\n  </thead>\n  <tbody>\n    <tr>\n      <th>0</th>\n      <td>52437236</td>\n      <td>2</td>\n    </tr>\n    <tr>\n      <th>1</th>\n      <td>52948680</td>\n      <td>2</td>\n    </tr>\n    <tr>\n      <th>2</th>\n      <td>54207926</td>\n      <td>2</td>\n    </tr>\n  </tbody>\n</table>\n</div>"
     },
     "metadata": {},
     "execution_count": 34
    }
   ],
   "source": [
    "response_platelets = cutoff_target[cutoff_target['DonationType'].isin(['RBC with Platelets', 'Platelet Apheresis',\n",
    "                                                                       'RBC with Platelets and Plasma', 'Platelets and Concurrent Plasma'])] \\\n",
    "                                                                .groupby(by='Random_ID', as_index=False) \\\n",
    "                                                                .agg({'RegistrationTime': 'count'}).rename(columns={'RegistrationTime': 'TargetPlateletRegistrations'})                      \n",
    "response_platelets"
   ]
  },
  {
   "cell_type": "code",
   "execution_count": 30,
   "metadata": {},
   "outputs": [
    {
     "output_type": "execute_result",
     "data": {
      "text/plain": "   Random_ID FirstRegistrationTime LastRegistrationTime  \\\n0   52437236   2015-03-13 12:50:59  2016-05-12 11:02:00   \n1   52948680   2015-02-26 14:51:59  2016-05-16 08:35:00   \n2   54207926   2015-07-22 13:11:00  2016-05-12 10:28:00   \n\n   DaysSinceLastRegistration  DaysSinceFirstRegistration  PastRegistrations  \\\n0                         19                         445                 14   \n1                         15                         460                 23   \n2                         19                         314                  6   \n\n   TargetRegistrations  RegisteredInTargetPeriod          CutoffDate  \\\n0                    2                         1 2016-05-31 23:59:59   \n1                    2                         1 2016-05-31 23:59:59   \n2                    2                         1 2016-05-31 23:59:59   \n\n  TargetPeriodStartDate TargetPeriodEndDate  \n0            2016-06-01 2016-06-30 23:59:59  \n1            2016-06-01 2016-06-30 23:59:59  \n2            2016-06-01 2016-06-30 23:59:59  ",
      "text/html": "<div>\n<style scoped>\n    .dataframe tbody tr th:only-of-type {\n        vertical-align: middle;\n    }\n\n    .dataframe tbody tr th {\n        vertical-align: top;\n    }\n\n    .dataframe thead th {\n        text-align: right;\n    }\n</style>\n<table border=\"1\" class=\"dataframe\">\n  <thead>\n    <tr style=\"text-align: right;\">\n      <th></th>\n      <th>Random_ID</th>\n      <th>FirstRegistrationTime</th>\n      <th>LastRegistrationTime</th>\n      <th>DaysSinceLastRegistration</th>\n      <th>DaysSinceFirstRegistration</th>\n      <th>PastRegistrations</th>\n      <th>TargetRegistrations</th>\n      <th>RegisteredInTargetPeriod</th>\n      <th>CutoffDate</th>\n      <th>TargetPeriodStartDate</th>\n      <th>TargetPeriodEndDate</th>\n    </tr>\n  </thead>\n  <tbody>\n    <tr>\n      <th>0</th>\n      <td>52437236</td>\n      <td>2015-03-13 12:50:59</td>\n      <td>2016-05-12 11:02:00</td>\n      <td>19</td>\n      <td>445</td>\n      <td>14</td>\n      <td>2</td>\n      <td>1</td>\n      <td>2016-05-31 23:59:59</td>\n      <td>2016-06-01</td>\n      <td>2016-06-30 23:59:59</td>\n    </tr>\n    <tr>\n      <th>1</th>\n      <td>52948680</td>\n      <td>2015-02-26 14:51:59</td>\n      <td>2016-05-16 08:35:00</td>\n      <td>15</td>\n      <td>460</td>\n      <td>23</td>\n      <td>2</td>\n      <td>1</td>\n      <td>2016-05-31 23:59:59</td>\n      <td>2016-06-01</td>\n      <td>2016-06-30 23:59:59</td>\n    </tr>\n    <tr>\n      <th>2</th>\n      <td>54207926</td>\n      <td>2015-07-22 13:11:00</td>\n      <td>2016-05-12 10:28:00</td>\n      <td>19</td>\n      <td>314</td>\n      <td>6</td>\n      <td>2</td>\n      <td>1</td>\n      <td>2016-05-31 23:59:59</td>\n      <td>2016-06-01</td>\n      <td>2016-06-30 23:59:59</td>\n    </tr>\n  </tbody>\n</table>\n</div>"
     },
     "metadata": {},
     "execution_count": 30
    }
   ],
   "source": [
    "# Combine datasets\n",
    "data = pd.merge(recency, frequency, how='left').merge(response, how='left')\n",
    "data['RegisteredInTargetPeriod'] = data['PastRegistrations'].apply(lambda x: 0 if pd.isna(x) else 1)\n",
    "data['CutoffDate'] = cutoff\n",
    "data['TargetPeriodStartDate'] = target_start_date\n",
    "data['TargetPeriodEndDate'] = target_end_date\n",
    "data"
   ]
  },
  {
   "cell_type": "code",
   "execution_count": 31,
   "metadata": {},
   "outputs": [
    {
     "output_type": "execute_result",
     "data": {
      "text/plain": "Whole Blood                        3231266\nPlatelet Apheresis                  277174\n2 Units RBC                         183740\nRBC with Plasma                      54387\nPlatelets and Concurrent Plasma      44286\nRBC with Platelets and Plasma        11863\nRBC with Platelets                    6056\nSingle Unit Recovery                  5480\nPlasma Apheresis                      4599\nName: DonationType, dtype: int64"
     },
     "metadata": {},
     "execution_count": 31
    }
   ],
   "source": [
    "raw_data['DonationType'].value_counts()"
   ]
  }
 ],
 "metadata": {
  "kernelspec": {
   "display_name": "Python 3",
   "language": "python",
   "name": "python3"
  },
  "language_info": {
   "codemirror_mode": {
    "name": "ipython",
    "version": 3
   },
   "file_extension": ".py",
   "mimetype": "text/x-python",
   "name": "python",
   "nbconvert_exporter": "python",
   "pygments_lexer": "ipython3",
   "version": "3.7.7-final"
  }
 },
 "nbformat": 4,
 "nbformat_minor": 4
}