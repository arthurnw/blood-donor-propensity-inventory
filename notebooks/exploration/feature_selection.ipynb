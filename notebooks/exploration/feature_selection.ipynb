{
 "cells": [
  {
   "cell_type": "markdown",
   "metadata": {},
   "source": [
    "# Setup"
   ]
  },
  {
   "cell_type": "code",
   "execution_count": 1,
   "metadata": {},
   "outputs": [],
   "source": [
    "# Import libraries\n",
    "import json\n",
    "import pandas as pd\n",
    "import numpy as np\n",
    "import seaborn as sb\n",
    "import matplotlib.pyplot as plt\n",
    "from sklearn.model_selection import train_test_split, StratifiedKFold\n",
    "from sklearn.feature_selection import RFECV, SelectKBest, VarianceThreshold\n",
    "from sklearn.linear_model import LogisticRegression\n",
    "from sklearn.metrics import roc_auc_score, confusion_matrix, classification_report"
   ]
  },
  {
   "cell_type": "code",
   "execution_count": 2,
   "metadata": {
    "tags": []
   },
   "outputs": [
    {
     "output_type": "stream",
     "name": "stdout",
     "text": "{'Random_ID': 'int64', 'DaysSinceLastRegistration': 'int64', 'DaysSinceFirstRegistration': 'int64', 'PastRegistrations': 'int64', 'DaysSinceLast2UnitsRBCRegistration': 'float64', 'DaysSinceLastPlasmaApheresisRegistration': 'float64', 'DaysSinceLastPlateletApheresisRegistration': 'float64', 'DaysSinceLastPlateletsandConcurrentPlasmaRegistration': 'float64', 'DaysSinceLastRBCwithPlasmaRegistration': 'float64', 'DaysSinceLastRBCwithPlateletsRegistration': 'float64', 'DaysSinceLastRBCwithPlateletsandPlasmaRegistration': 'float64', 'DaysSinceLastSingleUnitRecoveryRegistration': 'float64', 'DaysSinceLastWholeBloodRegistration': 'float64', 'DaysEligible': 'float64', 'PercentOfTargetPeriodEligible': 'float64', 'LastDonationLocation_Center': 'float64', 'LastDonationType_2UnitsRBC': 'float64', 'LastDonationType_PlasmaApheresis': 'float64', 'LastDonationType_PlateletApheresis': 'float64', 'LastDonationType_PlateletsandConcurrentPlasma': 'float64', 'LastDonationType_RBCwithPlasma': 'float64', 'LastDonationType_RBCwithPlatelets': 'float64', 'LastDonationType_RBCwithPlateletsandPlasma': 'float64', 'LastDonationType_SingleUnitRecovery': 'float64', 'LastDonationType_WholeBlood': 'float64', 'Past2UnitsRBCRegistrations': 'float64', 'PastPlasmaApheresisRegistrations': 'float64', 'PastPlateletApheresisRegistrations': 'float64', 'PastPlateletsandConcurrentPlasmaRegistrations': 'float64', 'PastRBCwithPlasmaRegistrations': 'float64', 'PastRBCwithPlateletsRegistrations': 'float64', 'PastRBCwithPlateletsandPlasmaRegistrations': 'float64', 'PastSingleUnitRecoveryRegistrations': 'float64', 'PastWholeBloodRegistrations': 'float64', 'PastCenterRegistrations': 'float64', 'PastMobileRegistrations': 'float64', 'ModalDonationLocation_Center': 'uint8', 'TargetRegistrations': 'float64', 'Target2UnitsRBCRegistrations': 'float64', 'TargetPlasmaApheresisRegistrations': 'float64', 'TargetPlateletApheresisRegistrations': 'float64', 'TargetPlateletsandConcurrentPlasmaRegistrations': 'float64', 'TargetRBCwithPlasmaRegistrations': 'float64', 'TargetRBCwithPlateletsRegistrations': 'float64', 'TargetRBCwithPlateletsandPlasmaRegistrations': 'float64', 'TargetSingleUnitRecoveryRegistrations': 'float64', 'TargetWholeBloodRegistrations': 'float64', 'TargetPlateletRegistrations': 'float64', 'DonationsPerDay': 'float64', 'RegisteredInTargetPeriod': 'int64', 'RegisteredForPlateletsInTargetPeriod': 'int64'}\n['CutoffDate']\n"
    }
   ],
   "source": [
    "# Load data\n",
    "with open('../../data/processed/dtypes.json') as in_file:\n",
    "    non_date_dtypes = json.load(in_file)\n",
    "\n",
    "with open('../../data/processed/date_types.json') as in_file:\n",
    "    date_dtypes = json.load(in_file)\n",
    "\n",
    "date_cols = list(date_dtypes)\n",
    "print(non_date_dtypes)\n",
    "print(date_cols)"
   ]
  },
  {
   "cell_type": "code",
   "execution_count": 3,
   "metadata": {},
   "outputs": [],
   "source": [
    "# Read data, specifically parsing date columns as dates\n",
    "data = pd.read_csv('../../data/processed/data.csv', dtype=non_date_dtypes, parse_dates=date_cols)"
   ]
  },
  {
   "cell_type": "code",
   "execution_count": 4,
   "metadata": {},
   "outputs": [
    {
     "output_type": "execute_result",
     "data": {
      "text/plain": "   Random_ID  DaysSinceLastRegistration  DaysSinceFirstRegistration  \\\n0      54260                         32                          32   \n1      54261                        308                         308   \n2      54273                        165                         165   \n3      54330                        100                         301   \n4      54354                        200                         200   \n\n   PastRegistrations  DaysSinceLast2UnitsRBCRegistration  \\\n0                  1                                 0.0   \n1                  1                                 0.0   \n2                  1                                 0.0   \n3                  2                               301.0   \n4                  1                                 0.0   \n\n   DaysSinceLastPlasmaApheresisRegistration  \\\n0                                       0.0   \n1                                       0.0   \n2                                       0.0   \n3                                       0.0   \n4                                       0.0   \n\n   DaysSinceLastPlateletApheresisRegistration  \\\n0                                         0.0   \n1                                         0.0   \n2                                         0.0   \n3                                         0.0   \n4                                         0.0   \n\n   DaysSinceLastPlateletsandConcurrentPlasmaRegistration  \\\n0                                                0.0       \n1                                                0.0       \n2                                                0.0       \n3                                                0.0       \n4                                                0.0       \n\n   DaysSinceLastRBCwithPlasmaRegistration  \\\n0                                     0.0   \n1                                     0.0   \n2                                     0.0   \n3                                     0.0   \n4                                     0.0   \n\n   DaysSinceLastRBCwithPlateletsRegistration  ...  \\\n0                                        0.0  ...   \n1                                        0.0  ...   \n2                                        0.0  ...   \n3                                        0.0  ...   \n4                                        0.0  ...   \n\n   TargetRBCwithPlasmaRegistrations  TargetRBCwithPlateletsRegistrations  \\\n0                               0.0                                  0.0   \n1                               0.0                                  0.0   \n2                               0.0                                  0.0   \n3                               0.0                                  0.0   \n4                               0.0                                  0.0   \n\n   TargetRBCwithPlateletsandPlasmaRegistrations  \\\n0                                           0.0   \n1                                           0.0   \n2                                           0.0   \n3                                           0.0   \n4                                           0.0   \n\n   TargetSingleUnitRecoveryRegistrations  TargetWholeBloodRegistrations  \\\n0                                    0.0                            0.0   \n1                                    0.0                            0.0   \n2                                    0.0                            1.0   \n3                                    0.0                            0.0   \n4                                    0.0                            1.0   \n\n   TargetPlateletRegistrations  DonationsPerDay          CutoffDate  \\\n0                          0.0         0.031250 2016-03-31 23:59:59   \n1                          0.0         0.003247 2016-03-31 23:59:59   \n2                          0.0         0.006061 2016-03-31 23:59:59   \n3                          0.0         0.006645 2016-03-31 23:59:59   \n4                          0.0         0.005000 2016-03-31 23:59:59   \n\n   RegisteredInTargetPeriod  RegisteredForPlateletsInTargetPeriod  \n0                         0                                     0  \n1                         0                                     0  \n2                         1                                     0  \n3                         0                                     0  \n4                         1                                     0  \n\n[5 rows x 52 columns]",
      "text/html": "<div>\n<style scoped>\n    .dataframe tbody tr th:only-of-type {\n        vertical-align: middle;\n    }\n\n    .dataframe tbody tr th {\n        vertical-align: top;\n    }\n\n    .dataframe thead th {\n        text-align: right;\n    }\n</style>\n<table border=\"1\" class=\"dataframe\">\n  <thead>\n    <tr style=\"text-align: right;\">\n      <th></th>\n      <th>Random_ID</th>\n      <th>DaysSinceLastRegistration</th>\n      <th>DaysSinceFirstRegistration</th>\n      <th>PastRegistrations</th>\n      <th>DaysSinceLast2UnitsRBCRegistration</th>\n      <th>DaysSinceLastPlasmaApheresisRegistration</th>\n      <th>DaysSinceLastPlateletApheresisRegistration</th>\n      <th>DaysSinceLastPlateletsandConcurrentPlasmaRegistration</th>\n      <th>DaysSinceLastRBCwithPlasmaRegistration</th>\n      <th>DaysSinceLastRBCwithPlateletsRegistration</th>\n      <th>...</th>\n      <th>TargetRBCwithPlasmaRegistrations</th>\n      <th>TargetRBCwithPlateletsRegistrations</th>\n      <th>TargetRBCwithPlateletsandPlasmaRegistrations</th>\n      <th>TargetSingleUnitRecoveryRegistrations</th>\n      <th>TargetWholeBloodRegistrations</th>\n      <th>TargetPlateletRegistrations</th>\n      <th>DonationsPerDay</th>\n      <th>CutoffDate</th>\n      <th>RegisteredInTargetPeriod</th>\n      <th>RegisteredForPlateletsInTargetPeriod</th>\n    </tr>\n  </thead>\n  <tbody>\n    <tr>\n      <th>0</th>\n      <td>54260</td>\n      <td>32</td>\n      <td>32</td>\n      <td>1</td>\n      <td>0.0</td>\n      <td>0.0</td>\n      <td>0.0</td>\n      <td>0.0</td>\n      <td>0.0</td>\n      <td>0.0</td>\n      <td>...</td>\n      <td>0.0</td>\n      <td>0.0</td>\n      <td>0.0</td>\n      <td>0.0</td>\n      <td>0.0</td>\n      <td>0.0</td>\n      <td>0.031250</td>\n      <td>2016-03-31 23:59:59</td>\n      <td>0</td>\n      <td>0</td>\n    </tr>\n    <tr>\n      <th>1</th>\n      <td>54261</td>\n      <td>308</td>\n      <td>308</td>\n      <td>1</td>\n      <td>0.0</td>\n      <td>0.0</td>\n      <td>0.0</td>\n      <td>0.0</td>\n      <td>0.0</td>\n      <td>0.0</td>\n      <td>...</td>\n      <td>0.0</td>\n      <td>0.0</td>\n      <td>0.0</td>\n      <td>0.0</td>\n      <td>0.0</td>\n      <td>0.0</td>\n      <td>0.003247</td>\n      <td>2016-03-31 23:59:59</td>\n      <td>0</td>\n      <td>0</td>\n    </tr>\n    <tr>\n      <th>2</th>\n      <td>54273</td>\n      <td>165</td>\n      <td>165</td>\n      <td>1</td>\n      <td>0.0</td>\n      <td>0.0</td>\n      <td>0.0</td>\n      <td>0.0</td>\n      <td>0.0</td>\n      <td>0.0</td>\n      <td>...</td>\n      <td>0.0</td>\n      <td>0.0</td>\n      <td>0.0</td>\n      <td>0.0</td>\n      <td>1.0</td>\n      <td>0.0</td>\n      <td>0.006061</td>\n      <td>2016-03-31 23:59:59</td>\n      <td>1</td>\n      <td>0</td>\n    </tr>\n    <tr>\n      <th>3</th>\n      <td>54330</td>\n      <td>100</td>\n      <td>301</td>\n      <td>2</td>\n      <td>301.0</td>\n      <td>0.0</td>\n      <td>0.0</td>\n      <td>0.0</td>\n      <td>0.0</td>\n      <td>0.0</td>\n      <td>...</td>\n      <td>0.0</td>\n      <td>0.0</td>\n      <td>0.0</td>\n      <td>0.0</td>\n      <td>0.0</td>\n      <td>0.0</td>\n      <td>0.006645</td>\n      <td>2016-03-31 23:59:59</td>\n      <td>0</td>\n      <td>0</td>\n    </tr>\n    <tr>\n      <th>4</th>\n      <td>54354</td>\n      <td>200</td>\n      <td>200</td>\n      <td>1</td>\n      <td>0.0</td>\n      <td>0.0</td>\n      <td>0.0</td>\n      <td>0.0</td>\n      <td>0.0</td>\n      <td>0.0</td>\n      <td>...</td>\n      <td>0.0</td>\n      <td>0.0</td>\n      <td>0.0</td>\n      <td>0.0</td>\n      <td>1.0</td>\n      <td>0.0</td>\n      <td>0.005000</td>\n      <td>2016-03-31 23:59:59</td>\n      <td>1</td>\n      <td>0</td>\n    </tr>\n  </tbody>\n</table>\n<p>5 rows × 52 columns</p>\n</div>"
     },
     "metadata": {},
     "execution_count": 4
    }
   ],
   "source": [
    "data.head()"
   ]
  },
  {
   "cell_type": "code",
   "execution_count": 5,
   "metadata": {},
   "outputs": [
    {
     "output_type": "execute_result",
     "data": {
      "text/plain": "['Random_ID',\n 'DaysSinceLastRegistration',\n 'DaysSinceFirstRegistration',\n 'PastRegistrations',\n 'DaysSinceLast2UnitsRBCRegistration',\n 'DaysSinceLastPlasmaApheresisRegistration',\n 'DaysSinceLastPlateletApheresisRegistration',\n 'DaysSinceLastPlateletsandConcurrentPlasmaRegistration',\n 'DaysSinceLastRBCwithPlasmaRegistration',\n 'DaysSinceLastRBCwithPlateletsRegistration',\n 'DaysSinceLastRBCwithPlateletsandPlasmaRegistration',\n 'DaysSinceLastSingleUnitRecoveryRegistration',\n 'DaysSinceLastWholeBloodRegistration',\n 'DaysEligible',\n 'PercentOfTargetPeriodEligible',\n 'LastDonationLocation_Center',\n 'LastDonationType_2UnitsRBC',\n 'LastDonationType_PlasmaApheresis',\n 'LastDonationType_PlateletApheresis',\n 'LastDonationType_PlateletsandConcurrentPlasma',\n 'LastDonationType_RBCwithPlasma',\n 'LastDonationType_RBCwithPlatelets',\n 'LastDonationType_RBCwithPlateletsandPlasma',\n 'LastDonationType_SingleUnitRecovery',\n 'LastDonationType_WholeBlood',\n 'Past2UnitsRBCRegistrations',\n 'PastPlasmaApheresisRegistrations',\n 'PastPlateletApheresisRegistrations',\n 'PastPlateletsandConcurrentPlasmaRegistrations',\n 'PastRBCwithPlasmaRegistrations',\n 'PastRBCwithPlateletsRegistrations',\n 'PastRBCwithPlateletsandPlasmaRegistrations',\n 'PastSingleUnitRecoveryRegistrations',\n 'PastWholeBloodRegistrations',\n 'PastCenterRegistrations',\n 'PastMobileRegistrations',\n 'ModalDonationLocation_Center',\n 'TargetRegistrations',\n 'Target2UnitsRBCRegistrations',\n 'TargetPlasmaApheresisRegistrations',\n 'TargetPlateletApheresisRegistrations',\n 'TargetPlateletsandConcurrentPlasmaRegistrations',\n 'TargetRBCwithPlasmaRegistrations',\n 'TargetRBCwithPlateletsRegistrations',\n 'TargetRBCwithPlateletsandPlasmaRegistrations',\n 'TargetSingleUnitRecoveryRegistrations',\n 'TargetWholeBloodRegistrations',\n 'TargetPlateletRegistrations',\n 'DonationsPerDay',\n 'CutoffDate',\n 'RegisteredInTargetPeriod',\n 'RegisteredForPlateletsInTargetPeriod']"
     },
     "metadata": {},
     "execution_count": 5
    }
   ],
   "source": [
    "list(data.columns)"
   ]
  },
  {
   "cell_type": "code",
   "execution_count": 6,
   "metadata": {
    "tags": []
   },
   "outputs": [
    {
     "output_type": "stream",
     "name": "stdout",
     "text": "['DaysSinceLastRegistration', 'DaysSinceFirstRegistration', 'PastRegistrations', 'DaysEligible', 'LastDonationLocation_Center', 'LastDonationType_WholeBlood', 'Past2UnitsRBCRegistrations', 'PastPlasmaApheresisRegistrations', 'PastPlateletApheresisRegistrations', 'PastPlateletsandConcurrentPlasmaRegistrations', 'PastRBCwithPlasmaRegistrations', 'PastRBCwithPlateletsRegistrations', 'PastRBCwithPlateletsandPlasmaRegistrations', 'PastSingleUnitRecoveryRegistrations', 'PastWholeBloodRegistrations', 'PastCenterRegistrations', 'PastMobileRegistrations', 'ModalDonationLocation_Center', 'DonationsPerDay']\n"
    }
   ],
   "source": [
    "# Choose target variable\n",
    "target_name = 'RegisteredInTargetPeriod'\n",
    "# target_name = 'RegisteredForPlateletsInTargetPeriod'\n",
    "\n",
    "cols_to_exclude = ['Random_ID', 'CutoffDate', \n",
    "                   'DaysSinceLast2UnitsRBCRegistration', 'DaysSinceLastPlasmaApheresisRegistration', 'DaysSinceLastPlateletApheresisRegistration',\n",
    "                   'DaysSinceLastPlateletsandConcurrentPlasmaRegistration', 'DaysSinceLastRBCwithPlasmaRegistration', 'DaysSinceLastRBCwithPlateletsRegistration', \n",
    "                   'DaysSinceLastRBCwithPlateletsandPlasmaRegistration', 'DaysSinceLastSingleUnitRecoveryRegistration', 'DaysSinceLastWholeBloodRegistration',\n",
    "                   'LastDonationType_2UnitsRBC', 'LastDonationType_PlasmaApheresis', 'LastDonationType_PlateletApheresis', 'LastDonationType_PlateletsandConcurrentPlasma', \n",
    "                   'LastDonationType_RBCwithPlasma', 'LastDonationType_RBCwithPlatelets', 'LastDonationType_RBCwithPlateletsandPlasma', 'LastDonationType_SingleUnitRecovery']\n",
    "features = [col for col in list(data.columns) if 'Target' not in col and col not in cols_to_exclude]\n",
    "print(features)"
   ]
  },
  {
   "cell_type": "markdown",
   "metadata": {},
   "source": [
    "# Downsample data"
   ]
  },
  {
   "cell_type": "code",
   "execution_count": 7,
   "metadata": {},
   "outputs": [
    {
     "output_type": "execute_result",
     "data": {
      "text/plain": "1    159303\n0    159303\nName: RegisteredInTargetPeriod, dtype: int64"
     },
     "metadata": {},
     "execution_count": 7
    }
   ],
   "source": [
    "from sklearn.utils import resample\n",
    "\n",
    "# Separate majority (negative) and minority (positive) targets\n",
    "data_majority = data[data[target_name] == 0]\n",
    "data_minority = data[data[target_name] == 1]\n",
    "\n",
    "# Downsample the majority\n",
    "data_majority_downsampled = resample(data_majority, replace=False, n_samples=data[target_name].value_counts()[1], random_state=503)\n",
    "\n",
    "# Combine into a new dataset\n",
    "data_downsampled = pd.concat([data_majority_downsampled, data_minority])\n",
    "\n",
    "data_downsampled[target_name].value_counts()"
   ]
  },
  {
   "cell_type": "markdown",
   "metadata": {},
   "source": [
    "# Feature selection"
   ]
  },
  {
   "cell_type": "code",
   "execution_count": 8,
   "metadata": {},
   "outputs": [],
   "source": [
    "X = data_downsampled.loc[:, features]\n",
    "y = data_downsampled.loc[:, target_name]"
   ]
  },
  {
   "cell_type": "code",
   "execution_count": 9,
   "metadata": {},
   "outputs": [],
   "source": [
    "clf_logreg = LogisticRegression(penalty='none', random_state=503)"
   ]
  },
  {
   "cell_type": "code",
   "execution_count": 10,
   "metadata": {},
   "outputs": [],
   "source": [
    "X_train, X_test, y_train, y_text = train_test_split(X, y, test_size=0.2, random_state=503)"
   ]
  },
  {
   "cell_type": "code",
   "execution_count": 11,
   "metadata": {},
   "outputs": [
    {
     "output_type": "execute_result",
     "data": {
      "text/plain": "RFECV(cv=StratifiedKFold(n_splits=2, random_state=None, shuffle=False),\n      estimator=LogisticRegression(C=1.0, class_weight=None, dual=False,\n                                   fit_intercept=True, intercept_scaling=1,\n                                   l1_ratio=None, max_iter=100,\n                                   multi_class='auto', n_jobs=None,\n                                   penalty='none', random_state=503,\n                                   solver='lbfgs', tol=0.0001, verbose=0,\n                                   warm_start=False),\n      min_features_to_select=1, n_jobs=None, scoring='accuracy', step=1,\n      verbose=0)"
     },
     "metadata": {},
     "execution_count": 11
    }
   ],
   "source": [
    "rfecv = RFECV(estimator=clf_logreg, step=1, cv=StratifiedKFold(2), scoring='accuracy')\n",
    "rfecv.fit(X_train, y_train)"
   ]
  },
  {
   "cell_type": "code",
   "execution_count": 12,
   "metadata": {
    "tags": []
   },
   "outputs": [
    {
     "output_type": "stream",
     "name": "stdout",
     "text": "Optimal number of features: 19\n"
    }
   ],
   "source": [
    "print(f\"Optimal number of features: {rfecv.n_features_}\")"
   ]
  },
  {
   "cell_type": "code",
   "execution_count": 13,
   "metadata": {},
   "outputs": [
    {
     "output_type": "execute_result",
     "data": {
      "text/plain": "Index(['DaysSinceLastRegistration', 'DaysSinceFirstRegistration',\n       'PastRegistrations', 'DaysEligible', 'LastDonationLocation_Center',\n       'LastDonationType_WholeBlood', 'Past2UnitsRBCRegistrations',\n       'PastPlasmaApheresisRegistrations',\n       'PastPlateletApheresisRegistrations',\n       'PastPlateletsandConcurrentPlasmaRegistrations',\n       'PastRBCwithPlasmaRegistrations', 'PastRBCwithPlateletsRegistrations',\n       'PastRBCwithPlateletsandPlasmaRegistrations',\n       'PastSingleUnitRecoveryRegistrations', 'PastWholeBloodRegistrations',\n       'PastCenterRegistrations', 'PastMobileRegistrations',\n       'ModalDonationLocation_Center', 'DonationsPerDay'],\n      dtype='object')"
     },
     "metadata": {},
     "execution_count": 13
    }
   ],
   "source": [
    "X_train.columns[rfecv.ranking_ == 1]"
   ]
  }
 ],
 "metadata": {
  "language_info": {
   "codemirror_mode": {
    "name": "ipython",
    "version": 3
   },
   "file_extension": ".py",
   "mimetype": "text/x-python",
   "name": "python",
   "nbconvert_exporter": "python",
   "pygments_lexer": "ipython3",
   "version": "3.7.7-final"
  },
  "orig_nbformat": 2,
  "kernelspec": {
   "name": "python3",
   "display_name": "Python 3"
  }
 },
 "nbformat": 4,
 "nbformat_minor": 2
}