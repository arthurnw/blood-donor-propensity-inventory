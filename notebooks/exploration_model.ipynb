{
 "cells": [
  {
   "cell_type": "markdown",
   "metadata": {},
   "source": [
    "# Overview"
   ]
  },
  {
   "cell_type": "markdown",
   "metadata": {},
   "source": [
    "This notebook is used to experiment with various modeling techniques."
   ]
  },
  {
   "cell_type": "code",
   "execution_count": 1,
   "metadata": {},
   "outputs": [],
   "source": [
    "# Import libraries\n",
    "import json\n",
    "import pandas as pd\n",
    "import numpy as np\n",
    "from sklearn.model_selection import train_test_split\n",
    "from sklearn.linear_model import LogisticRegression"
   ]
  },
  {
   "cell_type": "code",
   "execution_count": 2,
   "metadata": {},
   "outputs": [
    {
     "output_type": "stream",
     "name": "stdout",
     "text": "{'Random_ID': 'int64', 'DaysSinceLastRegistration': 'int64', 'DaysSinceFirstRegistration': 'int64', 'PastRegistrations': 'int64', 'DaysSinceLast2UnitsRBCRegistration': 'float64', 'DaysSinceLastPlasmaApheresisRegistration': 'float64', 'DaysSinceLastPlateletApheresisRegistration': 'float64', 'DaysSinceLastPlateletsandConcurrentPlasmaRegistration': 'float64', 'DaysSinceLastRBCwithPlasmaRegistration': 'float64', 'DaysSinceLastRBCwithPlateletsRegistration': 'float64', 'DaysSinceLastRBCwithPlateletsandPlasmaRegistration': 'float64', 'DaysSinceLastSingleUnitRecoveryRegistration': 'float64', 'DaysSinceLastWholeBloodRegistration': 'float64', 'Past2UnitsRBCRegistrations': 'float64', 'PastPlasmaApheresisRegistrations': 'float64', 'PastPlateletApheresisRegistrations': 'float64', 'PastPlateletsandConcurrentPlasmaRegistrations': 'float64', 'PastRBCwithPlasmaRegistrations': 'float64', 'PastRBCwithPlateletsRegistrations': 'float64', 'PastRBCwithPlateletsandPlasmaRegistrations': 'float64', 'PastSingleUnitRecoveryRegistrations': 'float64', 'PastWholeBloodRegistrations': 'float64', 'PastCenterRegistrations': 'float64', 'PastMobileRegistrations': 'float64', 'ModalDonationLocation': 'object', 'TotalRegistrations': 'int64', 'TargetRegistrations': 'float64', 'Target2UnitsRBCRegistrations': 'float64', 'TargetPlasmaApheresisRegistrations': 'float64', 'TargetPlateletApheresisRegistrations': 'float64', 'TargetPlateletsandConcurrentPlasmaRegistrations': 'float64', 'TargetRBCwithPlasmaRegistrations': 'float64', 'TargetRBCwithPlateletsRegistrations': 'float64', 'TargetRBCwithPlateletsandPlasmaRegistrations': 'float64', 'TargetSingleUnitRecoveryRegistrations': 'float64', 'TargetWholeBloodRegistrations': 'float64', 'RegisteredInTargetPeriod': 'int64'}\n['CutoffDate', 'TargetPeriodEndDate']\n"
    }
   ],
   "source": [
    "# Load data\n",
    "with open('../data/processed/dtypes.json') as in_file:\n",
    "    non_date_dtypes = json.load(in_file)\n",
    "\n",
    "with open('../data/processed/date_types.json') as in_file:\n",
    "    date_dtypes = json.load(in_file)\n",
    "\n",
    "date_cols = list(date_dtypes)\n",
    "print(non_date_dtypes)\n",
    "print(date_cols)"
   ]
  },
  {
   "cell_type": "code",
   "execution_count": 3,
   "metadata": {},
   "outputs": [],
   "source": [
    "data = pd.read_csv('../data/processed/data.csv', dtype=non_date_dtypes, parse_dates=date_cols)"
   ]
  },
  {
   "cell_type": "code",
   "execution_count": 4,
   "metadata": {},
   "outputs": [
    {
     "output_type": "execute_result",
     "data": {
      "text/plain": "   Random_ID  DaysSinceLastRegistration  DaysSinceFirstRegistration  \\\n0      54260                         32                          32   \n1      54261                        308                         308   \n2      54273                        165                         165   \n3      54330                        100                         301   \n4      54354                        200                         200   \n\n   PastRegistrations  DaysSinceLast2UnitsRBCRegistration  \\\n0                  1                                 0.0   \n1                  1                                 0.0   \n2                  1                                 0.0   \n3                  2                               301.0   \n4                  1                                 0.0   \n\n   DaysSinceLastPlasmaApheresisRegistration  \\\n0                                       0.0   \n1                                       0.0   \n2                                       0.0   \n3                                       0.0   \n4                                       0.0   \n\n   DaysSinceLastPlateletApheresisRegistration  \\\n0                                         0.0   \n1                                         0.0   \n2                                         0.0   \n3                                         0.0   \n4                                         0.0   \n\n   DaysSinceLastPlateletsandConcurrentPlasmaRegistration  \\\n0                                                0.0       \n1                                                0.0       \n2                                                0.0       \n3                                                0.0       \n4                                                0.0       \n\n   DaysSinceLastRBCwithPlasmaRegistration  \\\n0                                     0.0   \n1                                     0.0   \n2                                     0.0   \n3                                     0.0   \n4                                     0.0   \n\n   DaysSinceLastRBCwithPlateletsRegistration  ...  \\\n0                                        0.0  ...   \n1                                        0.0  ...   \n2                                        0.0  ...   \n3                                        0.0  ...   \n4                                        0.0  ...   \n\n   TargetPlateletApheresisRegistrations  \\\n0                                   0.0   \n1                                   0.0   \n2                                   0.0   \n3                                   0.0   \n4                                   0.0   \n\n   TargetPlateletsandConcurrentPlasmaRegistrations  \\\n0                                              0.0   \n1                                              0.0   \n2                                              0.0   \n3                                              0.0   \n4                                              0.0   \n\n   TargetRBCwithPlasmaRegistrations  TargetRBCwithPlateletsRegistrations  \\\n0                               0.0                                  0.0   \n1                               0.0                                  0.0   \n2                               0.0                                  0.0   \n3                               0.0                                  0.0   \n4                               0.0                                  0.0   \n\n   TargetRBCwithPlateletsandPlasmaRegistrations  \\\n0                                           0.0   \n1                                           0.0   \n2                                           0.0   \n3                                           0.0   \n4                                           0.0   \n\n   TargetSingleUnitRecoveryRegistrations  TargetWholeBloodRegistrations  \\\n0                                    0.0                            0.0   \n1                                    0.0                            0.0   \n2                                    0.0                            1.0   \n3                                    0.0                            0.0   \n4                                    0.0                            1.0   \n\n   RegisteredInTargetPeriod          CutoffDate  TargetPeriodEndDate  \n0                         0 2016-03-31 23:59:59  2016-04-30 23:59:59  \n1                         0 2016-03-31 23:59:59  2016-04-30 23:59:59  \n2                         1 2016-03-31 23:59:59  2016-04-30 23:59:59  \n3                         0 2016-03-31 23:59:59  2016-04-30 23:59:59  \n4                         1 2016-03-31 23:59:59  2016-04-30 23:59:59  \n\n[5 rows x 39 columns]",
      "text/html": "<div>\n<style scoped>\n    .dataframe tbody tr th:only-of-type {\n        vertical-align: middle;\n    }\n\n    .dataframe tbody tr th {\n        vertical-align: top;\n    }\n\n    .dataframe thead th {\n        text-align: right;\n    }\n</style>\n<table border=\"1\" class=\"dataframe\">\n  <thead>\n    <tr style=\"text-align: right;\">\n      <th></th>\n      <th>Random_ID</th>\n      <th>DaysSinceLastRegistration</th>\n      <th>DaysSinceFirstRegistration</th>\n      <th>PastRegistrations</th>\n      <th>DaysSinceLast2UnitsRBCRegistration</th>\n      <th>DaysSinceLastPlasmaApheresisRegistration</th>\n      <th>DaysSinceLastPlateletApheresisRegistration</th>\n      <th>DaysSinceLastPlateletsandConcurrentPlasmaRegistration</th>\n      <th>DaysSinceLastRBCwithPlasmaRegistration</th>\n      <th>DaysSinceLastRBCwithPlateletsRegistration</th>\n      <th>...</th>\n      <th>TargetPlateletApheresisRegistrations</th>\n      <th>TargetPlateletsandConcurrentPlasmaRegistrations</th>\n      <th>TargetRBCwithPlasmaRegistrations</th>\n      <th>TargetRBCwithPlateletsRegistrations</th>\n      <th>TargetRBCwithPlateletsandPlasmaRegistrations</th>\n      <th>TargetSingleUnitRecoveryRegistrations</th>\n      <th>TargetWholeBloodRegistrations</th>\n      <th>RegisteredInTargetPeriod</th>\n      <th>CutoffDate</th>\n      <th>TargetPeriodEndDate</th>\n    </tr>\n  </thead>\n  <tbody>\n    <tr>\n      <th>0</th>\n      <td>54260</td>\n      <td>32</td>\n      <td>32</td>\n      <td>1</td>\n      <td>0.0</td>\n      <td>0.0</td>\n      <td>0.0</td>\n      <td>0.0</td>\n      <td>0.0</td>\n      <td>0.0</td>\n      <td>...</td>\n      <td>0.0</td>\n      <td>0.0</td>\n      <td>0.0</td>\n      <td>0.0</td>\n      <td>0.0</td>\n      <td>0.0</td>\n      <td>0.0</td>\n      <td>0</td>\n      <td>2016-03-31 23:59:59</td>\n      <td>2016-04-30 23:59:59</td>\n    </tr>\n    <tr>\n      <th>1</th>\n      <td>54261</td>\n      <td>308</td>\n      <td>308</td>\n      <td>1</td>\n      <td>0.0</td>\n      <td>0.0</td>\n      <td>0.0</td>\n      <td>0.0</td>\n      <td>0.0</td>\n      <td>0.0</td>\n      <td>...</td>\n      <td>0.0</td>\n      <td>0.0</td>\n      <td>0.0</td>\n      <td>0.0</td>\n      <td>0.0</td>\n      <td>0.0</td>\n      <td>0.0</td>\n      <td>0</td>\n      <td>2016-03-31 23:59:59</td>\n      <td>2016-04-30 23:59:59</td>\n    </tr>\n    <tr>\n      <th>2</th>\n      <td>54273</td>\n      <td>165</td>\n      <td>165</td>\n      <td>1</td>\n      <td>0.0</td>\n      <td>0.0</td>\n      <td>0.0</td>\n      <td>0.0</td>\n      <td>0.0</td>\n      <td>0.0</td>\n      <td>...</td>\n      <td>0.0</td>\n      <td>0.0</td>\n      <td>0.0</td>\n      <td>0.0</td>\n      <td>0.0</td>\n      <td>0.0</td>\n      <td>1.0</td>\n      <td>1</td>\n      <td>2016-03-31 23:59:59</td>\n      <td>2016-04-30 23:59:59</td>\n    </tr>\n    <tr>\n      <th>3</th>\n      <td>54330</td>\n      <td>100</td>\n      <td>301</td>\n      <td>2</td>\n      <td>301.0</td>\n      <td>0.0</td>\n      <td>0.0</td>\n      <td>0.0</td>\n      <td>0.0</td>\n      <td>0.0</td>\n      <td>...</td>\n      <td>0.0</td>\n      <td>0.0</td>\n      <td>0.0</td>\n      <td>0.0</td>\n      <td>0.0</td>\n      <td>0.0</td>\n      <td>0.0</td>\n      <td>0</td>\n      <td>2016-03-31 23:59:59</td>\n      <td>2016-04-30 23:59:59</td>\n    </tr>\n    <tr>\n      <th>4</th>\n      <td>54354</td>\n      <td>200</td>\n      <td>200</td>\n      <td>1</td>\n      <td>0.0</td>\n      <td>0.0</td>\n      <td>0.0</td>\n      <td>0.0</td>\n      <td>0.0</td>\n      <td>0.0</td>\n      <td>...</td>\n      <td>0.0</td>\n      <td>0.0</td>\n      <td>0.0</td>\n      <td>0.0</td>\n      <td>0.0</td>\n      <td>0.0</td>\n      <td>1.0</td>\n      <td>1</td>\n      <td>2016-03-31 23:59:59</td>\n      <td>2016-04-30 23:59:59</td>\n    </tr>\n  </tbody>\n</table>\n<p>5 rows × 39 columns</p>\n</div>"
     },
     "metadata": {},
     "execution_count": 4
    }
   ],
   "source": [
    "data.head()"
   ]
  },
  {
   "cell_type": "code",
   "execution_count": 5,
   "metadata": {},
   "outputs": [],
   "source": [
    "# Construct feature set (remove date/time columns)\n",
    "# feature_names =list(data.columns).remove(['Random_ID', 'CutoffDate', 'TargetPeriodEndDate'])\n",
    "feature_names = ['DaysSinceLastRegistration', 'PastRegistrations', 'DaysSinceFirstRegistration']\n",
    "\n",
    "X = data.loc[:, ['Random_ID'] + feature_names]\n",
    "y = data.loc[:, 'RegisteredInTargetPeriod']"
   ]
  },
  {
   "cell_type": "code",
   "execution_count": 6,
   "metadata": {},
   "outputs": [
    {
     "output_type": "stream",
     "name": "stdout",
     "text": "Training feature set size: (652622, 4)\nTraining response set size: (652622,)\nTest feature set size: (163156, 4)\nTest response set size: (163156,)\n"
    }
   ],
   "source": [
    "# Split data randomly\n",
    "X_train, X_test, y_train, y_test = train_test_split(X, y, test_size=0.2, random_state=503)\n",
    "print(f\"Training feature set size: {X_train.shape}\")\n",
    "print(f\"Training response set size: {y_train.shape}\")\n",
    "print(f\"Test feature set size: {X_test.shape}\")\n",
    "print(f\"Test response set size: {y_test.shape}\")"
   ]
  },
  {
   "cell_type": "code",
   "execution_count": 7,
   "metadata": {},
   "outputs": [],
   "source": [
    "# Train model on training data\n",
    "clf_logreg = LogisticRegression(penalty='none', random_state=503).fit(X_train, y_train)"
   ]
  },
  {
   "cell_type": "code",
   "execution_count": 8,
   "metadata": {},
   "outputs": [
    {
     "output_type": "execute_result",
     "data": {
      "text/plain": "0.916913873838535"
     },
     "metadata": {},
     "execution_count": 8
    }
   ],
   "source": [
    "# Test on test data\n",
    "clf_logreg.score(X_test, y_test)"
   ]
  },
  {
   "cell_type": "code",
   "execution_count": null,
   "metadata": {},
   "outputs": [],
   "source": []
  }
 ],
 "metadata": {
  "language_info": {
   "codemirror_mode": {
    "name": "ipython",
    "version": 3
   },
   "file_extension": ".py",
   "mimetype": "text/x-python",
   "name": "python",
   "nbconvert_exporter": "python",
   "pygments_lexer": "ipython3",
   "version": "3.7.7-final"
  },
  "orig_nbformat": 2,
  "kernelspec": {
   "name": "python3",
   "display_name": "Python 3"
  }
 },
 "nbformat": 4,
 "nbformat_minor": 2
}